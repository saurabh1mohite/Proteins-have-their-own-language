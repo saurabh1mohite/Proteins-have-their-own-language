{
 "cells": [
  {
   "cell_type": "code",
   "execution_count": 1,
   "metadata": {},
   "outputs": [
    {
     "name": "stdout",
     "output_type": "stream",
     "text": [
      "47606\n",
      "15869\n"
     ]
    }
   ],
   "source": [
    "DIR = './data/sequences/dbow/'\n",
    "import pickle\n",
    "\n",
    "with open(DIR + 'train/regressors.pkl', 'rb') as fp:\n",
    "    X_train = pickle.load(fp)\n",
    "print(len(X_train))\n",
    "with open(DIR + 'test/regressors.pkl', 'rb') as fp:\n",
    "    X_test = pickle.load(fp)\n",
    "print(len(X_test))\n",
    "with open(DIR + 'train/targets.pkl', 'rb') as fp:\n",
    "    y_train = pickle.load(fp)\n",
    "with open(DIR + 'test/targets.pkl', 'rb') as fp:\n",
    "    y_test = pickle.load(fp)\n",
    "pivot = len(X_train)"
   ]
  },
  {
   "cell_type": "code",
   "execution_count": 2,
   "metadata": {},
   "outputs": [],
   "source": [
    "from sklearn.preprocessing import MinMaxScaler, StandardScaler, RobustScaler\n",
    "scaler = StandardScaler()\n",
    "from tqdm import tqdm_notebook\n",
    "X = X_train + X_test\n",
    "y = y_train + y_test\n",
    "X = scaler.fit_transform(X)\n",
    "X_train = X[:pivot]\n",
    "X_test = X[pivot:]\n",
    "y_train = y[:pivot]\n",
    "y_test = y[pivot:]"
   ]
  },
  {
   "cell_type": "code",
   "execution_count": 3,
   "metadata": {},
   "outputs": [
    {
     "name": "stdout",
     "output_type": "stream",
     "text": [
      "47606 47606 15869 15869\n"
     ]
    }
   ],
   "source": [
    "X_test = X_test[:int(len(y_test))]\n",
    "y_test = y_test[:int(len(y_test))]\n",
    "print(len(X_train),len(y_train), len(X_test), len(y_test))"
   ]
  },
  {
   "cell_type": "code",
   "execution_count": 4,
   "metadata": {},
   "outputs": [
    {
     "data": {
      "text/plain": [
       "40"
      ]
     },
     "execution_count": 4,
     "metadata": {},
     "output_type": "execute_result"
    }
   ],
   "source": [
    "len(list(set(y_test)))"
   ]
  },
  {
   "cell_type": "code",
   "execution_count": 15,
   "metadata": {
    "scrolled": true
   },
   "outputs": [
    {
     "name": "stdout",
     "output_type": "stream",
     "text": [
      "1.0 0.8139139202218161\n"
     ]
    }
   ],
   "source": [
    "from sklearn.ensemble import ExtraTreesClassifier\n",
    "clf1 = ExtraTreesClassifier(n_estimators=100, max_features=\"auto\",random_state=0).fit(X_train, y_train)\n",
    "print(clf1.score(X_train, y_train), clf1.score(X_test, y_test))"
   ]
  },
  {
   "cell_type": "code",
   "execution_count": 16,
   "metadata": {},
   "outputs": [],
   "source": [
    "with open('./data/document_embedding_based_models/extra_trees.pkl', 'wb') as fp:\n",
    "    pickle.dump(clf1, fp)"
   ]
  },
  {
   "cell_type": "code",
   "execution_count": 17,
   "metadata": {},
   "outputs": [
    {
     "name": "stdout",
     "output_type": "stream",
     "text": [
      "0.5542368608998866 0.5569979204738799\n"
     ]
    }
   ],
   "source": [
    "from sklearn.naive_bayes import GaussianNB\n",
    "clf2 = GaussianNB().fit(X_train, y_train)\n",
    "print(clf2.score(X_train, y_train), clf2.score(X_test, y_test))"
   ]
  },
  {
   "cell_type": "code",
   "execution_count": 18,
   "metadata": {},
   "outputs": [],
   "source": [
    "with open('./data/document_embedding_based_models/GaussianNB.pkl', 'wb') as fp:\n",
    "    pickle.dump(clf2, fp)"
   ]
  },
  {
   "cell_type": "code",
   "execution_count": 19,
   "metadata": {},
   "outputs": [
    {
     "name": "stdout",
     "output_type": "stream",
     "text": [
      "0.6759021972020334 0.6296553027916063\n"
     ]
    }
   ],
   "source": [
    "from sklearn.linear_model import LogisticRegression\n",
    "clf3 = LogisticRegression(random_state=0, max_iter=40000).fit(X_train, y_train)\n",
    "print(clf3.score(X_train, y_train), clf3.score(X_test, y_test))"
   ]
  },
  {
   "cell_type": "code",
   "execution_count": 20,
   "metadata": {},
   "outputs": [],
   "source": [
    "with open('./data/document_embedding_based_models/logreg.pkl', 'wb') as fp:\n",
    "    pickle.dump(clf3, fp)"
   ]
  },
  {
   "cell_type": "code",
   "execution_count": 5,
   "metadata": {},
   "outputs": [
    {
     "name": "stdout",
     "output_type": "stream",
     "text": [
      "0.766836113094988 0.6689142353015313\n"
     ]
    }
   ],
   "source": [
    "from sklearn.svm import SVC\n",
    "clf4 = SVC(kernel='linear').fit(X_train, y_train)\n",
    "print(clf4.score(X_train, y_train), clf4.score(X_test, y_test))"
   ]
  },
  {
   "cell_type": "code",
   "execution_count": 6,
   "metadata": {},
   "outputs": [],
   "source": [
    "with open('./data/document_embedding_based_models/svm.pkl', 'wb') as fp:\n",
    "    pickle.dump(clf4, fp)"
   ]
  },
  {
   "cell_type": "code",
   "execution_count": 7,
   "metadata": {},
   "outputs": [
    {
     "name": "stdout",
     "output_type": "stream",
     "text": [
      "1.0 0.8028861301909384\n"
     ]
    }
   ],
   "source": [
    "from sklearn.ensemble import RandomForestClassifier\n",
    "clf5 = RandomForestClassifier(n_estimators=100, max_features=\"auto\",random_state=0).fit(X_train, y_train)\n",
    "print(clf5.score(X_train, y_train), clf5.score(X_test, y_test))"
   ]
  },
  {
   "cell_type": "code",
   "execution_count": 8,
   "metadata": {},
   "outputs": [],
   "source": [
    "with open('./data/document_embedding_based_models/random_forest.pkl', 'wb') as fp:\n",
    "    pickle.dump(clf5, fp)"
   ]
  },
  {
   "cell_type": "code",
   "execution_count": 9,
   "metadata": {},
   "outputs": [
    {
     "name": "stdout",
     "output_type": "stream",
     "text": [
      "1.0 0.8276513958031382\n"
     ]
    }
   ],
   "source": [
    "from sklearn.neighbors import KNeighborsClassifier\n",
    "clf6 = KNeighborsClassifier(n_neighbors= 7, weights='distance', algorithm='auto', metric='euclidean', n_jobs=-1).fit(X_train, y_train)\n",
    "print(clf6.score(X_train, y_train), clf6.score(X_test, y_test))"
   ]
  },
  {
   "cell_type": "code",
   "execution_count": 10,
   "metadata": {},
   "outputs": [],
   "source": [
    "with open('./data/document_embedding_based_models/knn.pkl', 'wb') as fp:\n",
    "    pickle.dump(clf4, fp)"
   ]
  },
  {
   "cell_type": "code",
   "execution_count": 11,
   "metadata": {
    "scrolled": true
   },
   "outputs": [
    {
     "name": "stdout",
     "output_type": "stream",
     "text": [
      "0.8317438978280048 0.8001764446404941\n"
     ]
    }
   ],
   "source": [
    "from sklearn.svm import SVC\n",
    "clf7 = SVC(kernel='rbf').fit(X_train, y_train)\n",
    "print(clf7.score(X_train, y_train), clf7.score(X_test, y_test))"
   ]
  },
  {
   "cell_type": "code",
   "execution_count": 13,
   "metadata": {},
   "outputs": [],
   "source": [
    "with open('./data/document_embedding_based_models/svm_rbf.pkl', 'wb') as fp:\n",
    "    pickle.dump(clf7, fp)"
   ]
  },
  {
   "cell_type": "code",
   "execution_count": 5,
   "metadata": {},
   "outputs": [
    {
     "name": "stdout",
     "output_type": "stream",
     "text": [
      "HEHE END !!\n"
     ]
    }
   ],
   "source": [
    "print('HEHE END !!')"
   ]
  },
  {
   "cell_type": "code",
   "execution_count": 14,
   "metadata": {},
   "outputs": [
    {
     "data": {
      "text/plain": [
       "{'ATPase alpha/beta chains family': 0,\n",
       " 'chaperonin (HSP60) family': 1,\n",
       " 'GHMP kinase famil': 2,\n",
       " 'transferase hexapeptide repeat family': 3,\n",
       " 'cytochrome b family': 4,\n",
       " 'class-II aminoacyl-tRNA synthetase family': 5,\n",
       " 'class-I aminoacyl-tRNA synthetase famil': 6,\n",
       " 'universal ribosomal protein uS15 family': 7,\n",
       " 'thiolase-like superfamil': 8,\n",
       " 'G-protein coupled receptor 1 family': 9,\n",
       " 'class-I aminoacyl-tRNA synthetase family': 10,\n",
       " 'universal ribosomal protein uL22 family': 11,\n",
       " 'universal ribosomal protein uS3 family': 12,\n",
       " 'universal ribosomal protein uL16 family': 13,\n",
       " 'class I-like SAM-binding methyltransferase superfamil': 14,\n",
       " 'aspartate/ornithine carbamoyltransferase superfamil': 15,\n",
       " 'universal ribosomal protein uS4 family': 16,\n",
       " 'heat shock protein 70 family': 17,\n",
       " 'methylthiotransferase famil': 18,\n",
       " 'protein kinase superfamil': 19,\n",
       " 'universal ribosomal protein uS12 family': 20,\n",
       " 'universal ribosomal protein uL14 family': 21,\n",
       " 'universal ribosomal protein uS7 family': 22,\n",
       " 'MurCDEF family': 23,\n",
       " 'metallo-dependent hydrolases superfamil': 24,\n",
       " 'universal ribosomal protein uL2 family': 25,\n",
       " 'HisA/HisF family': 26,\n",
       " 'TRAFAC class translation factor GTPase superfamil': 27,\n",
       " 'universal ribosomal protein uS2 family': 28,\n",
       " 'major facilitator superfamil': 29,\n",
       " 'universal ribosomal protein uS11 family': 30,\n",
       " 'radical SAM superfamil': 31,\n",
       " 'purine/pyrimidine phosphoribosyltransferase famil': 32,\n",
       " 'universal ribosomal protein uS8 family': 33,\n",
       " 'ABC transporter superfamil': 34,\n",
       " 'cytochrome P450 family': 35,\n",
       " 'universal ribosomal protein uS19 family': 36,\n",
       " 'class-II aminoacyl-tRNA synthetase famil': 37,\n",
       " 'methyltransferase superfamil': 38,\n",
       " 'TRAFAC class TrmE-Era-EngA-EngB-Septin-like GTPase superfamil': 39}"
      ]
     },
     "execution_count": 14,
     "metadata": {},
     "output_type": "execute_result"
    }
   ],
   "source": [
    "labels = list(set(y_train))\n",
    "label2idx = dict(zip(labels, [i for i in range(len(labels))]))\n",
    "with open('./data/uniprot/new_april_models/label2idx.pkl', 'wb') as pkl:\n",
    "    pickle.dump(label2idx, pkl)\n",
    "label2idx"
   ]
  },
  {
   "cell_type": "code",
   "execution_count": 19,
   "metadata": {},
   "outputs": [],
   "source": [
    "import pandas as pd\n",
    "df = pd.DataFrame(list(zip(list(label2idx.values()), list(label2idx.keys()))), columns=['Label', 'Protein Family'])\n",
    "df.to_csv('./data/Uniprot/new_april_models/family.csv')"
   ]
  },
  {
   "cell_type": "code",
   "execution_count": 20,
   "metadata": {},
   "outputs": [],
   "source": [
    "df['Frequency'] = 0"
   ]
  },
  {
   "cell_type": "code",
   "execution_count": 21,
   "metadata": {},
   "outputs": [
    {
     "data": {
      "text/html": [
       "<div>\n",
       "<style scoped>\n",
       "    .dataframe tbody tr th:only-of-type {\n",
       "        vertical-align: middle;\n",
       "    }\n",
       "\n",
       "    .dataframe tbody tr th {\n",
       "        vertical-align: top;\n",
       "    }\n",
       "\n",
       "    .dataframe thead th {\n",
       "        text-align: right;\n",
       "    }\n",
       "</style>\n",
       "<table border=\"1\" class=\"dataframe\">\n",
       "  <thead>\n",
       "    <tr style=\"text-align: right;\">\n",
       "      <th></th>\n",
       "      <th>Label</th>\n",
       "      <th>Protein Family</th>\n",
       "      <th>Frequency</th>\n",
       "    </tr>\n",
       "  </thead>\n",
       "  <tbody>\n",
       "    <tr>\n",
       "      <th>0</th>\n",
       "      <td>0</td>\n",
       "      <td>ATPase alpha/beta chains family</td>\n",
       "      <td>0</td>\n",
       "    </tr>\n",
       "    <tr>\n",
       "      <th>1</th>\n",
       "      <td>1</td>\n",
       "      <td>chaperonin (HSP60) family</td>\n",
       "      <td>0</td>\n",
       "    </tr>\n",
       "    <tr>\n",
       "      <th>2</th>\n",
       "      <td>2</td>\n",
       "      <td>GHMP kinase famil</td>\n",
       "      <td>0</td>\n",
       "    </tr>\n",
       "    <tr>\n",
       "      <th>3</th>\n",
       "      <td>3</td>\n",
       "      <td>transferase hexapeptide repeat family</td>\n",
       "      <td>0</td>\n",
       "    </tr>\n",
       "    <tr>\n",
       "      <th>4</th>\n",
       "      <td>4</td>\n",
       "      <td>cytochrome b family</td>\n",
       "      <td>0</td>\n",
       "    </tr>\n",
       "  </tbody>\n",
       "</table>\n",
       "</div>"
      ],
      "text/plain": [
       "   Label                         Protein Family  Frequency\n",
       "0      0        ATPase alpha/beta chains family          0\n",
       "1      1              chaperonin (HSP60) family          0\n",
       "2      2                      GHMP kinase famil          0\n",
       "3      3  transferase hexapeptide repeat family          0\n",
       "4      4                    cytochrome b family          0"
      ]
     },
     "execution_count": 21,
     "metadata": {},
     "output_type": "execute_result"
    }
   ],
   "source": [
    "y = y_train + y_test\n",
    "df.head()"
   ]
  },
  {
   "cell_type": "code",
   "execution_count": 22,
   "metadata": {},
   "outputs": [
    {
     "data": {
      "application/vnd.jupyter.widget-view+json": {
       "model_id": "ca85abe97fca4d999fdfb965527ea642",
       "version_major": 2,
       "version_minor": 0
      },
      "text/plain": [
       "HBox(children=(FloatProgress(value=0.0, max=63475.0), HTML(value='')))"
      ]
     },
     "metadata": {},
     "output_type": "display_data"
    },
    {
     "name": "stdout",
     "output_type": "stream",
     "text": [
      "\n"
     ]
    },
    {
     "data": {
      "text/html": [
       "<div>\n",
       "<style scoped>\n",
       "    .dataframe tbody tr th:only-of-type {\n",
       "        vertical-align: middle;\n",
       "    }\n",
       "\n",
       "    .dataframe tbody tr th {\n",
       "        vertical-align: top;\n",
       "    }\n",
       "\n",
       "    .dataframe thead th {\n",
       "        text-align: right;\n",
       "    }\n",
       "</style>\n",
       "<table border=\"1\" class=\"dataframe\">\n",
       "  <thead>\n",
       "    <tr style=\"text-align: right;\">\n",
       "      <th></th>\n",
       "      <th>Label</th>\n",
       "      <th>Protein Family</th>\n",
       "      <th>Frequency</th>\n",
       "    </tr>\n",
       "  </thead>\n",
       "  <tbody>\n",
       "    <tr>\n",
       "      <th>0</th>\n",
       "      <td>0</td>\n",
       "      <td>ATPase alpha/beta chains family</td>\n",
       "      <td>2165</td>\n",
       "    </tr>\n",
       "    <tr>\n",
       "      <th>1</th>\n",
       "      <td>1</td>\n",
       "      <td>chaperonin (HSP60) family</td>\n",
       "      <td>973</td>\n",
       "    </tr>\n",
       "    <tr>\n",
       "      <th>2</th>\n",
       "      <td>2</td>\n",
       "      <td>GHMP kinase famil</td>\n",
       "      <td>1045</td>\n",
       "    </tr>\n",
       "    <tr>\n",
       "      <th>3</th>\n",
       "      <td>3</td>\n",
       "      <td>transferase hexapeptide repeat family</td>\n",
       "      <td>937</td>\n",
       "    </tr>\n",
       "    <tr>\n",
       "      <th>4</th>\n",
       "      <td>4</td>\n",
       "      <td>cytochrome b family</td>\n",
       "      <td>1460</td>\n",
       "    </tr>\n",
       "  </tbody>\n",
       "</table>\n",
       "</div>"
      ],
      "text/plain": [
       "   Label                         Protein Family  Frequency\n",
       "0      0        ATPase alpha/beta chains family       2165\n",
       "1      1              chaperonin (HSP60) family        973\n",
       "2      2                      GHMP kinase famil       1045\n",
       "3      3  transferase hexapeptide repeat family        937\n",
       "4      4                    cytochrome b family       1460"
      ]
     },
     "execution_count": 22,
     "metadata": {},
     "output_type": "execute_result"
    }
   ],
   "source": [
    "from tqdm.notebook import tqdm\n",
    "for i in tqdm(y):\n",
    "    if i.endswith('\\n'):\n",
    "        fam = i[:-1]\n",
    "    else:\n",
    "        fam = i\n",
    "    df.loc[df['Protein Family'] == fam, ['Frequency']] += 1\n",
    "df.head()"
   ]
  },
  {
   "cell_type": "code",
   "execution_count": 23,
   "metadata": {},
   "outputs": [],
   "source": [
    "df.to_csv('./data/document_embedding_based_models/family.csv')"
   ]
  },
  {
   "cell_type": "code",
   "execution_count": 5,
   "metadata": {},
   "outputs": [
    {
     "name": "stdout",
     "output_type": "stream",
     "text": [
      "methyltransferase superfamil\n",
      "~ 38\n"
     ]
    },
    {
     "data": {
      "text/plain": [
       "40"
      ]
     },
     "execution_count": 5,
     "metadata": {},
     "output_type": "execute_result"
    }
   ],
   "source": [
    "import numpy as np\n",
    "import matplotlib.pyplot as plt\n",
    "from sklearn.metrics import confusion_matrix\n",
    "print(y_train[0])\n",
    "temp_y = []\n",
    "for i in y_train:\n",
    "    if i.endswith('\\n'):\n",
    "        temp_y.append(i[:-1])\n",
    "    else:\n",
    "        temp_y.append(i)\n",
    "y_train = temp_y\n",
    "\n",
    "\n",
    "temp_y = []\n",
    "for i in y_test:\n",
    "    if i.endswith('\\n'):\n",
    "        temp_y.append(i[:-1])\n",
    "    else:\n",
    "        temp_y.append(i)\n",
    "y_test = temp_y\n",
    "y = y_train + y_test\n",
    " \n",
    "\n",
    "\n",
    "\n",
    "temp = list(set(y))\n",
    "# d = dict(zip(temp, [i for i in range(len(temp))]))\n",
    "\n",
    "with open ('./data/document_embedding_based_models/label2idx.pkl', 'rb') as pkl:\n",
    "    d = pickle.load(pkl)\n",
    "temp_y = []\n",
    "for i in y:\n",
    "    temp_y.append(d[i])\n",
    "y = temp_y\n",
    "y_train = [d[i] for i in y_train]\n",
    "y_test = [d[i] for i in y_test]\n",
    "y[0]\n",
    "y_true = y\n",
    "print('~', y_train[0])\n",
    "len(list(set(y_train)))"
   ]
  },
  {
   "cell_type": "code",
   "execution_count": 6,
   "metadata": {},
   "outputs": [],
   "source": [
    "from sklearn import svm, datasets\n",
    "from sklearn.metrics import roc_curve, auc\n",
    "from sklearn.model_selection import train_test_split\n",
    "from sklearn.preprocessing import label_binarize\n",
    "from sklearn.multiclass import OneVsRestClassifier\n",
    "from scipy import interp\n",
    "from sklearn.metrics import roc_auc_score"
   ]
  },
  {
   "cell_type": "code",
   "execution_count": 7,
   "metadata": {},
   "outputs": [],
   "source": [
    "# from sklearn.model_selection import train_test_split\n",
    "# X_test, X_val, y_test, y_val = train_test_split(X_test, y_test, test_size=0.5, random_state=44)"
   ]
  },
  {
   "cell_type": "code",
   "execution_count": 8,
   "metadata": {},
   "outputs": [
    {
     "data": {
      "text/plain": [
       "40"
      ]
     },
     "execution_count": 8,
     "metadata": {},
     "output_type": "execute_result"
    }
   ],
   "source": [
    "len(list(set(list(y_train))))"
   ]
  },
  {
   "cell_type": "code",
   "execution_count": 9,
   "metadata": {},
   "outputs": [],
   "source": [
    "y_train = label_binarize(np.array(y_train), classes=list(set(y_train)))\n",
    "y_test = label_binarize(np.array(y_test), classes=list(set(y_test)))"
   ]
  },
  {
   "cell_type": "code",
   "execution_count": 10,
   "metadata": {},
   "outputs": [
    {
     "data": {
      "text/plain": [
       "40"
      ]
     },
     "execution_count": 10,
     "metadata": {},
     "output_type": "execute_result"
    }
   ],
   "source": [
    "y_test.shape[1]"
   ]
  },
  {
   "cell_type": "code",
   "execution_count": 11,
   "metadata": {},
   "outputs": [],
   "source": [
    "n_classes = y_train.shape[1]\n",
    "n_samples, n_features = X.shape\n",
    "import os\n",
    "def plot_roc(clf, file, linestyle):\n",
    "    classifier = OneVsRestClassifier(clf)\n",
    "    if os.path.exists('./data/document_embedding_based_models/' + file + '.pkl'):\n",
    "        with open ('./data/document_embedding_based_models/' + file + '.pkl', 'rb') as pkl:\n",
    "            model = pickle.load(pkl)\n",
    "    else:\n",
    "        model = classifier.fit(X_train, y_train)\n",
    "        with open ('./data/document_embedding_based_models/' + file + '.pkl', 'wb') as pkl:\n",
    "            pickle.dump(model, pkl)\n",
    "    if file.endswith('linear') or file.endswith('rbf'):\n",
    "        y_score = model.decision_function(X_test)\n",
    "    else:\n",
    "        y_score = model.predict_proba(X_test)\n",
    "    fpr = dict()\n",
    "    tpr = dict()\n",
    "    roc_auc = dict()\n",
    "    for i in range(n_classes):\n",
    "        fpr[i], tpr[i], _ = roc_curve(y_test[:, i], y_score[:, i])\n",
    "        roc_auc[i] = auc(fpr[i], tpr[i])\n",
    "    # Compute micro-average ROC curve and ROC area\n",
    "    fpr[\"micro\"], tpr[\"micro\"], _ = roc_curve(y_test.ravel(), y_score.ravel())\n",
    "    roc_auc[\"micro\"] = auc(fpr[\"micro\"], tpr[\"micro\"])\n",
    "    lw = 2\n",
    "\n",
    "    \n",
    "    print(file)\n",
    "#     print(model.score(X_train, y_train), model.score(X_test, y_test), model.score(X, y))\n",
    "    plt.rcParams[\"figure.figsize\"] = (8,5)\n",
    "    plt.rcParams['xtick.labelsize']= 12\n",
    "    plt.rcParams['ytick.labelsize'] = 12\n",
    "    plt.plot(fpr[2], tpr[2],\n",
    "             lw=lw, label=file + ' (area = %0.2f)' % roc_auc[2], color='black', linestyle=linestyle)\n",
    "    plt.plot([0, 1], [0, 1], color='black', lw=lw, linestyle='--')\n",
    "    plt.xlim([0.0, 1.0])\n",
    "    plt.ylim([0.0, 1.05])\n",
    "    plt.xlabel('False Positive Rate', size=14)\n",
    "    plt.ylabel('True Positive Rate', size=14)\n",
    "    plt.title('Receiver operating characteristic Plot on DBOW Data', size=16)\n",
    "    plt.legend(loc=\"lower right\", fontsize=8)"
   ]
  },
  {
   "cell_type": "code",
   "execution_count": 12,
   "metadata": {},
   "outputs": [],
   "source": [
    "from collections import OrderedDict\n",
    "\n",
    "linestyles = OrderedDict(\n",
    "    [('solid',               (0, ())),\n",
    "     ('loosely dotted',      (0, (1, 10))),\n",
    "     ('dotted',              (0, (1, 5))),\n",
    "     ('densely dotted',      (0, (1, 1))),\n",
    "\n",
    "     ('loosely dashed',      (0, (5, 10))),\n",
    "     ('dashed',              (0, (5, 5))),\n",
    "     ('densely dashed',      (0, (5, 1))),\n",
    "\n",
    "     ('loosely dashdotted',  (0, (3, 10, 1, 10))),\n",
    "     ('dashdotted',          (0, (3, 5, 1, 5))),\n",
    "     ('densely dashdotted',  (0, (3, 1, 1, 1))),\n",
    "\n",
    "     ('loosely dashdotdotted', (0, (3, 10, 1, 10, 1, 10))),\n",
    "     ('dashdotdotted',         (0, (3, 5, 1, 5, 1, 5))),\n",
    "     ('densely dashdotdotted', (0, (3, 1, 1, 1, 1, 1)))])"
   ]
  },
  {
   "cell_type": "code",
   "execution_count": null,
   "metadata": {
    "scrolled": false
   },
   "outputs": [
    {
     "name": "stdout",
     "output_type": "stream",
     "text": [
      "DBOW Extra Trees Classifier\n",
      "DBOW Gaussian Naive Bayes\n",
      "DBOW Logistic Regression\n",
      "DBOW Random Forest Classifier\n",
      "DBOW K-Nearest Neighbor\n"
     ]
    }
   ],
   "source": [
    "from sklearn.ensemble import ExtraTreesClassifier\n",
    "from sklearn.naive_bayes import GaussianNB\n",
    "from sklearn.linear_model import LogisticRegression\n",
    "from sklearn.svm import SVC\n",
    "from sklearn.ensemble import RandomForestClassifier\n",
    "from sklearn.neighbors import KNeighborsClassifier\n",
    "\n",
    "\n",
    "plot_roc(ExtraTreesClassifier(n_estimators=100, max_features=\"auto\",random_state=0), 'DBOW Extra Trees Classifier', linestyles['loosely dotted'])\n",
    "plot_roc(GaussianNB(), 'DBOW Gaussian Naive Bayes', linestyles['dotted'])\n",
    "plot_roc(LogisticRegression(random_state=0, max_iter=40000), 'DBOW Logistic Regression', linestyles['dashed'])\n",
    "plot_roc(RandomForestClassifier(n_estimators=100, max_features=\"auto\",random_state=0), 'DBOW Random Forest Classifier', linestyles['loosely dashdotted'])\n",
    "plot_roc(KNeighborsClassifier(n_neighbors= 7, weights='distance', algorithm='auto', metric='euclidean', n_jobs=-1), 'DBOW K-Nearest Neighbor', linestyles['densely dashdotted'])\n",
    "plot_roc(SVC(kernel='linear'), 'DBOW SVM kernel=linear', linestyles['densely dashdotdotted'])\n",
    "plot_roc(SVC(kernel='rbf'), 'DBOW SVM kernel=rbf', linestyles['solid'])\n",
    "plt.savefig('./data/document_embedding_based_models/dbow_roc.tif', dpi=600)"
   ]
  },
  {
   "cell_type": "code",
   "execution_count": null,
   "metadata": {
    "scrolled": true
   },
   "outputs": [],
   "source": [
    "from sklearn.metrics import precision_recall_curve\n",
    "from sklearn.metrics import average_precision_score, recall_score\n",
    "files = ['DBOW Gaussian Naive Bayes', 'DBOW Extra Trees Classifier', 'DBOW SVM kernel=linear', 'DBOW Logistic Regression', 'DBOW Random Forest Classifier', 'DBOW K-Nearest Neighbor', 'DBOW SVM kernel=rbf']\n",
    "for file in files:\n",
    "    print(file)\n",
    "    with open ('./data/document_embedding_based_models/' + file + '.pkl', 'rb') as pkl:\n",
    "        model = pickle.load(pkl)\n",
    "    if file.endswith('linear') or file.endswith('rbf'):\n",
    "        y_score = model.decision_function(X_test)\n",
    "    else:\n",
    "        y_score = model.predict_proba(X_test)\n",
    "    # For each class\n",
    "    precision = dict()\n",
    "    recall = dict()\n",
    "    thresh = dict()\n",
    "    f1 = dict()\n",
    "    average_precision = dict()\n",
    "    average_recall = dict()\n",
    "    average_f1_score = dict()\n",
    "    for i in range(n_classes):\n",
    "        precision[i], recall[i], thresh[i] = precision_recall_curve(y_test[:, i],\n",
    "                                                            y_score[:, i])\n",
    "        average_precision[i] = average_precision_score(y_test[:, i], y_score[:, i])\n",
    "\n",
    "    # A \"micro-average\": quantifying score on all classes jointly\n",
    "    precision[\"micro\"], recall[\"micro\"], thresh['micro'] = precision_recall_curve(y_test.ravel(),\n",
    "        y_score.ravel())\n",
    "    \n",
    "#     f1['micro'] = 2 * (precision['micro']*recall['micro']) / (precision['micro']+recall['micro'])\n",
    "    \n",
    "    average_precision[\"micro\"] = average_precision_score(y_test, y_score,\n",
    "                                                         average=\"micro\")\n",
    "    print('Average precision score, micro-averaged over all classes: {0:0.2f}'\n",
    "          .format(average_precision[\"micro\"]))\n",
    "    \n",
    "    \n",
    "    plt.rcParams[\"figure.figsize\"] = (1.5,1.5)    \n",
    "    plt.rcParams['xtick.labelsize']=5\n",
    "    plt.rcParams['ytick.labelsize']=5\n",
    "    plt.step(recall['micro'], precision['micro'], where='post', color='black')\n",
    "    plt.xlabel('Recall', size=5)\n",
    "    plt.ylabel('Precision', size=5)\n",
    "    plt.ylim([0.0, 1.05])\n",
    "    plt.xlim([0.0, 1.0])\n",
    "    plt.title( file, size=5)\n",
    "    plt.tight_layout()\n",
    "    plt.savefig(os.path.join('./data/document_embedding_based_models', file+'.tif'), dpi=600)\n",
    "    plt.show()\n",
    "    \n",
    "#     plt.figure()\n",
    "#     plt.step(thresh['micro'], f1['micro'][:-1], where='post')\n",
    "#     plt.xlabel('F1 Score')\n",
    "#     plt.ylabel('Threshold')\n",
    "#     plt.ylim([0.0, 1.05])\n",
    "#     plt.xlim([0.0, 1.0])\n",
    "#     plt.title('F1-Score, micro-averaged over all classes vs Threshold')\n",
    "#     plt.show()\n",
    "#     print(file + ' Threshold = ', thresh['micro'][np.argmax(f1['micro'][:-1])])\n",
    "#     break"
   ]
  },
  {
   "cell_type": "code",
   "execution_count": 32,
   "metadata": {},
   "outputs": [
    {
     "name": "stdout",
     "output_type": "stream",
     "text": [
      "DBOW Gaussian Naive Bayes\n",
      "Average precision score, micro-averaged over all classes: 0.83\n"
     ]
    },
    {
     "data": {
      "image/png": "[encoded data removed]",
      "text/plain": [
       "<Figure size 360x360 with 1 Axes>"
      ]
     },
     "metadata": {
      "needs_background": "light"
     },
     "output_type": "display_data"
    },
    {
     "name": "stdout",
     "output_type": "stream",
     "text": [
      "DBOW Extra Trees Classifier\n",
      "Average precision score, micro-averaged over all classes: 0.80\n"
     ]
    },
    {
     "data": {
      "image/png": "[encoded data removed]",
      "text/plain": [
       "<Figure size 360x360 with 1 Axes>"
      ]
     },
     "metadata": {
      "needs_background": "light"
     },
     "output_type": "display_data"
    },
    {
     "name": "stdout",
     "output_type": "stream",
     "text": [
      "DBOW Logistic Regression\n",
      "Average precision score, micro-averaged over all classes: 0.82\n"
     ]
    },
    {
     "data": {
      "image/png": "[encoded data removed]",
      "text/plain": [
       "<Figure size 360x360 with 1 Axes>"
      ]
     },
     "metadata": {
      "needs_background": "light"
     },
     "output_type": "display_data"
    },
    {
     "name": "stdout",
     "output_type": "stream",
     "text": [
      "DBOW Random Forest Classifier\n",
      "Average precision score, micro-averaged over all classes: 0.77\n"
     ]
    },
    {
     "data": {
      "image/png": "[encoded data removed]",
      "text/plain": [
       "<Figure size 360x360 with 1 Axes>"
      ]
     },
     "metadata": {
      "needs_background": "light"
     },
     "output_type": "display_data"
    },
    {
     "name": "stdout",
     "output_type": "stream",
     "text": [
      "DBOW K-Nearest Neighbor\n",
      "Average precision score, micro-averaged over all classes: 0.63\n"
     ]
    },
    {
     "data": {
      "image/png": "[encoded data removed]",
      "text/plain": [
       "<Figure size 360x360 with 1 Axes>"
      ]
     },
     "metadata": {
      "needs_background": "light"
     },
     "output_type": "display_data"
    },
    {
     "name": "stdout",
     "output_type": "stream",
     "text": [
      "DBOW SVM kernel=linear\n",
      "Average precision score, micro-averaged over all classes: 0.76\n"
     ]
    },
    {
     "data": {
      "image/png": "[encoded data removed]",
      "text/plain": [
       "<Figure size 360x360 with 1 Axes>"
      ]
     },
     "metadata": {
      "needs_background": "light"
     },
     "output_type": "display_data"
    },
    {
     "name": "stdout",
     "output_type": "stream",
     "text": [
      "DBOW SVM kernel=rbf\n",
      "Average precision score, micro-averaged over all classes: 0.85\n"
     ]
    },
    {
     "data": {
      "image/png": "[encoded data removed]",
      "text/plain": [
       "<Figure size 360x360 with 1 Axes>"
      ]
     },
     "metadata": {
      "needs_background": "light"
     },
     "output_type": "display_data"
    }
   ],
   "source": [
    "from sklearn.metrics import precision_recall_curve\n",
    "from sklearn.metrics import average_precision_score, recall_score\n",
    "files = ['DBOW Gaussian Naive Bayes', 'DBOW Extra Trees Classifier', 'DBOW Logistic Regression', 'DBOW Random Forest Classifier', 'DBOW K-Nearest Neighbor', 'DBOW SVM kernel=linear', 'DBOW SVM kernel=rbf']\n",
    "for file in files:\n",
    "    print(file)\n",
    "    with open ('./data/document_embedding_based_models/' + file + '.pkl', 'rb') as pkl:\n",
    "        model = pickle.load(pkl)\n",
    "    if file.endswith('linear') or file.endswith('rbf'):\n",
    "        y_score = model.decision_function(X_test)\n",
    "    else:\n",
    "        y_score = model.predict_proba(X_test)\n",
    "    # For each class\n",
    "    precision = dict()\n",
    "    recall = dict()\n",
    "    thresh = dict()\n",
    "    f1 = dict()\n",
    "    average_precision = dict()\n",
    "    average_recall = dict()\n",
    "    average_f1_score = dict()\n",
    "    for i in range(n_classes):\n",
    "        precision[i], recall[i], thresh[i] = precision_recall_curve(y_test[:, i],\n",
    "                                                            y_score[:, i])\n",
    "        average_precision[i] = average_precision_score(y_test[:, i], y_score[:, i])\n",
    "\n",
    "    # A \"micro-average\": quantifying score on all classes jointly\n",
    "    precision[\"micro\"], recall[\"micro\"], thresh['micro'] = precision_recall_curve(y_test.ravel(),\n",
    "        y_score.ravel())\n",
    "    \n",
    "    \n",
    "    average_precision[\"micro\"] = average_precision_score(y_test, y_score,\n",
    "                                                         average=\"micro\")\n",
    "    print('Average precision score, micro-averaged over all classes: {0:0.2f}'\n",
    "          .format(average_precision[\"micro\"]))\n",
    "#     average_recall['micro'] = recall_score(y_test, y_score, average='micro')\n",
    "#     print('Average recall score, micro-averaged over all classes: {0:0.2f}'\n",
    "#           .format(average_recall[\"micro\"]))\n",
    "#     average_f1_score['micro'] = 2*average_precision['micro']*average_recall['micro']/(average_precision['micro']+average_recall['micro'])\n",
    "#     print(('Average F1 score, micro-averaged over all classes: {0:0.2f}'\n",
    "#           .format(average_f1_score[\"micro\"])))\n",
    "    plt.figure(figsize=(5,5))\n",
    "    plt.step(recall['micro'], precision['micro'], where='post')\n",
    "    plt.xlabel('Recall')\n",
    "    plt.ylabel('Precision')\n",
    "    plt.ylim([0.0, 1.05])\n",
    "    plt.xlim([0.0, 1.0])\n",
    "    plt.title( 'Precision Score vs Recall Score, micro averaged over all classes')\n",
    "    plt.show()\n",
    "    "
   ]
  },
  {
   "cell_type": "code",
   "execution_count": null,
   "metadata": {},
   "outputs": [
    {
     "name": "stderr",
     "output_type": "stream",
     "text": [
      "C:\\Users\\chahabiscuit\\Anaconda3\\lib\\site-packages\\ipykernel_launcher.py:12: TqdmDeprecationWarning: This function will be removed in tqdm==5.0.0\n",
      "Please use `tqdm.notebook.tqdm` instead of `tqdm.tqdm_notebook`\n",
      "  if sys.path[0] == '':\n"
     ]
    },
    {
     "data": {
      "application/vnd.jupyter.widget-view+json": {
       "model_id": "1d44eae76a84472a9fc9a6853b413efb",
       "version_major": 2,
       "version_minor": 0
      },
      "text/plain": [
       "HBox(children=(FloatProgress(value=1.0, bar_style='info', max=1.0), HTML(value='')))"
      ]
     },
     "metadata": {},
     "output_type": "display_data"
    },
    {
     "name": "stdout",
     "output_type": "stream",
     "text": [
      "One-vs-All DBOW SVM kernel=linear 0.9986838459407038 0.7172689095020536 0.8297881179891982\n",
      "One-vs-All DBOW Gaussian Naive Bayes 0.9471460238293156 0.7243989108865199 0.8134607395097632\n",
      "One-vs-All DBOW Extra Trees Classifier 1.0 0.4251465226821727 0.6549923833264091\n",
      "One-vs-All DBOW Logistic Regression 0.9967788861180382 0.7328672296829573 0.8383880348982136\n",
      "One-vs-All DBOW Random Forest Classifier 0.9999653643668607 0.40871752272832157 0.6451184046530951\n"
     ]
    }
   ],
   "source": [
    "import numpy as np\n",
    "from sklearn.metrics import accuracy_score\n",
    "from tqdm import tqdm_notebook\n",
    "import pickle\n",
    "with open ('./data/document_embedding_based_models/label2idx.pkl', 'rb') as pkl:\n",
    "    d = pickle.load(pkl)\n",
    "idx2label = dict(zip(d.values(), d.keys()))\n",
    "\n",
    "files = ['DBOW SVM kernel=linear', 'DBOW Gaussian Naive Bayes', 'DBOW Extra Trees Classifier', 'DBOW Logistic Regression', 'DBOW Random Forest Classifier', 'DBOW K-Nearest Neighbor', 'DBOW SVM kernel=rbf']\n",
    "thresholds = [0.1511, 0.1842, 0.14, 0.64479, 0.14, 0.4336, 0.5]\n",
    "# files = ['DBOW Logistic Regression']\n",
    "for file, thresh in tqdm_notebook(zip(files, thresholds)):\n",
    "    with open ('./data/document_embedding_based_models/' + file + '.pkl', 'rb') as pkl:\n",
    "        model = pickle.load(pkl)\n",
    "    y_pred = model.predict(X_test)\n",
    "    y_pred = [idx2label[np.argmax(pred)] for pred in y_pred]\n",
    "    testing_acc = accuracy_score(y_pred, y_test)\n",
    "    \n",
    "    y_pred = model.predict(X_train)\n",
    "    y_pred = [idx2label[np.argmax(pred)] for pred in y_pred]\n",
    "    training_acc = accuracy_score(y_pred, y_train)\n",
    "    \n",
    "    y_pred = model.predict(X)\n",
    "    y_pred = [idx2label[np.argmax(pred)] for pred in y_pred]\n",
    "    avg_acc = accuracy_score(y_pred, y)\n",
    "    print('One-vs-All', file, training_acc, testing_acc, avg_acc)"
   ]
  },
  {
   "cell_type": "code",
   "execution_count": null,
   "metadata": {},
   "outputs": [
    {
     "name": "stderr",
     "output_type": "stream",
     "text": [
      "\r",
      "0it [00:00, ?it/s]"
     ]
    },
    {
     "name": "stdout",
     "output_type": "stream",
     "text": [
      "One-vs-All DBOW K-Nearest Neighbor\n"
     ]
    }
   ],
   "source": [
    "files = ['DBOW K-Nearest Neighbor', 'DBOW SVM kernel=rbf']\n",
    "import numpy as np\n",
    "from sklearn.metrics import accuracy_score\n",
    "from tqdm import tqdm\n",
    "import pickle\n",
    "with open ('./data/document_embedding_based_models/label2idx.pkl', 'rb') as pkl:\n",
    "    d = pickle.load(pkl)\n",
    "idx2label = dict(zip(d.values(), d.keys()))\n",
    "thresholds = [0.4336, 0.5]\n",
    "# files = ['DBOW Logistic Regression']\n",
    "for file, thresh in tqdm(zip(files, thresholds)):\n",
    "    with open ('./data/document_embedding_based_models/' + file + '.pkl', 'rb') as pkl:\n",
    "        model = pickle.load(pkl)\n",
    "    print('One-vs-All', file)\n",
    "    y_pred = model.predict(X_test)\n",
    "    y_pred = [idx2label[np.argmax(pred)] for pred in y_pred]\n",
    "    testing_acc = accuracy_score(y_pred, y_test) \n",
    "    print(testing_acc)\n",
    "    y_pred = model.predict(X_train)\n",
    "    y_pred = [idx2label[np.argmax(pred)] for pred in y_pred]\n",
    "    training_acc = accuracy_score(y_pred, y_train)\n",
    "    print(training_acc)\n",
    "    y_pred = model.predict(X)\n",
    "    y_pred = [idx2label[np.argmax(pred)] for pred in y_pred]\n",
    "    avg_acc = accuracy_score(y_pred, y)\n",
    "    print(avg_acc)"
   ]
  },
  {
   "cell_type": "code",
   "execution_count": 23,
   "metadata": {
    "scrolled": false
   },
   "outputs": [
    {
     "name": "stderr",
     "output_type": "stream",
     "text": [
      "C:\\Users\\chahabiscuit\\Anaconda3\\lib\\site-packages\\ipykernel_launcher.py:5: TqdmDeprecationWarning: This function will be removed in tqdm==5.0.0\n",
      "Please use `tqdm.notebook.tqdm` instead of `tqdm.tqdm_notebook`\n",
      "  \"\"\"\n"
     ]
    },
    {
     "data": {
      "application/vnd.jupyter.widget-view+json": {
       "model_id": "e9e39861980447cfbb8a652be6e58c55",
       "version_major": 2,
       "version_minor": 0
      },
      "text/plain": [
       "HBox(children=(FloatProgress(value=0.0, max=7.0), HTML(value='')))"
      ]
     },
     "metadata": {},
     "output_type": "display_data"
    },
    {
     "name": "stdout",
     "output_type": "stream",
     "text": [
      "extra_trees\n"
     ]
    },
    {
     "name": "stderr",
     "output_type": "stream",
     "text": [
      "C:\\Users\\chahabiscuit\\Anaconda3\\lib\\site-packages\\sklearn\\metrics\\_classification.py:1221: UndefinedMetricWarning: Recall and F-score are ill-defined and being set to 0.0 in labels with no true samples. Use `zero_division` parameter to control this behavior.\n",
      "  _warn_prf(average, modifier, msg_start, len(result))\n"
     ]
    },
    {
     "name": "stdout",
     "output_type": "stream",
     "text": [
      "0.7935760764225391\n",
      "Testing NMI -  0.6418344405670587\n",
      "                                                                precision    recall  f1-score   support\n",
      "\n",
      "                                   ABC transporter superfamily       0.00      0.00      0.00         0\n",
      "                               ATPase alpha/beta chains family       0.00      0.00      0.00         0\n",
      "                                      DEAD box helicase family       0.00      0.00      0.00         0\n",
      "                           G-protein coupled receptor 1 family       0.00      0.00      0.00         0\n",
      "                                              HisA/HisF family       1.00      0.89      0.94       756\n",
      "TRAFAC class TrmE-Era-EngA-EngB-Septin-like GTPase superfamily       0.00      0.00      0.00         0\n",
      "            TRAFAC class translation factor GTPase superfamily       0.00      0.00      0.00         0\n",
      "          aspartate/ornithine carbamoyltransferase superfamily       0.00      0.00      0.00         0\n",
      "                                     chaperonin (HSP60) family       1.00      0.90      0.95       668\n",
      "        class I-like SAM-binding methyltransferase superfamily       0.77      0.75      0.76      2682\n",
      "                      class-I aminoacyl-tRNA synthetase family       0.88      0.90      0.89      3381\n",
      "                     class-II aminoacyl-tRNA synthetase family       0.80      0.92      0.85      4373\n",
      "                                        cytochrome P450 family       0.00      0.00      0.00         0\n",
      "                                           cytochrome b family       1.00      0.89      0.94      1077\n",
      "                                  heat shock protein 70 family       0.00      0.00      0.00         0\n",
      "                                 major facilitator superfamily       0.00      0.00      0.00         0\n",
      "                      metallo-dependent hydrolases superfamily       1.00      0.60      0.75      1080\n",
      "                                  methylthiotransferase family       1.00      0.68      0.81       627\n",
      "                                 methyltransferase superfamily       0.84      0.76      0.80      2405\n",
      "                                    protein kinase superfamily       0.56      0.62      0.59      2534\n",
      "                                       radical SAM superfamily       0.97      0.74      0.84      1435\n",
      "                                      small GTPase superfamily       0.00      0.00      0.00         0\n",
      "                                     thiolase-like superfamily       0.99      0.49      0.66       651\n",
      "                       universal ribosomal protein uS19 family       0.00      0.00      0.00         0\n",
      "\n",
      "                                                      accuracy                           0.79     21669\n",
      "                                                     macro avg       0.45      0.38      0.41     21669\n",
      "                                                  weighted avg       0.84      0.79      0.81     21669\n",
      "\n",
      "\n",
      "\n",
      "GaussianNB\n"
     ]
    },
    {
     "name": "stderr",
     "output_type": "stream",
     "text": [
      "C:\\Users\\chahabiscuit\\Anaconda3\\lib\\site-packages\\sklearn\\metrics\\_classification.py:1221: UndefinedMetricWarning: Recall and F-score are ill-defined and being set to 0.0 in labels with no true samples. Use `zero_division` parameter to control this behavior.\n",
      "  _warn_prf(average, modifier, msg_start, len(result))\n"
     ]
    },
    {
     "name": "stdout",
     "output_type": "stream",
     "text": [
      "0.8240343347639485\n",
      "Testing NMI -  0.6952578524585372\n",
      "                                                                precision    recall  f1-score   support\n",
      "\n",
      "                                   ABC transporter superfamily       0.00      0.00      0.00         0\n",
      "                                      DEAD box helicase family       0.00      0.00      0.00         0\n",
      "                           G-protein coupled receptor 1 family       0.00      0.00      0.00         0\n",
      "                                              HisA/HisF family       0.98      0.93      0.95       756\n",
      "TRAFAC class TrmE-Era-EngA-EngB-Septin-like GTPase superfamily       0.00      0.00      0.00         0\n",
      "            TRAFAC class translation factor GTPase superfamily       0.00      0.00      0.00         0\n",
      "          aspartate/ornithine carbamoyltransferase superfamily       0.00      0.00      0.00         0\n",
      "                                     chaperonin (HSP60) family       1.00      0.91      0.95       668\n",
      "        class I-like SAM-binding methyltransferase superfamily       0.82      0.77      0.79      2682\n",
      "                      class-I aminoacyl-tRNA synthetase family       0.96      0.90      0.93      3381\n",
      "                     class-II aminoacyl-tRNA synthetase family       0.94      0.89      0.91      4373\n",
      "                                        cytochrome P450 family       0.00      0.00      0.00         0\n",
      "                                           cytochrome b family       0.96      0.89      0.92      1077\n",
      "                                                 globin family       0.00      0.00      0.00         0\n",
      "                                  heat shock protein 70 family       0.00      0.00      0.00         0\n",
      "                                 major facilitator superfamily       0.00      0.00      0.00         0\n",
      "                      metallo-dependent hydrolases superfamily       0.99      0.73      0.84      1080\n",
      "                                  methylthiotransferase family       1.00      0.80      0.89       627\n",
      "                                 methyltransferase superfamily       0.83      0.81      0.82      2405\n",
      "                                    protein kinase superfamily       0.56      0.71      0.62      2534\n",
      "            purine/pyrimidine phosphoribosyltransferase family       0.00      0.00      0.00         0\n",
      "                                       radical SAM superfamily       0.96      0.82      0.88      1435\n",
      "                                      small GTPase superfamily       0.00      0.00      0.00         0\n",
      "                                     thiolase-like superfamily       0.99      0.62      0.76       651\n",
      "                       universal ribosomal protein uL14 family       0.00      0.00      0.00         0\n",
      "                       universal ribosomal protein uL16 family       0.00      0.00      0.00         0\n",
      "                        universal ribosomal protein uL2 family       0.00      0.00      0.00         0\n",
      "                       universal ribosomal protein uS19 family       0.00      0.00      0.00         0\n",
      "                        universal ribosomal protein uS2 family       0.00      0.00      0.00         0\n",
      "                        universal ribosomal protein uS4 family       0.00      0.00      0.00         0\n",
      "                        universal ribosomal protein uS7 family       0.00      0.00      0.00         0\n",
      "                        universal ribosomal protein uS8 family       0.00      0.00      0.00         0\n",
      "\n",
      "                                                      accuracy                           0.82     21669\n",
      "                                                     macro avg       0.34      0.31      0.32     21669\n",
      "                                                  weighted avg       0.88      0.82      0.85     21669\n",
      "\n",
      "\n",
      "\n",
      "logreg\n"
     ]
    },
    {
     "name": "stderr",
     "output_type": "stream",
     "text": [
      "C:\\Users\\chahabiscuit\\Anaconda3\\lib\\site-packages\\sklearn\\metrics\\_classification.py:1221: UndefinedMetricWarning: Recall and F-score are ill-defined and being set to 0.0 in labels with no true samples. Use `zero_division` parameter to control this behavior.\n",
      "  _warn_prf(average, modifier, msg_start, len(result))\n"
     ]
    },
    {
     "name": "stdout",
     "output_type": "stream",
     "text": [
      "0.7984678573076746\n",
      "Testing NMI -  0.6493296104996964\n",
      "                                                                precision    recall  f1-score   support\n",
      "\n",
      "                                   ABC transporter superfamily       0.00      0.00      0.00         0\n",
      "                               ATPase alpha/beta chains family       0.00      0.00      0.00         0\n",
      "                                      DEAD box helicase family       0.00      0.00      0.00         0\n",
      "                           G-protein coupled receptor 1 family       0.00      0.00      0.00         0\n",
      "                                              HisA/HisF family       1.00      0.90      0.95       756\n",
      "                                                MurCDEF family       0.00      0.00      0.00         0\n",
      "TRAFAC class TrmE-Era-EngA-EngB-Septin-like GTPase superfamily       0.00      0.00      0.00         0\n",
      "            TRAFAC class translation factor GTPase superfamily       0.00      0.00      0.00         0\n",
      "          aspartate/ornithine carbamoyltransferase superfamily       0.00      0.00      0.00         0\n",
      "                                     chaperonin (HSP60) family       0.99      0.93      0.96       668\n",
      "        class I-like SAM-binding methyltransferase superfamily       0.82      0.75      0.78      2682\n",
      "                      class-I aminoacyl-tRNA synthetase family       0.91      0.90      0.91      3381\n",
      "                     class-II aminoacyl-tRNA synthetase family       0.86      0.91      0.88      4373\n",
      "                                        cytochrome P450 family       0.00      0.00      0.00         0\n",
      "                                           cytochrome b family       0.96      0.91      0.94      1077\n",
      "                                                 globin family       0.00      0.00      0.00         0\n",
      "                                  heat shock protein 70 family       0.00      0.00      0.00         0\n",
      "                                 major facilitator superfamily       0.00      0.00      0.00         0\n",
      "                      metallo-dependent hydrolases superfamily       0.94      0.71      0.81      1080\n",
      "                                  methylthiotransferase family       0.97      0.83      0.89       627\n",
      "                                 methyltransferase superfamily       0.80      0.80      0.80      2405\n",
      "                                    protein kinase superfamily       0.70      0.48      0.57      2534\n",
      "            purine/pyrimidine phosphoribosyltransferase family       0.00      0.00      0.00         0\n",
      "                                       radical SAM superfamily       0.89      0.82      0.85      1435\n",
      "                                      small GTPase superfamily       0.00      0.00      0.00         0\n",
      "                                     thiolase-like superfamily       0.95      0.61      0.74       651\n",
      "                         transferase hexapeptide repeat family       0.00      0.00      0.00         0\n",
      "                       universal ribosomal protein uL14 family       0.00      0.00      0.00         0\n",
      "                       universal ribosomal protein uL16 family       0.00      0.00      0.00         0\n",
      "                        universal ribosomal protein uL2 family       0.00      0.00      0.00         0\n",
      "                       universal ribosomal protein uS19 family       0.00      0.00      0.00         0\n",
      "                        universal ribosomal protein uS8 family       0.00      0.00      0.00         0\n",
      "\n",
      "                                                      accuracy                           0.80     21669\n",
      "                                                     macro avg       0.34      0.30      0.32     21669\n",
      "                                                  weighted avg       0.86      0.80      0.83     21669\n",
      "\n",
      "\n",
      "\n",
      "svm\n"
     ]
    },
    {
     "name": "stderr",
     "output_type": "stream",
     "text": [
      "C:\\Users\\chahabiscuit\\Anaconda3\\lib\\site-packages\\sklearn\\metrics\\_classification.py:1221: UndefinedMetricWarning: Recall and F-score are ill-defined and being set to 0.0 in labels with no true samples. Use `zero_division` parameter to control this behavior.\n",
      "  _warn_prf(average, modifier, msg_start, len(result))\n"
     ]
    },
    {
     "name": "stdout",
     "output_type": "stream",
     "text": [
      "0.7814389219622502\n",
      "Testing NMI -  0.6370107548848033\n",
      "                                                                precision    recall  f1-score   support\n",
      "\n",
      "                                   ABC transporter superfamily       0.00      0.00      0.00         0\n",
      "                               ATPase alpha/beta chains family       0.00      0.00      0.00         0\n",
      "                                      DEAD box helicase family       0.00      0.00      0.00         0\n",
      "                           G-protein coupled receptor 1 family       0.00      0.00      0.00         0\n",
      "                                              HisA/HisF family       1.00      0.91      0.95       756\n",
      "TRAFAC class TrmE-Era-EngA-EngB-Septin-like GTPase superfamily       0.00      0.00      0.00         0\n",
      "            TRAFAC class translation factor GTPase superfamily       0.00      0.00      0.00         0\n",
      "          aspartate/ornithine carbamoyltransferase superfamily       0.00      0.00      0.00         0\n",
      "                                     chaperonin (HSP60) family       1.00      0.94      0.97       668\n",
      "        class I-like SAM-binding methyltransferase superfamily       0.81      0.75      0.78      2682\n",
      "                      class-I aminoacyl-tRNA synthetase family       0.92      0.90      0.91      3381\n",
      "                     class-II aminoacyl-tRNA synthetase family       0.82      0.90      0.86      4373\n",
      "                                        cytochrome P450 family       0.00      0.00      0.00         0\n",
      "                                           cytochrome b family       0.91      0.91      0.91      1077\n",
      "                                                 globin family       0.00      0.00      0.00         0\n",
      "                                  heat shock protein 70 family       0.00      0.00      0.00         0\n",
      "                                 major facilitator superfamily       0.00      0.00      0.00         0\n",
      "                      metallo-dependent hydrolases superfamily       0.96      0.66      0.79      1080\n",
      "                                  methylthiotransferase family       0.98      0.81      0.89       627\n",
      "                                 methyltransferase superfamily       0.81      0.76      0.79      2405\n",
      "                                    protein kinase superfamily       0.74      0.42      0.53      2534\n",
      "            purine/pyrimidine phosphoribosyltransferase family       0.00      0.00      0.00         0\n",
      "                                       radical SAM superfamily       0.92      0.79      0.85      1435\n",
      "                                      small GTPase superfamily       0.00      0.00      0.00         0\n",
      "                                     thiolase-like superfamily       0.98      0.60      0.75       651\n",
      "                         transferase hexapeptide repeat family       0.00      0.00      0.00         0\n",
      "                       universal ribosomal protein uS19 family       0.00      0.00      0.00         0\n",
      "\n",
      "                                                      accuracy                           0.78     21669\n",
      "                                                     macro avg       0.40      0.35      0.37     21669\n",
      "                                                  weighted avg       0.86      0.78      0.81     21669\n",
      "\n",
      "\n",
      "\n",
      "random_forest\n"
     ]
    },
    {
     "name": "stderr",
     "output_type": "stream",
     "text": [
      "C:\\Users\\chahabiscuit\\Anaconda3\\lib\\site-packages\\sklearn\\metrics\\_classification.py:1221: UndefinedMetricWarning: Recall and F-score are ill-defined and being set to 0.0 in labels with no true samples. Use `zero_division` parameter to control this behavior.\n",
      "  _warn_prf(average, modifier, msg_start, len(result))\n"
     ]
    },
    {
     "name": "stdout",
     "output_type": "stream",
     "text": [
      "0.7944990539480363\n",
      "Testing NMI -  0.642498349721691\n",
      "                                                                precision    recall  f1-score   support\n",
      "\n",
      "                                   ABC transporter superfamily       0.00      0.00      0.00         0\n",
      "                               ATPase alpha/beta chains family       0.00      0.00      0.00         0\n",
      "                                      DEAD box helicase family       0.00      0.00      0.00         0\n",
      "                           G-protein coupled receptor 1 family       0.00      0.00      0.00         0\n",
      "                                              HisA/HisF family       1.00      0.85      0.92       756\n",
      "TRAFAC class TrmE-Era-EngA-EngB-Septin-like GTPase superfamily       0.00      0.00      0.00         0\n",
      "            TRAFAC class translation factor GTPase superfamily       0.00      0.00      0.00         0\n",
      "          aspartate/ornithine carbamoyltransferase superfamily       0.00      0.00      0.00         0\n",
      "                                     chaperonin (HSP60) family       1.00      0.90      0.94       668\n",
      "        class I-like SAM-binding methyltransferase superfamily       0.76      0.75      0.76      2682\n",
      "                      class-I aminoacyl-tRNA synthetase family       0.90      0.90      0.90      3381\n",
      "                     class-II aminoacyl-tRNA synthetase family       0.81      0.92      0.86      4373\n",
      "                                        cytochrome P450 family       0.00      0.00      0.00         0\n",
      "                                           cytochrome b family       1.00      0.88      0.94      1077\n",
      "                                  heat shock protein 70 family       0.00      0.00      0.00         0\n",
      "                                 major facilitator superfamily       0.00      0.00      0.00         0\n",
      "                      metallo-dependent hydrolases superfamily       0.99      0.61      0.76      1080\n",
      "                                  methylthiotransferase family       1.00      0.66      0.79       627\n",
      "                                 methyltransferase superfamily       0.84      0.78      0.81      2405\n",
      "                                    protein kinase superfamily       0.55      0.64      0.59      2534\n",
      "                                       radical SAM superfamily       0.97      0.74      0.84      1435\n",
      "                                      small GTPase superfamily       0.00      0.00      0.00         0\n",
      "                                     thiolase-like superfamily       0.99      0.51      0.67       651\n",
      "\n",
      "                                                      accuracy                           0.79     21669\n",
      "                                                     macro avg       0.47      0.40      0.42     21669\n",
      "                                                  weighted avg       0.84      0.79      0.81     21669\n",
      "\n",
      "\n",
      "\n",
      "knn\n"
     ]
    },
    {
     "name": "stderr",
     "output_type": "stream",
     "text": [
      "C:\\Users\\chahabiscuit\\Anaconda3\\lib\\site-packages\\sklearn\\metrics\\_classification.py:1221: UndefinedMetricWarning: Recall and F-score are ill-defined and being set to 0.0 in labels with no true samples. Use `zero_division` parameter to control this behavior.\n",
      "  _warn_prf(average, modifier, msg_start, len(result))\n"
     ]
    },
    {
     "name": "stdout",
     "output_type": "stream",
     "text": [
      "0.7814389219622502\n",
      "Testing NMI -  0.6370107548848033\n",
      "                                                                precision    recall  f1-score   support\n",
      "\n",
      "                                   ABC transporter superfamily       0.00      0.00      0.00         0\n",
      "                               ATPase alpha/beta chains family       0.00      0.00      0.00         0\n",
      "                                      DEAD box helicase family       0.00      0.00      0.00         0\n",
      "                           G-protein coupled receptor 1 family       0.00      0.00      0.00         0\n",
      "                                              HisA/HisF family       1.00      0.91      0.95       756\n",
      "TRAFAC class TrmE-Era-EngA-EngB-Septin-like GTPase superfamily       0.00      0.00      0.00         0\n",
      "            TRAFAC class translation factor GTPase superfamily       0.00      0.00      0.00         0\n",
      "          aspartate/ornithine carbamoyltransferase superfamily       0.00      0.00      0.00         0\n",
      "                                     chaperonin (HSP60) family       1.00      0.94      0.97       668\n",
      "        class I-like SAM-binding methyltransferase superfamily       0.81      0.75      0.78      2682\n",
      "                      class-I aminoacyl-tRNA synthetase family       0.92      0.90      0.91      3381\n",
      "                     class-II aminoacyl-tRNA synthetase family       0.82      0.90      0.86      4373\n",
      "                                        cytochrome P450 family       0.00      0.00      0.00         0\n",
      "                                           cytochrome b family       0.91      0.91      0.91      1077\n",
      "                                                 globin family       0.00      0.00      0.00         0\n",
      "                                  heat shock protein 70 family       0.00      0.00      0.00         0\n",
      "                                 major facilitator superfamily       0.00      0.00      0.00         0\n",
      "                      metallo-dependent hydrolases superfamily       0.96      0.66      0.79      1080\n",
      "                                  methylthiotransferase family       0.98      0.81      0.89       627\n",
      "                                 methyltransferase superfamily       0.81      0.76      0.79      2405\n",
      "                                    protein kinase superfamily       0.74      0.42      0.53      2534\n",
      "            purine/pyrimidine phosphoribosyltransferase family       0.00      0.00      0.00         0\n",
      "                                       radical SAM superfamily       0.92      0.79      0.85      1435\n",
      "                                      small GTPase superfamily       0.00      0.00      0.00         0\n",
      "                                     thiolase-like superfamily       0.98      0.60      0.75       651\n",
      "                         transferase hexapeptide repeat family       0.00      0.00      0.00         0\n",
      "                       universal ribosomal protein uS19 family       0.00      0.00      0.00         0\n",
      "\n",
      "                                                      accuracy                           0.78     21669\n",
      "                                                     macro avg       0.40      0.35      0.37     21669\n",
      "                                                  weighted avg       0.86      0.78      0.81     21669\n",
      "\n",
      "\n",
      "\n",
      "svm_rbf\n"
     ]
    },
    {
     "name": "stderr",
     "output_type": "stream",
     "text": [
      "C:\\Users\\chahabiscuit\\Anaconda3\\lib\\site-packages\\sklearn\\metrics\\_classification.py:1221: UndefinedMetricWarning: Recall and F-score are ill-defined and being set to 0.0 in labels with no true samples. Use `zero_division` parameter to control this behavior.\n",
      "  _warn_prf(average, modifier, msg_start, len(result))\n"
     ]
    },
    {
     "name": "stdout",
     "output_type": "stream",
     "text": [
      "0.8346024274308921\n",
      "Testing NMI -  0.7092537797563981\n",
      "                                                                precision    recall  f1-score   support\n",
      "\n",
      "                                   ABC transporter superfamily       0.00      0.00      0.00         0\n",
      "                               ATPase alpha/beta chains family       0.00      0.00      0.00         0\n",
      "                                      DEAD box helicase family       0.00      0.00      0.00         0\n",
      "                           G-protein coupled receptor 1 family       0.00      0.00      0.00         0\n",
      "                                              HisA/HisF family       1.00      0.93      0.97       756\n",
      "TRAFAC class TrmE-Era-EngA-EngB-Septin-like GTPase superfamily       0.00      0.00      0.00         0\n",
      "            TRAFAC class translation factor GTPase superfamily       0.00      0.00      0.00         0\n",
      "          aspartate/ornithine carbamoyltransferase superfamily       0.00      0.00      0.00         0\n",
      "                                     chaperonin (HSP60) family       1.00      0.94      0.97       668\n",
      "        class I-like SAM-binding methyltransferase superfamily       0.86      0.77      0.81      2682\n",
      "                      class-I aminoacyl-tRNA synthetase family       0.96      0.93      0.94      3381\n",
      "                     class-II aminoacyl-tRNA synthetase family       0.86      0.93      0.90      4373\n",
      "                                        cytochrome P450 family       0.00      0.00      0.00         0\n",
      "                                           cytochrome b family       1.00      0.92      0.96      1077\n",
      "                                  heat shock protein 70 family       0.00      0.00      0.00         0\n",
      "                                 major facilitator superfamily       0.00      0.00      0.00         0\n",
      "                      metallo-dependent hydrolases superfamily       0.98      0.75      0.85      1080\n",
      "                                  methylthiotransferase family       1.00      0.84      0.91       627\n",
      "                                 methyltransferase superfamily       0.82      0.84      0.83      2405\n",
      "                                    protein kinase superfamily       0.67      0.61      0.64      2534\n",
      "            purine/pyrimidine phosphoribosyltransferase family       0.00      0.00      0.00         0\n",
      "                                       radical SAM superfamily       0.97      0.82      0.89      1435\n",
      "                                      small GTPase superfamily       0.00      0.00      0.00         0\n",
      "                                     thiolase-like superfamily       0.98      0.62      0.76       651\n",
      "                         transferase hexapeptide repeat family       0.00      0.00      0.00         0\n",
      "                        universal ribosomal protein uL2 family       0.00      0.00      0.00         0\n",
      "\n",
      "                                                      accuracy                           0.83     21669\n",
      "                                                     macro avg       0.43      0.38      0.40     21669\n",
      "                                                  weighted avg       0.89      0.83      0.86     21669\n",
      "\n",
      "\n",
      "\n",
      "\n"
     ]
    }
   ],
   "source": [
    "from sklearn.metrics import normalized_mutual_info_score, classification_report\n",
    "import numpy as np\n",
    "x = 'extra_trees GaussianNB logreg svm random_forest knn svm_rbf'\n",
    "files = x.split(' ')\n",
    "for file in tqdm_notebook(files):\n",
    "    with open ('./data/document_embedding_based_models/' + file + '.pkl', 'rb') as pkl:\n",
    "        model = pickle.load(pkl)\n",
    "    print(file)\n",
    "    \n",
    "#     y_preds = [np.argmax(i) for i in model.predict(X_train)]\n",
    "#     nmi = normalized_mutual_info_score(y_train, y_preds,average_method='arithmetic')\n",
    "#     print('Training NMI - ', nmi)\n",
    "    y_preds = model.predict(X_test)\n",
    "    nmi = normalized_mutual_info_score(y_test, y_preds,average_method='arithmetic')\n",
    "    report = classification_report(y_test, y_preds)\n",
    "    print(model.score(X_test, y_test))\n",
    "    print('Testing NMI - ', nmi)\n",
    "    print(report)\n",
    "    \n",
    "#     y_preds = [np.argmax(i) for i in model.predict(X)]\n",
    "#     nmi = normalized_mutual_info_score(y, y_preds,average_method='arithmetic')\n",
    "#     print('Average NMI - ', nmi)\n",
    "    print('\\n')"
   ]
  },
  {
   "cell_type": "code",
   "execution_count": 24,
   "metadata": {},
   "outputs": [
    {
     "name": "stderr",
     "output_type": "stream",
     "text": [
      "C:\\Users\\chahabiscuit\\Anaconda3\\lib\\site-packages\\ipykernel_launcher.py:5: TqdmDeprecationWarning: This function will be removed in tqdm==5.0.0\n",
      "Please use `tqdm.notebook.tqdm` instead of `tqdm.tqdm_notebook`\n",
      "  \"\"\"\n"
     ]
    },
    {
     "data": {
      "application/vnd.jupyter.widget-view+json": {
       "model_id": "5a618c791ead4c99892fcc2fb0d5754e",
       "version_major": 2,
       "version_minor": 0
      },
      "text/plain": [
       "HBox(children=(FloatProgress(value=0.0, max=7.0), HTML(value='')))"
      ]
     },
     "metadata": {},
     "output_type": "display_data"
    },
    {
     "name": "stdout",
     "output_type": "stream",
     "text": [
      "extra_trees\n",
      "1.0\n",
      "0.8509347735770669\n",
      "GaussianNB\n",
      "0.9729842061512884\n",
      "0.86439551308683\n",
      "logreg\n",
      "0.9998614574674425\n",
      "0.8692563356875779\n",
      "svm\n",
      "1.0\n",
      "0.8644232100817061\n",
      "random_forest\n",
      "1.0\n",
      "0.8507131976180584\n",
      "knn\n",
      "1.0\n",
      "0.8644232100817061\n",
      "svm_rbf\n",
      "0.9940080354668883\n",
      "0.8827309236947791\n",
      "\n"
     ]
    }
   ],
   "source": [
    "from sklearn.metrics import normalized_mutual_info_score, classification_report\n",
    "import numpy as np\n",
    "x = 'extra_trees GaussianNB logreg svm random_forest knn svm_rbf'\n",
    "files = x.split(' ')\n",
    "for file in tqdm_notebook(files):\n",
    "    with open ('./data/document_embedding_based_models/' + file + '.pkl', 'rb') as pkl:\n",
    "        model = pickle.load(pkl)\n",
    "    print(file)\n",
    "    print(model.score(X_train, y_train))\n",
    "    print(model.score(X, y))"
   ]
  },
  {
   "cell_type": "code",
   "execution_count": 25,
   "metadata": {},
   "outputs": [
    {
     "name": "stderr",
     "output_type": "stream",
     "text": [
      "C:\\Users\\chahabiscuit\\Anaconda3\\lib\\site-packages\\ipykernel_launcher.py:5: TqdmDeprecationWarning: This function will be removed in tqdm==5.0.0\n",
      "Please use `tqdm.notebook.tqdm` instead of `tqdm.tqdm_notebook`\n",
      "  \"\"\"\n"
     ]
    },
    {
     "data": {
      "application/vnd.jupyter.widget-view+json": {
       "model_id": "d23acf4df63d4978b234cfd3e73f5599",
       "version_major": 2,
       "version_minor": 0
      },
      "text/plain": [
       "HBox(children=(FloatProgress(value=0.0, max=7.0), HTML(value='')))"
      ]
     },
     "metadata": {},
     "output_type": "display_data"
    },
    {
     "name": "stdout",
     "output_type": "stream",
     "text": [
      "extra_trees\n",
      "Training NMI -  1.0\n",
      "Average NMI -  0.7819105771517726\n",
      "\n",
      "\n",
      "GaussianNB\n",
      "Training NMI -  0.9501512059740622\n",
      "Average NMI -  0.7974722503175454\n",
      "\n",
      "\n",
      "logreg\n",
      "Training NMI -  0.9996536056130052\n",
      "Average NMI -  0.7879845376785107\n",
      "\n",
      "\n",
      "svm\n",
      "Training NMI -  1.0\n",
      "Average NMI -  0.7841456443436029\n",
      "\n",
      "\n",
      "random_forest\n",
      "Training NMI -  1.0\n",
      "Average NMI -  0.7814326054876862\n",
      "\n",
      "\n",
      "knn\n",
      "Training NMI -  1.0\n",
      "Average NMI -  0.7841456443436029\n",
      "\n",
      "\n",
      "svm_rbf\n",
      "Training NMI -  0.9878893143343279\n",
      "Average NMI -  0.8167226881716187\n",
      "\n",
      "\n",
      "\n"
     ]
    }
   ],
   "source": [
    "from sklearn.metrics import normalized_mutual_info_score, classification_report\n",
    "import numpy as np\n",
    "x = 'extra_trees GaussianNB logreg svm random_forest knn svm_rbf'\n",
    "files = x.split(' ')\n",
    "for file in tqdm_notebook(files):\n",
    "    with open ('./data/document_embedding_based_models/' + file + '.pkl', 'rb') as pkl:\n",
    "        model = pickle.load(pkl)\n",
    "    print(file)\n",
    "    \n",
    "    y_preds = model.predict(X_train)\n",
    "    nmi = normalized_mutual_info_score(y_train, y_preds,average_method='arithmetic')\n",
    "    print('Training NMI - ', nmi)\n",
    "    y_preds = model.predict(X)\n",
    "    nmi = normalized_mutual_info_score(y, y_preds,average_method='arithmetic')\n",
    "    print('Average NMI - ', nmi)\n",
    "    print('\\n')"
   ]
  },
  {
   "cell_type": "code",
   "execution_count": null,
   "metadata": {},
   "outputs": [],
   "source": []
  }
 ],
 "metadata": {
  "kernelspec": {
   "display_name": "Python 3",
   "language": "python",
   "name": "python3"
  },
  "language_info": {
   "codemirror_mode": {
    "name": "ipython",
    "version": 3
   },
   "file_extension": ".py",
   "mimetype": "text/x-python",
   "name": "python",
   "nbconvert_exporter": "python",
   "pygments_lexer": "ipython3",
   "version": "3.7.7"
  }
 },
 "nbformat": 4,
 "nbformat_minor": 4
}
