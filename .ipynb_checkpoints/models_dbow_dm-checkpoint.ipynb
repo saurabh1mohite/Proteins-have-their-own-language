{
 "cells": [
  {
   "cell_type": "code",
   "execution_count": 1,
   "metadata": {},
   "outputs": [
    {
     "name": "stdout",
     "output_type": "stream",
     "text": [
      "28872\n",
      "43338\n",
      "28872\n",
      "43338\n"
     ]
    }
   ],
   "source": [
    "DIR = './data/uniprot/sequences/'\n",
    "import pickle\n",
    "import numpy as np\n",
    "\n",
    "with open(DIR + 'vec_train/regressors1.pkl', 'rb') as fp:\n",
    "    X_train = pickle.load(fp)\n",
    "print(len(X_train))\n",
    "with open(DIR + 'vec_test/regressors1.pkl', 'rb') as fp:\n",
    "    X_test = pickle.load(fp)\n",
    "print(len(X_test))\n",
    "with open(DIR + 'vec_train/targets1.pkl', 'rb') as fp:\n",
    "    y_train = pickle.load(fp)\n",
    "\n",
    "with open(DIR + 'vec_test/targets1.pkl', 'rb') as fp:\n",
    "    y_test = pickle.load(fp)\n",
    "\n",
    "with open(DIR + 'vec_train/regressors1_dmm.pkl', 'rb') as fp:\n",
    "    X_train = np.array(X_train) + np.array(pickle.load(fp))\n",
    "print(len(X_train))\n",
    "with open(DIR + 'vec_test/regressors1_dmm.pkl', 'rb') as fp:\n",
    "    X_test = np.array(X_test) + np.array(pickle.load(fp))\n",
    "print(len(X_test))\n",
    "# with open(DIR + 'vec_train/targets1.pkl', 'rb') as fp:\n",
    "#     y_train = y_train + pickle.load(fp)\n",
    "\n",
    "# with open(DIR + 'vec_test/targets1.pkl', 'rb') as fp:\n",
    "#     y_test = y_test + pickle.load(fp)\n",
    "pivot = len(X_train)"
   ]
  },
  {
   "cell_type": "code",
   "execution_count": 2,
   "metadata": {},
   "outputs": [
    {
     "name": "stdout",
     "output_type": "stream",
     "text": [
      "{'chaperonin (HSP60) family': 668, 'thiolase-like superfamily': 651, 'radical SAM superfamily': 1435, 'metallo-dependent hydrolases superfamily': 1080, 'HisA/HisF family': 756, 'protein kinase superfamily': 2534, 'class-I aminoacyl-tRNA synthetase family': 3381, 'class-II aminoacyl-tRNA synthetase family': 4373, 'class I-like SAM-binding methyltransferase superfamily': 2682, 'methylthiotransferase family': 627, 'cytochrome b family': 1077, 'methyltransferase superfamily': 2538, 'TRAFAC class translation factor GTPase superfamily': 2492, 'G-protein coupled receptor 1 family': 1169, 'universal ribosomal protein uL16 family': 639, 'transferase hexapeptide repeat family': 627, 'MurCDEF family': 697, 'ABC transporter superfamily': 2077, 'TRAFAC class TrmE-Era-EngA-EngB-Septin-like GTPase superfamily': 1371, 'universal ribosomal protein uL2 family': 632, 'DEAD box helicase family': 803, 'globin family': 647, 'universal ribosomal protein uS12 family': 615, 'universal ribosomal protein uS8 family': 608, 'universal ribosomal protein uL14 family': 623, 'universal ribosomal protein uS4 family': 688, 'purine/pyrimidine phosphoribosyltransferase family': 606, 'universal ribosomal protein uS19 family': 630, 'universal ribosomal protein uS2 family': 656, 'ATPase alpha/beta chains family': 1422, 'major facilitator superfamily': 960, 'universal ribosomal protein uS7 family': 653, 'cytochrome P450 family': 779, 'heat shock protein 70 family': 769, 'small GTPase superfamily': 699, 'aspartate/ornithine carbamoyltransferase superfamily': 674}\n"
     ]
    },
    {
     "data": {
      "text/plain": [
       "{0: 'chaperonin (HSP60) family',\n",
       " 1: 'thiolase-like superfamily',\n",
       " 2: 'radical SAM superfamily',\n",
       " 3: 'metallo-dependent hydrolases superfamily',\n",
       " 4: 'HisA/HisF family',\n",
       " 5: 'protein kinase superfamily',\n",
       " 6: 'class-I aminoacyl-tRNA synthetase family',\n",
       " 7: 'class-II aminoacyl-tRNA synthetase family',\n",
       " 8: 'class I-like SAM-binding methyltransferase superfamily',\n",
       " 9: 'methylthiotransferase family',\n",
       " 10: 'cytochrome b family',\n",
       " 11: 'methyltransferase superfamily',\n",
       " 12: 'TRAFAC class translation factor GTPase superfamily',\n",
       " 13: 'G-protein coupled receptor 1 family',\n",
       " 14: 'universal ribosomal protein uL16 family',\n",
       " 15: 'transferase hexapeptide repeat family',\n",
       " 16: 'MurCDEF family',\n",
       " 17: 'ABC transporter superfamily',\n",
       " 18: 'TRAFAC class TrmE-Era-EngA-EngB-Septin-like GTPase superfamily',\n",
       " 19: 'universal ribosomal protein uL2 family',\n",
       " 20: 'DEAD box helicase family',\n",
       " 21: 'globin family',\n",
       " 22: 'universal ribosomal protein uS12 family',\n",
       " 23: 'universal ribosomal protein uS8 family',\n",
       " 24: 'universal ribosomal protein uL14 family',\n",
       " 25: 'universal ribosomal protein uS4 family',\n",
       " 26: 'purine/pyrimidine phosphoribosyltransferase family',\n",
       " 27: 'universal ribosomal protein uS19 family',\n",
       " 28: 'universal ribosomal protein uS2 family',\n",
       " 29: 'ATPase alpha/beta chains family',\n",
       " 30: 'major facilitator superfamily',\n",
       " 31: 'universal ribosomal protein uS7 family',\n",
       " 32: 'cytochrome P450 family',\n",
       " 33: 'heat shock protein 70 family',\n",
       " 34: 'small GTPase superfamily',\n",
       " 35: 'aspartate/ornithine carbamoyltransferase superfamily'}"
      ]
     },
     "execution_count": 2,
     "metadata": {},
     "output_type": "execute_result"
    }
   ],
   "source": [
    "import pandas as pd\n",
    "y = y_test\n",
    "fams = {}\n",
    "for i in y:\n",
    "    if i.endswith('\\n'):\n",
    "        fam = i[:-1]\n",
    "    else:\n",
    "        fam = i\n",
    "    if fam not in fams.keys():\n",
    "        fams[fam] = 1\n",
    "    else:\n",
    "        fams[fam] += 1\n",
    "print(fams)\n",
    "\n",
    "d = dict(zip([i for i in range(36)], fams.keys()))\n",
    "d"
   ]
  },
  {
   "cell_type": "code",
   "execution_count": 3,
   "metadata": {},
   "outputs": [],
   "source": [
    "from sklearn.preprocessing import MinMaxScaler, StandardScaler, RobustScaler\n",
    "scaler = StandardScaler()\n",
    "from tqdm import tqdm_notebook\n",
    "X = list(X_train) + list(X_test)\n",
    "y = y_train + y_test\n",
    "X = scaler.fit_transform(X)\n",
    "X_train = X[:pivot]\n",
    "X_test = X[pivot:]\n",
    "y_train = y[:pivot]\n",
    "y_test = y[pivot:]"
   ]
  },
  {
   "cell_type": "code",
   "execution_count": 4,
   "metadata": {},
   "outputs": [
    {
     "name": "stdout",
     "output_type": "stream",
     "text": [
      "28872 28872 43338 43338\n"
     ]
    }
   ],
   "source": [
    "# X_test = X_test[:int(len(y_test)/2)]\n",
    "# y_test = y_test[:int(len(y_test)/2)]\n",
    "print(len(X_train),len(y_train), len(X_test), len(y_test))"
   ]
  },
  {
   "cell_type": "code",
   "execution_count": null,
   "metadata": {},
   "outputs": [],
   "source": [
    "from sklearn.ensemble import ExtraTreesClassifier\n",
    "clf1 = ExtraTreesClassifier(n_estimators=100, max_features=\"auto\",random_state=0).fit(X_train, y_train)\n",
    "# print(clf1.score(X_train, y_train), clf1.score(X_test[int(len(y_test)/2):], y_test[int(len(y_test)/2):]))"
   ]
  },
  {
   "cell_type": "code",
   "execution_count": 6,
   "metadata": {},
   "outputs": [],
   "source": [
    "with open('./data/uniprot/models/extra_trees_c.pkl', 'wb') as fp:\n",
    "    pickle.dump(clf1, fp)"
   ]
  },
  {
   "cell_type": "code",
   "execution_count": 7,
   "metadata": {},
   "outputs": [],
   "source": [
    "from sklearn.naive_bayes import GaussianNB\n",
    "clf2 = GaussianNB().fit(X_train, y_train)\n",
    "# print(clf2.score(X_train, y_train), clf2.score(X_test[int(len(y_test)/2):], y_test[int(len(y_test)/2):]))"
   ]
  },
  {
   "cell_type": "code",
   "execution_count": 8,
   "metadata": {},
   "outputs": [],
   "source": [
    "with open('./data/uniprot/models/GaussianNB_c.pkl', 'wb') as fp:\n",
    "    pickle.dump(clf2, fp)"
   ]
  },
  {
   "cell_type": "code",
   "execution_count": 9,
   "metadata": {},
   "outputs": [],
   "source": [
    "from sklearn.linear_model import LogisticRegression\n",
    "clf3 = LogisticRegression(random_state=0, max_iter=40000).fit(X_train, y_train)\n",
    "# print(clf3.score(X_train, y_train), clf3.score(X_test[int(len(y_test)/2):], y_test[int(len(y_test)/2):]))"
   ]
  },
  {
   "cell_type": "code",
   "execution_count": 10,
   "metadata": {},
   "outputs": [],
   "source": [
    "with open('./data/uniprot/models/logreg_c.pkl', 'wb') as fp:\n",
    "    pickle.dump(clf3, fp)"
   ]
  },
  {
   "cell_type": "code",
   "execution_count": 15,
   "metadata": {},
   "outputs": [],
   "source": [
    "from sklearn.svm import SVC\n",
    "clf5 = SVC(kernel='linear').fit(X_train, y_train)\n",
    "# print(clf4.score(X_train, y_train), clf4.score(X_test[int(len(y_test)/2):], y_test[int(len(y_test)/2):]))"
   ]
  },
  {
   "cell_type": "code",
   "execution_count": 16,
   "metadata": {},
   "outputs": [],
   "source": [
    "with open('./data/uniprot/models/svm_c.pkl', 'wb') as fp:\n",
    "    pickle.dump(clf5, fp)"
   ]
  },
  {
   "cell_type": "code",
   "execution_count": 17,
   "metadata": {},
   "outputs": [],
   "source": [
    "from sklearn.ensemble import RandomForestClassifier\n",
    "clf6 = RandomForestClassifier(n_estimators=100, max_features=\"auto\",random_state=0).fit(X_train, y_train)\n",
    "# print(clf5.score(X_train, y_train), clf5.score(X_test[int(len(y_test)/2):], y_test[int(len(y_test)/2):]))"
   ]
  },
  {
   "cell_type": "code",
   "execution_count": 18,
   "metadata": {},
   "outputs": [],
   "source": [
    "with open('./data/uniprot/models/random_forest_c.pkl', 'wb') as fp:\n",
    "    pickle.dump(clf6, fp)"
   ]
  },
  {
   "cell_type": "code",
   "execution_count": 19,
   "metadata": {},
   "outputs": [],
   "source": [
    "from sklearn.neighbors import KNeighborsClassifier\n",
    "clf7 = KNeighborsClassifier(n_neighbors= 7, weights='distance', algorithm='auto', metric='euclidean', n_jobs=-1).fit(X_train, y_train)\n",
    "# print(clf6.score(X_train, y_train), clf6.score(X_test[int(len(y_test)/2):], y_test[int(len(y_test)/2):]))"
   ]
  },
  {
   "cell_type": "code",
   "execution_count": 20,
   "metadata": {},
   "outputs": [],
   "source": [
    "with open('./data/uniprot/models/knn_c.pkl', 'wb') as fp:\n",
    "    pickle.dump(clf7, fp)"
   ]
  },
  {
   "cell_type": "code",
   "execution_count": 21,
   "metadata": {},
   "outputs": [],
   "source": [
    "from sklearn.svm import SVC\n",
    "clf8 = SVC(kernel='rbf').fit(X_train, y_train)\n",
    "# print(clf7.score(X_train, y_train), clf7.score(X_test[int(len(y_test)/2):], y_test[int(len(y_test)/2):]))"
   ]
  },
  {
   "cell_type": "code",
   "execution_count": 22,
   "metadata": {},
   "outputs": [],
   "source": [
    "with open('./data/uniprot/models/svm_rbf_c.pkl', 'wb') as fp:\n",
    "    pickle.dump(clf8, fp)"
   ]
  },
  {
   "cell_type": "code",
   "execution_count": null,
   "metadata": {},
   "outputs": [],
   "source": [
    "print('HEHE END !!')"
   ]
  },
  {
   "cell_type": "code",
   "execution_count": null,
   "metadata": {},
   "outputs": [],
   "source": [
    "len(list(set(y_train)))"
   ]
  },
  {
   "cell_type": "code",
   "execution_count": null,
   "metadata": {},
   "outputs": [],
   "source": [
    "fams = []\n",
    "for i in y_train:\n",
    "    if i.endswith('\\n'):\n",
    "        fams.append(i[:-1])\n",
    "    else:\n",
    "        fams.append(i)\n",
    "set(fams)"
   ]
  },
  {
   "cell_type": "code",
   "execution_count": null,
   "metadata": {},
   "outputs": [],
   "source": [
    "len(list(set(fams)))"
   ]
  },
  {
   "cell_type": "code",
   "execution_count": null,
   "metadata": {},
   "outputs": [],
   "source": [
    "X = list(X_train) + list(X_test)\n",
    "y = list(y_train) + list(y_test)"
   ]
  },
  {
   "cell_type": "code",
   "execution_count": null,
   "metadata": {},
   "outputs": [],
   "source": [
    "classifiers = {\n",
    "    'clf1' : clf1,\n",
    "    'clf2' : clf2,\n",
    "    'clf3' : clf3,\n",
    "    'clf4' : clf4,\n",
    "    'clf5' : clf5,\n",
    "    'clf6' : clf6,\n",
    "    'clf7' : clf7,\n",
    "}\n",
    "for i in range(1, 8):\n",
    "    print(i, classifiers['clf'+str(i)].score(X, y))"
   ]
  },
  {
   "cell_type": "code",
   "execution_count": null,
   "metadata": {},
   "outputs": [],
   "source": [
    "import numpy as np\n",
    "import matplotlib.pyplot as plt\n",
    "from sklearn.metrics import confusion_matrix\n",
    "\n",
    "temp_y = []\n",
    "for i in y_train:\n",
    "    if i.endswith('\\n'):\n",
    "        temp_y.append(i[:-1])\n",
    "    else:\n",
    "        temp_y.append(i)\n",
    "y_train = temp_y\n",
    "\n",
    "\n",
    "temp_y = []\n",
    "for i in y_test:\n",
    "    if i.endswith('\\n'):\n",
    "        temp_y.append(i[:-1])\n",
    "    else:\n",
    "        temp_y.append(i)\n",
    "y_test = temp_y\n",
    "y = y_train + y_test\n",
    "\n",
    "len(list(set(y_train)))\n",
    "\n",
    "\n",
    "temp = list(set(y))\n",
    "d = dict(zip(temp, [i for i in range(len(temp))]))\n",
    "temp_y = []\n",
    "for i in y:\n",
    "    temp_y.append(d[i])\n",
    "y = temp_y\n",
    "y[0]\n",
    "y_true = y\n",
    "\n",
    "for i in range(1, 8):\n",
    "    y_preds = classifiers['clf'+str(i)].predict(X)\n",
    "    temp = []\n",
    "    for j in y_preds:\n",
    "        if j.endswith('\\n'):\n",
    "            temp.append(j[:-1])\n",
    "        else:\n",
    "            temp.append(j)\n",
    "    y_preds = [d[j] for j in temp]\n",
    "    cm = confusion_matrix(y_true, y_preds)\n",
    "    print(i)\n",
    "    plt.figure(figsize=(40, 40))\n",
    "    plt.imshow(cm, interpolation='nearest', cmap='Pastel1')\n",
    "    plt.title('Confusion matrix', size = 36)\n",
    "    plt.colorbar()\n",
    "    tick_marks = np.arange(36)\n",
    "    plt.xticks(tick_marks, [i for i in list(set(y_true))], rotation=90, size = 15)\n",
    "    plt.yticks(tick_marks, [i for i in list(set(y_true))], size = 15)\n",
    "    plt.tight_layout()\n",
    "    plt.ylabel('Actual label', size = 36)\n",
    "    plt.xlabel('Predicted label', size = 36)\n",
    "    width, height = cm.shape\n",
    "    for x in range(width):\n",
    "        for y in range(height):\n",
    "            plt.annotate(str(cm[x][y]), xy=(y, x), horizontalalignment='center', verticalalignment='center')"
   ]
  },
  {
   "cell_type": "code",
   "execution_count": 5,
   "metadata": {},
   "outputs": [
    {
     "name": "stdout",
     "output_type": "stream",
     "text": [
      "chaperonin (HSP60) family\n",
      "32\n"
     ]
    },
    {
     "data": {
      "text/plain": [
       "36"
      ]
     },
     "execution_count": 5,
     "metadata": {},
     "output_type": "execute_result"
    }
   ],
   "source": [
    "import numpy as np\n",
    "import matplotlib.pyplot as plt\n",
    "from sklearn.metrics import confusion_matrix\n",
    "print(y_train[0])\n",
    "temp_y = []\n",
    "for i in y_train:\n",
    "    if i.endswith('\\n'):\n",
    "        temp_y.append(i[:-1])\n",
    "    else:\n",
    "        temp_y.append(i)\n",
    "y_train = temp_y\n",
    "\n",
    "\n",
    "temp_y = []\n",
    "for i in y_test:\n",
    "    if i.endswith('\\n'):\n",
    "        temp_y.append(i[:-1])\n",
    "    else:\n",
    "        temp_y.append(i)\n",
    "y_test = temp_y\n",
    "y = y_train + y_test\n",
    "\n",
    "\n",
    "\n",
    "\n",
    "temp = list(set(y))\n",
    "with open ('./data/uniprot/models/label2idx.pkl', 'rb') as pkl:\n",
    "    d = pickle.load(pkl)\n",
    "temp_y = []\n",
    "for i in y:\n",
    "    temp_y.append(d[i])\n",
    "y = temp_y\n",
    "y_train = [d[i] for i in y_train]\n",
    "y_test = [d[i] for i in y_test]\n",
    "y[0]\n",
    "y_true = y\n",
    "print(y_train[0])\n",
    "len(list(set(y_train)))"
   ]
  },
  {
   "cell_type": "code",
   "execution_count": 6,
   "metadata": {},
   "outputs": [],
   "source": [
    "from sklearn import svm, datasets\n",
    "from sklearn.metrics import roc_curve, auc\n",
    "from sklearn.model_selection import train_test_split\n",
    "from sklearn.preprocessing import label_binarize\n",
    "from sklearn.multiclass import OneVsRestClassifier\n",
    "from scipy import interp\n",
    "from sklearn.metrics import roc_auc_score"
   ]
  },
  {
   "cell_type": "code",
   "execution_count": 7,
   "metadata": {},
   "outputs": [
    {
     "data": {
      "text/plain": [
       "36"
      ]
     },
     "execution_count": 7,
     "metadata": {},
     "output_type": "execute_result"
    }
   ],
   "source": [
    "from sklearn.model_selection import train_test_split\n",
    "X_test, X_val, y_test, y_val = train_test_split(X_test, y_test, test_size=0.5, random_state=44)\n",
    "len(list(set(list(y_test))))"
   ]
  },
  {
   "cell_type": "code",
   "execution_count": 8,
   "metadata": {},
   "outputs": [],
   "source": [
    "y_train = label_binarize(np.array(y_train), classes=list(set(y_train)))\n",
    "y_test = label_binarize(np.array(y_test), classes=list(set(y_test)))"
   ]
  },
  {
   "cell_type": "code",
   "execution_count": 9,
   "metadata": {},
   "outputs": [],
   "source": [
    "n_classes = y_train.shape[1]\n",
    "n_samples, n_features = X.shape\n",
    "import os\n",
    "def plot_roc(clf, file, linestyle):\n",
    "    classifier = OneVsRestClassifier(clf)\n",
    "    if os.path.exists('./data/uniprot/models/' + file + '.pkl'):\n",
    "        with open ('./data/uniprot/models/' + file + '.pkl', 'rb') as pkl:\n",
    "            model = pickle.load(pkl)\n",
    "    else:\n",
    "        model = classifier.fit(X_train, y_train)\n",
    "        with open ('./data/uniprot/models/' + file + '.pkl', 'wb') as pkl:\n",
    "            pickle.dump(model, pkl)\n",
    "    if file.endswith('linear') or file.endswith('rbf'):\n",
    "        y_score = model.decision_function(X_test)\n",
    "    else:\n",
    "        y_score = model.predict_proba(X_test)\n",
    "    fpr = dict()\n",
    "    tpr = dict()\n",
    "    roc_auc = dict()\n",
    "    for i in range(n_classes):\n",
    "        fpr[i], tpr[i], _ = roc_curve(y_test[:, i], y_score[:, i])\n",
    "        roc_auc[i] = auc(fpr[i], tpr[i])\n",
    "    # Compute micro-average ROC curve and ROC area\n",
    "    fpr[\"micro\"], tpr[\"micro\"], _ = roc_curve(y_test.ravel(), y_score.ravel())\n",
    "    roc_auc[\"micro\"] = auc(fpr[\"micro\"], tpr[\"micro\"])\n",
    "    lw = 2\n",
    "\n",
    "    \n",
    "    print(file)\n",
    "#     print(model.score(X_train, y_train), model.score(X_test, y_test), model.score(X, y))\n",
    "    plt.rcParams[\"figure.figsize\"] = (8,5)\n",
    "    plt.rcParams['xtick.labelsize']= 12\n",
    "    plt.rcParams['ytick.labelsize'] = 12\n",
    "    plt.plot(fpr[2], tpr[2],\n",
    "             lw=lw, label=file + ' (area = %0.2f)' % roc_auc[2], color='black', linestyle=linestyle)\n",
    "    plt.plot([0, 1], [0, 1], color='black', lw=lw, linestyle='--')\n",
    "    plt.xlim([0.0, 1.0])\n",
    "    plt.ylim([0.0, 1.05])\n",
    "    plt.xlabel('False Positive Rate', size=14)\n",
    "    plt.ylabel('True Positive Rate', size=14)\n",
    "    plt.title('Receiver operating characteristic Plot on DBOW+DM Data', size=16)\n",
    "    plt.legend(loc=\"lower right\", fontsize=8)"
   ]
  },
  {
   "cell_type": "code",
   "execution_count": 10,
   "metadata": {},
   "outputs": [],
   "source": [
    "from collections import OrderedDict\n",
    "\n",
    "linestyles = OrderedDict(\n",
    "    [('solid',               (0, ())),\n",
    "     ('loosely dotted',      (0, (1, 10))),\n",
    "     ('dotted',              (0, (1, 5))),\n",
    "     ('densely dotted',      (0, (1, 1))),\n",
    "\n",
    "     ('loosely dashed',      (0, (5, 10))),\n",
    "     ('dashed',              (0, (5, 5))),\n",
    "     ('densely dashed',      (0, (5, 1))),\n",
    "\n",
    "     ('loosely dashdotted',  (0, (3, 10, 1, 10))),\n",
    "     ('dashdotted',          (0, (3, 5, 1, 5))),\n",
    "     ('densely dashdotted',  (0, (3, 1, 1, 1))),\n",
    "\n",
    "     ('loosely dashdotdotted', (0, (3, 10, 1, 10, 1, 10))),\n",
    "     ('dashdotdotted',         (0, (3, 5, 1, 5, 1, 5))),\n",
    "     ('densely dashdotdotted', (0, (3, 1, 1, 1, 1, 1)))])"
   ]
  },
  {
   "cell_type": "code",
   "execution_count": 11,
   "metadata": {
    "scrolled": true
   },
   "outputs": [
    {
     "name": "stdout",
     "output_type": "stream",
     "text": [
      "DBOW+DM Extra Trees Classifier\n",
      "DBOW+DM Gaussian Naive Bayes\n",
      "DBOW+DM Logistic Regression\n",
      "DBOW+DM Random Forest Classifier\n",
      "DBOW+DM K-Nearest Neighbor\n",
      "DBOW+DM SVM kernel=linear\n",
      "DBOW+DM SVM kernel=rbf\n"
     ]
    },
    {
     "data": {
      "image/png": "[encoded data removed]",
      "text/plain": [
       "<Figure size 576x360 with 1 Axes>"
      ]
     },
     "metadata": {
      "needs_background": "light"
     },
     "output_type": "display_data"
    }
   ],
   "source": [
    "from sklearn.ensemble import ExtraTreesClassifier\n",
    "from sklearn.naive_bayes import GaussianNB\n",
    "from sklearn.linear_model import LogisticRegression\n",
    "from sklearn.svm import SVC\n",
    "from sklearn.ensemble import RandomForestClassifier\n",
    "from sklearn.neighbors import KNeighborsClassifier\n",
    "\n",
    "\n",
    "plot_roc(ExtraTreesClassifier(n_estimators=100, max_features=\"auto\",random_state=0), 'DBOW+DM Extra Trees Classifier', linestyles['loosely dotted'])\n",
    "plot_roc(GaussianNB(), 'DBOW+DM Gaussian Naive Bayes', linestyles['dotted'])\n",
    "plot_roc(LogisticRegression(random_state=0, max_iter=40000), 'DBOW+DM Logistic Regression', linestyles['dashed'])\n",
    "plot_roc(RandomForestClassifier(n_estimators=100, max_features=\"auto\",random_state=0), 'DBOW+DM Random Forest Classifier', linestyles['loosely dashdotted'])\n",
    "plot_roc(KNeighborsClassifier(n_neighbors= 7, weights='distance', algorithm='auto', metric='euclidean', n_jobs=-1), 'DBOW+DM K-Nearest Neighbor', linestyles['densely dashdotted'])\n",
    "plot_roc(SVC(kernel='linear'), 'DBOW+DM SVM kernel=linear', linestyles['densely dashdotdotted'])\n",
    "plot_roc(SVC(kernel='rbf'), 'DBOW+DM SVM kernel=rbf', linestyles['solid'])\n",
    "plt.savefig('Z:/Projects/Protein Family Prediction using Document Embedding (SUCCESS)/Paper Submission/latest/dbow_dm_roc.tif', dpi=600)"
   ]
  },
  {
   "cell_type": "code",
   "execution_count": 23,
   "metadata": {},
   "outputs": [
    {
     "name": "stdout",
     "output_type": "stream",
     "text": [
      "DBOW+DM Gaussian Naive Bayes\n",
      "Average precision score, micro-averaged over all classes: 0.56\n"
     ]
    },
    {
     "data": {
      "image/png": "[encoded data removed]",
      "text/plain": [
       "<Figure size 108x108 with 1 Axes>"
      ]
     },
     "metadata": {
      "needs_background": "light"
     },
     "output_type": "display_data"
    },
    {
     "name": "stdout",
     "output_type": "stream",
     "text": [
      "DBOW+DM Extra Trees Classifier\n",
      "Average precision score, micro-averaged over all classes: 0.75\n"
     ]
    },
    {
     "data": {
      "image/png": "[encoded data removed]",
      "text/plain": [
       "<Figure size 108x108 with 1 Axes>"
      ]
     },
     "metadata": {
      "needs_background": "light"
     },
     "output_type": "display_data"
    },
    {
     "name": "stdout",
     "output_type": "stream",
     "text": [
      "DBOW+DM Logistic Regression\n",
      "Average precision score, micro-averaged over all classes: 0.74\n"
     ]
    },
    {
     "data": {
      "image/png": "[encoded data removed]",
      "text/plain": [
       "<Figure size 108x108 with 1 Axes>"
      ]
     },
     "metadata": {
      "needs_background": "light"
     },
     "output_type": "display_data"
    },
    {
     "name": "stdout",
     "output_type": "stream",
     "text": [
      "DBOW+DM Random Forest Classifier\n",
      "Average precision score, micro-averaged over all classes: 0.67\n"
     ]
    },
    {
     "data": {
      "image/png": "[encoded data removed]",
      "text/plain": [
       "<Figure size 108x108 with 1 Axes>"
      ]
     },
     "metadata": {
      "needs_background": "light"
     },
     "output_type": "display_data"
    },
    {
     "name": "stdout",
     "output_type": "stream",
     "text": [
      "DBOW+DM K-Nearest Neighbor\n",
      "Average precision score, micro-averaged over all classes: 0.57\n"
     ]
    },
    {
     "data": {
      "image/png": "[encoded data removed]",
      "text/plain": [
       "<Figure size 108x108 with 1 Axes>"
      ]
     },
     "metadata": {
      "needs_background": "light"
     },
     "output_type": "display_data"
    },
    {
     "name": "stdout",
     "output_type": "stream",
     "text": [
      "DBOW+DM SVM kernel=linear\n",
      "Average precision score, micro-averaged over all classes: 0.57\n"
     ]
    },
    {
     "data": {
      "image/png": "[encoded data removed]",
      "text/plain": [
       "<Figure size 108x108 with 1 Axes>"
      ]
     },
     "metadata": {
      "needs_background": "light"
     },
     "output_type": "display_data"
    },
    {
     "name": "stdout",
     "output_type": "stream",
     "text": [
      "DBOW+DM SVM kernel=rbf\n",
      "Average precision score, micro-averaged over all classes: 0.82\n"
     ]
    },
    {
     "data": {
      "image/png": "[encoded data removed]",
      "text/plain": [
       "<Figure size 108x108 with 1 Axes>"
      ]
     },
     "metadata": {
      "needs_background": "light"
     },
     "output_type": "display_data"
    }
   ],
   "source": [
    "from sklearn.metrics import precision_recall_curve\n",
    "from sklearn.metrics import average_precision_score, recall_score\n",
    "files = ['DBOW+DM Gaussian Naive Bayes', 'DBOW+DM Extra Trees Classifier', 'DBOW+DM Logistic Regression', 'DBOW+DM Random Forest Classifier', 'DBOW+DM K-Nearest Neighbor', 'DBOW+DM SVM kernel=linear', 'DBOW+DM SVM kernel=rbf']\n",
    "for file in files:\n",
    "    print(file)\n",
    "    with open ('./data/uniprot/models/' + file + '.pkl', 'rb') as pkl:\n",
    "        model = pickle.load(pkl)\n",
    "    if file.endswith('linear') or file.endswith('rbf'):\n",
    "        y_score = model.decision_function(X_test)\n",
    "    else:\n",
    "        y_score = model.predict_proba(X_test)\n",
    "    # For each class\n",
    "    precision = dict()\n",
    "    recall = dict()\n",
    "    thresh = dict()\n",
    "    f1 = dict()\n",
    "    average_precision = dict()\n",
    "    average_recall = dict()\n",
    "    average_f1_score = dict()\n",
    "    for i in range(n_classes):\n",
    "        precision[i], recall[i], thresh[i] = precision_recall_curve(y_test[:, i],\n",
    "                                                            y_score[:, i])\n",
    "        average_precision[i] = average_precision_score(y_test[:, i], y_score[:, i])\n",
    "\n",
    "    # A \"micro-average\": quantifying score on all classes jointly\n",
    "    precision[\"micro\"], recall[\"micro\"], thresh['micro'] = precision_recall_curve(y_test.ravel(),\n",
    "        y_score.ravel())\n",
    "    \n",
    "#     f1['micro'] = 2 * (precision['micro']*recall['micro']) / (precision['micro']+recall['micro'])\n",
    "    \n",
    "    average_precision[\"micro\"] = average_precision_score(y_test, y_score,\n",
    "                                                         average=\"micro\")\n",
    "    print('Average precision score, micro-averaged over all classes: {0:0.2f}'\n",
    "          .format(average_precision[\"micro\"]))\n",
    "    \n",
    "    \n",
    "    plt.rcParams[\"figure.figsize\"] = (1.5,1.5)    \n",
    "    plt.rcParams['xtick.labelsize']=5\n",
    "    plt.rcParams['ytick.labelsize']=5\n",
    "    plt.step(recall['micro'], precision['micro'], where='post', color='black')\n",
    "    plt.xlabel('Recall', size=5)\n",
    "    plt.ylabel('Precision', size=5)\n",
    "    plt.ylim([0.0, 1.05])\n",
    "    plt.xlim([0.0, 1.0])\n",
    "    plt.title( file, size=5)\n",
    "    plt.tight_layout()\n",
    "    plt.savefig('Z:/Projects/Protein Family Prediction using Document Embedding (SUCCESS)/Paper Submission/latest/'+file+'.tif', dpi=600)\n",
    "    plt.show()\n",
    "    \n",
    "#     plt.figure()\n",
    "#     plt.step(thresh['micro'], f1['micro'][:-1], where='post')\n",
    "#     plt.xlabel('F1 Score')\n",
    "#     plt.ylabel('Threshold')\n",
    "#     plt.ylim([0.0, 1.05])\n",
    "#     plt.xlim([0.0, 1.0])\n",
    "#     plt.title('F1-Score, micro-averaged over all classes vs Threshold')\n",
    "#     plt.show()\n",
    "#     print(file + ' Threshold = ', thresh['micro'][np.argmax(f1['micro'][:-1])])\n",
    "#     break"
   ]
  },
  {
   "cell_type": "code",
   "execution_count": 10,
   "metadata": {
    "scrolled": true
   },
   "outputs": [
    {
     "name": "stdout",
     "output_type": "stream",
     "text": [
      "DBOW+DM K-Nearest Neighbor\n",
      "Average precision score, micro-averaged over all classes: 0.57\n"
     ]
    },
    {
     "data": {
      "image/png": "[encoded data removed]",
      "text/plain": [
       "<Figure size 432x288 with 1 Axes>"
      ]
     },
     "metadata": {
      "needs_background": "light"
     },
     "output_type": "display_data"
    },
    {
     "data": {
      "image/png": "[encoded data removed]",
      "text/plain": [
       "<Figure size 432x288 with 1 Axes>"
      ]
     },
     "metadata": {
      "needs_background": "light"
     },
     "output_type": "display_data"
    },
    {
     "name": "stdout",
     "output_type": "stream",
     "text": [
      "DBOW+DM K-Nearest Neighbor Threshold =  0.43266697403261395\n",
      "DBOW+DM SVM kernel=rbf\n",
      "Average precision score, micro-averaged over all classes: 0.82\n"
     ]
    },
    {
     "data": {
      "image/png": "[encoded data removed]",
      "text/plain": [
       "<Figure size 432x288 with 1 Axes>"
      ]
     },
     "metadata": {
      "needs_background": "light"
     },
     "output_type": "display_data"
    },
    {
     "data": {
      "image/png": "[encoded data removed]",
      "text/plain": [
       "<Figure size 432x288 with 1 Axes>"
      ]
     },
     "metadata": {
      "needs_background": "light"
     },
     "output_type": "display_data"
    },
    {
     "name": "stdout",
     "output_type": "stream",
     "text": [
      "DBOW+DM SVM kernel=rbf Threshold =  -0.5252146537379045\n"
     ]
    }
   ],
   "source": [
    "n_classes = y_train.shape[1]\n",
    "n_samples, n_features = X.shape\n",
    "\n",
    "from sklearn.metrics import precision_recall_curve\n",
    "from sklearn.metrics import average_precision_score, recall_score\n",
    "files = ['DBOW+DM K-Nearest Neighbor', 'DBOW+DM SVM kernel=rbf']\n",
    "for file in files:\n",
    "    print(file)\n",
    "    with open ('./data/uniprot/models/' + file + '.pkl', 'rb') as pkl:\n",
    "        model = pickle.load(pkl)\n",
    "    if file.endswith('linear') or file.endswith('rbf'):\n",
    "        y_score = model.decision_function(X_test)\n",
    "    else:\n",
    "        y_score = model.predict_proba(X_test)\n",
    "    # For each class\n",
    "    precision = dict()\n",
    "    recall = dict()\n",
    "    thresh = dict()\n",
    "    f1 = dict()\n",
    "    average_precision = dict()\n",
    "    average_recall = dict()\n",
    "    average_f1_score = dict()\n",
    "    for i in range(n_classes):\n",
    "        precision[i], recall[i], thresh[i] = precision_recall_curve(y_test[:, i],\n",
    "                                                            y_score[:, i])\n",
    "        average_precision[i] = average_precision_score(y_test[:, i], y_score[:, i])\n",
    "\n",
    "    # A \"micro-average\": quantifying score on all classes jointly\n",
    "    precision[\"micro\"], recall[\"micro\"], thresh['micro'] = precision_recall_curve(y_test.ravel(),\n",
    "        y_score.ravel())\n",
    "    \n",
    "    f1['micro'] = 2 * (precision['micro']*recall['micro']) / (precision['micro']+recall['micro'])\n",
    "    \n",
    "    average_precision[\"micro\"] = average_precision_score(y_test, y_score,\n",
    "                                                         average=\"micro\")\n",
    "    print('Average precision score, micro-averaged over all classes: {0:0.2f}'\n",
    "          .format(average_precision[\"micro\"]))\n",
    "#     average_recall['micro'] = recall_score(y_test, y_score, average='micro')\n",
    "#     print('Average recall score, micro-averaged over all classes: {0:0.2f}'\n",
    "#           .format(average_recall[\"micro\"]))\n",
    "#     average_f1_score['micro'] = 2*average_precision['micro']*average_recall['micro']/(average_precision['micro']+average_recall['micro'])\n",
    "#     print(('Average F1 score, micro-averaged over all classes: {0:0.2f}'\n",
    "#           .format(average_f1_score[\"micro\"])))\n",
    "    plt.figure()\n",
    "    plt.step(recall['micro'], precision['micro'], where='post')\n",
    "    plt.xlabel('Recall')\n",
    "    plt.ylabel('Precision')\n",
    "    plt.ylim([0.0, 1.05])\n",
    "    plt.xlim([0.0, 1.0])\n",
    "    plt.title( 'Precision Score vs Recall Score, micro averaged over all classes')\n",
    "    plt.show()\n",
    "    \n",
    "    plt.figure()\n",
    "    plt.step(thresh['micro'], f1['micro'][:-1], where='post')\n",
    "    plt.xlabel('F1 Score')\n",
    "    plt.ylabel('Threshold')\n",
    "    plt.ylim([0.0, 1.05])\n",
    "    plt.xlim([0.0, 1.0])\n",
    "    plt.title('F1-Score, micro-averaged over all classes vs Threshold')\n",
    "    plt.show()\n",
    "    print(file + ' Threshold = ', thresh['micro'][np.argmax(f1['micro'][:-1])])"
   ]
  },
  {
   "cell_type": "code",
   "execution_count": null,
   "metadata": {},
   "outputs": [
    {
     "name": "stderr",
     "output_type": "stream",
     "text": [
      "C:\\Users\\chahabiscuit\\Anaconda3\\lib\\site-packages\\ipykernel_launcher.py:12: TqdmDeprecationWarning: This function will be removed in tqdm==5.0.0\n",
      "Please use `tqdm.notebook.tqdm` instead of `tqdm.tqdm_notebook`\n",
      "  if sys.path[0] == '':\n"
     ]
    },
    {
     "data": {
      "application/vnd.jupyter.widget-view+json": {
       "model_id": "724524c389e74f938d532c5d16322e0e",
       "version_major": 2,
       "version_minor": 0
      },
      "text/plain": [
       "HBox(children=(FloatProgress(value=1.0, bar_style='info', max=1.0), HTML(value='')))"
      ]
     },
     "metadata": {},
     "output_type": "display_data"
    },
    {
     "name": "stdout",
     "output_type": "stream",
     "text": [
      "One-vs-All DBOW+DM SVM kernel=linear 0.9999307287337212 0.5963127047856385 0.7576928403268245\n",
      "One-vs-All DBOW+DM Gaussian Naive Bayes 0.8431352175117761 0.4609119017951913 0.6137377094585238\n",
      "One-vs-All DBOW+DM Extra Trees Classifier 1.0 0.3552309751257557 0.6130314360891843\n",
      "One-vs-All DBOW+DM Logistic Regression 0.9989955666389582 0.6620517790391804 0.7967733000969395\n",
      "One-vs-All DBOW+DM Random Forest Classifier 0.9999307287337212 0.3821588444321381 0.6291649356044869\n"
     ]
    }
   ],
   "source": [
    "import numpy as np\n",
    "from sklearn.metrics import accuracy_score\n",
    "from tqdm import tqdm_notebook\n",
    "import pickle\n",
    "with open ('./data/uniprot/models/label2idx.pkl', 'rb') as pkl:\n",
    "    d = pickle.load(pkl)\n",
    "idx2label = dict(zip(d.values(), d.keys()))\n",
    "\n",
    "files = ['DBOW+DM SVM kernel=linear', 'DBOW+DM Gaussian Naive Bayes', 'DBOW+DM Extra Trees Classifier', 'DBOW+DM Logistic Regression', 'DBOW+DM Random Forest Classifier', 'DBOW+DM K-Nearest Neighbor', 'DBOW+DM SVM kernel=rbf']\n",
    "thresholds = [0.1511, 0.1842, 0.14, 0.64479, 0.14, 0.4336, 0.5]\n",
    "# files = ['DBOW Logistic Regression']\n",
    "for file, thresh in tqdm_notebook(zip(files, thresholds)):\n",
    "    with open ('./data/uniprot/models/' + file + '.pkl', 'rb') as pkl:\n",
    "        model = pickle.load(pkl)\n",
    "    y_pred = model.predict(X_test)\n",
    "    y_pred = [idx2label[np.argmax(pred)] for pred in y_pred]\n",
    "    testing_acc = accuracy_score(y_pred, y_test)\n",
    "    \n",
    "    y_pred = model.predict(X_train)\n",
    "    y_pred = [idx2label[np.argmax(pred)] for pred in y_pred]\n",
    "    training_acc = accuracy_score(y_pred, y_train)\n",
    "    \n",
    "    y_pred = model.predict(X)\n",
    "    y_pred = [idx2label[np.argmax(pred)] for pred in y_pred]\n",
    "    avg_acc = accuracy_score(y_pred, y)\n",
    "    print('One-vs-All', file, training_acc, testing_acc, avg_acc)"
   ]
  },
  {
   "cell_type": "code",
   "execution_count": null,
   "metadata": {},
   "outputs": [
    {
     "name": "stderr",
     "output_type": "stream",
     "text": [
      "\r",
      "0it [00:00, ?it/s]"
     ]
    }
   ],
   "source": [
    "import numpy as np\n",
    "from sklearn.metrics import accuracy_score\n",
    "from tqdm import tqdm\n",
    "import pickle\n",
    "with open ('./data/uniprot/models/label2idx.pkl', 'rb') as pkl:\n",
    "    d = pickle.load(pkl)\n",
    "idx2label = dict(zip(d.values(), d.keys()))\n",
    "\n",
    "files = ['DBOW+DM K-Nearest Neighbor', 'DBOW+DM SVM kernel=rbf']\n",
    "thresholds = [0.4336, 0.5]\n",
    "# files = ['DBOW Logistic Regression']\n",
    "for file, thresh in tqdm(zip(files, thresholds)):\n",
    "    with open ('./data/uniprot/models/' + file + '.pkl', 'rb') as pkl:\n",
    "        model = pickle.load(pkl)\n",
    "    y_pred = model.predict(X_test)\n",
    "    y_pred = [idx2label[np.argmax(pred)] for pred in y_pred]\n",
    "    testing_acc = accuracy_score(y_pred, y_test)\n",
    "    \n",
    "    y_pred = model.predict(X_train)\n",
    "    y_pred = [idx2label[np.argmax(pred)] for pred in y_pred]\n",
    "    training_acc = accuracy_score(y_pred, y_train)\n",
    "    \n",
    "    y_pred = model.predict(X)\n",
    "    y_pred = [idx2label[np.argmax(pred)] for pred in y_pred]\n",
    "    avg_acc = accuracy_score(y_pred, y)\n",
    "    print('One-vs-All', file, training_acc, testing_acc, avg_acc)"
   ]
  },
  {
   "cell_type": "code",
   "execution_count": 23,
   "metadata": {},
   "outputs": [
    {
     "name": "stderr",
     "output_type": "stream",
     "text": [
      "C:\\Users\\chahabiscuit\\Anaconda3\\lib\\site-packages\\ipykernel_launcher.py:5: TqdmDeprecationWarning: This function will be removed in tqdm==5.0.0\n",
      "Please use `tqdm.notebook.tqdm` instead of `tqdm.tqdm_notebook`\n",
      "  \"\"\"\n"
     ]
    },
    {
     "data": {
      "application/vnd.jupyter.widget-view+json": {
       "model_id": "7e886bd005ac4239a780af8ad61c8194",
       "version_major": 2,
       "version_minor": 0
      },
      "text/plain": [
       "HBox(children=(FloatProgress(value=0.0, max=7.0), HTML(value='')))"
      ]
     },
     "metadata": {},
     "output_type": "display_data"
    },
    {
     "name": "stdout",
     "output_type": "stream",
     "text": [
      "extra_trees_c\n"
     ]
    },
    {
     "name": "stderr",
     "output_type": "stream",
     "text": [
      "C:\\Users\\chahabiscuit\\Anaconda3\\lib\\site-packages\\sklearn\\metrics\\_classification.py:1221: UndefinedMetricWarning: Recall and F-score are ill-defined and being set to 0.0 in labels with no true samples. Use `zero_division` parameter to control this behavior.\n",
      "  _warn_prf(average, modifier, msg_start, len(result))\n"
     ]
    },
    {
     "name": "stdout",
     "output_type": "stream",
     "text": [
      "0.6739120402418202\n",
      "Testing NMI -  0.47798798334814036\n",
      "                                                                precision    recall  f1-score   support\n",
      "\n",
      "                                   ABC transporter superfamily       0.00      0.00      0.00         0\n",
      "                               ATPase alpha/beta chains family       0.00      0.00      0.00         0\n",
      "                                      DEAD box helicase family       0.00      0.00      0.00         0\n",
      "                           G-protein coupled receptor 1 family       0.00      0.00      0.00         0\n",
      "                                              HisA/HisF family       0.98      0.81      0.89       756\n",
      "                                                MurCDEF family       0.00      0.00      0.00         0\n",
      "TRAFAC class TrmE-Era-EngA-EngB-Septin-like GTPase superfamily       0.00      0.00      0.00         0\n",
      "            TRAFAC class translation factor GTPase superfamily       0.00      0.00      0.00         0\n",
      "          aspartate/ornithine carbamoyltransferase superfamily       0.00      0.00      0.00         0\n",
      "                                     chaperonin (HSP60) family       0.99      0.87      0.93       668\n",
      "        class I-like SAM-binding methyltransferase superfamily       0.68      0.63      0.66      2682\n",
      "                      class-I aminoacyl-tRNA synthetase family       0.83      0.75      0.79      3381\n",
      "                     class-II aminoacyl-tRNA synthetase family       0.70      0.82      0.76      4373\n",
      "                                        cytochrome P450 family       0.00      0.00      0.00         0\n",
      "                                           cytochrome b family       0.77      0.91      0.84      1077\n",
      "                                                 globin family       0.00      0.00      0.00         0\n",
      "                                  heat shock protein 70 family       0.00      0.00      0.00         0\n",
      "                                 major facilitator superfamily       0.00      0.00      0.00         0\n",
      "                      metallo-dependent hydrolases superfamily       0.96      0.50      0.66      1080\n",
      "                                  methylthiotransferase family       0.99      0.60      0.74       627\n",
      "                                 methyltransferase superfamily       0.73      0.65      0.69      2405\n",
      "                                    protein kinase superfamily       0.60      0.38      0.47      2534\n",
      "            purine/pyrimidine phosphoribosyltransferase family       0.00      0.00      0.00         0\n",
      "                                       radical SAM superfamily       0.88      0.63      0.73      1435\n",
      "                                      small GTPase superfamily       0.00      0.00      0.00         0\n",
      "                                     thiolase-like superfamily       1.00      0.38      0.55       651\n",
      "                       universal ribosomal protein uL14 family       0.00      0.00      0.00         0\n",
      "                       universal ribosomal protein uL16 family       0.00      0.00      0.00         0\n",
      "                       universal ribosomal protein uS12 family       0.00      0.00      0.00         0\n",
      "                       universal ribosomal protein uS19 family       0.00      0.00      0.00         0\n",
      "                        universal ribosomal protein uS2 family       0.00      0.00      0.00         0\n",
      "                        universal ribosomal protein uS4 family       0.00      0.00      0.00         0\n",
      "                        universal ribosomal protein uS7 family       0.00      0.00      0.00         0\n",
      "                        universal ribosomal protein uS8 family       0.00      0.00      0.00         0\n",
      "\n",
      "                                                      accuracy                           0.67     21669\n",
      "                                                     macro avg       0.30      0.23      0.26     21669\n",
      "                                                  weighted avg       0.78      0.67      0.71     21669\n",
      "\n",
      "\n",
      "\n",
      "GaussianNB_c\n"
     ]
    },
    {
     "name": "stderr",
     "output_type": "stream",
     "text": [
      "C:\\Users\\chahabiscuit\\Anaconda3\\lib\\site-packages\\sklearn\\metrics\\_classification.py:1221: UndefinedMetricWarning: Recall and F-score are ill-defined and being set to 0.0 in labels with no true samples. Use `zero_division` parameter to control this behavior.\n",
      "  _warn_prf(average, modifier, msg_start, len(result))\n"
     ]
    },
    {
     "name": "stdout",
     "output_type": "stream",
     "text": [
      "0.7463196271170797\n",
      "Testing NMI -  0.5755062835647319\n",
      "                                                                precision    recall  f1-score   support\n",
      "\n",
      "                                   ABC transporter superfamily       0.00      0.00      0.00         0\n",
      "                               ATPase alpha/beta chains family       0.00      0.00      0.00         0\n",
      "                                      DEAD box helicase family       0.00      0.00      0.00         0\n",
      "                           G-protein coupled receptor 1 family       0.00      0.00      0.00         0\n",
      "                                              HisA/HisF family       1.00      0.64      0.78       756\n",
      "TRAFAC class TrmE-Era-EngA-EngB-Septin-like GTPase superfamily       0.00      0.00      0.00         0\n",
      "            TRAFAC class translation factor GTPase superfamily       0.00      0.00      0.00         0\n",
      "          aspartate/ornithine carbamoyltransferase superfamily       0.00      0.00      0.00         0\n",
      "                                     chaperonin (HSP60) family       1.00      0.75      0.86       668\n",
      "        class I-like SAM-binding methyltransferase superfamily       0.71      0.77      0.73      2682\n",
      "                      class-I aminoacyl-tRNA synthetase family       0.97      0.74      0.84      3381\n",
      "                     class-II aminoacyl-tRNA synthetase family       0.66      0.91      0.77      4373\n",
      "                                        cytochrome P450 family       0.00      0.00      0.00         0\n",
      "                                           cytochrome b family       0.93      0.82      0.87      1077\n",
      "                                                 globin family       0.00      0.00      0.00         0\n",
      "                                 major facilitator superfamily       0.00      0.00      0.00         0\n",
      "                      metallo-dependent hydrolases superfamily       0.99      0.62      0.76      1080\n",
      "                                  methylthiotransferase family       1.00      0.62      0.77       627\n",
      "                                 methyltransferase superfamily       0.84      0.74      0.79      2405\n",
      "                                    protein kinase superfamily       0.50      0.63      0.56      2534\n",
      "            purine/pyrimidine phosphoribosyltransferase family       0.00      0.00      0.00         0\n",
      "                                       radical SAM superfamily       0.94      0.71      0.81      1435\n",
      "                                      small GTPase superfamily       0.00      0.00      0.00         0\n",
      "                                     thiolase-like superfamily       1.00      0.43      0.60       651\n",
      "                       universal ribosomal protein uL14 family       0.00      0.00      0.00         0\n",
      "                       universal ribosomal protein uL16 family       0.00      0.00      0.00         0\n",
      "                       universal ribosomal protein uS12 family       0.00      0.00      0.00         0\n",
      "                       universal ribosomal protein uS19 family       0.00      0.00      0.00         0\n",
      "                        universal ribosomal protein uS2 family       0.00      0.00      0.00         0\n",
      "                        universal ribosomal protein uS7 family       0.00      0.00      0.00         0\n",
      "                        universal ribosomal protein uS8 family       0.00      0.00      0.00         0\n",
      "\n",
      "                                                      accuracy                           0.75     21669\n",
      "                                                     macro avg       0.34      0.27      0.29     21669\n",
      "                                                  weighted avg       0.81      0.75      0.76     21669\n",
      "\n",
      "\n",
      "\n",
      "logreg_c\n"
     ]
    },
    {
     "name": "stderr",
     "output_type": "stream",
     "text": [
      "C:\\Users\\chahabiscuit\\Anaconda3\\lib\\site-packages\\sklearn\\metrics\\_classification.py:1221: UndefinedMetricWarning: Recall and F-score are ill-defined and being set to 0.0 in labels with no true samples. Use `zero_division` parameter to control this behavior.\n",
      "  _warn_prf(average, modifier, msg_start, len(result))\n"
     ]
    },
    {
     "name": "stdout",
     "output_type": "stream",
     "text": [
      "0.7510729613733905\n",
      "Testing NMI -  0.5890040795583058\n",
      "                                                                precision    recall  f1-score   support\n",
      "\n",
      "                                   ABC transporter superfamily       0.00      0.00      0.00         0\n",
      "                                      DEAD box helicase family       0.00      0.00      0.00         0\n",
      "                           G-protein coupled receptor 1 family       0.00      0.00      0.00         0\n",
      "                                              HisA/HisF family       1.00      0.73      0.85       756\n",
      "TRAFAC class TrmE-Era-EngA-EngB-Septin-like GTPase superfamily       0.00      0.00      0.00         0\n",
      "            TRAFAC class translation factor GTPase superfamily       0.00      0.00      0.00         0\n",
      "          aspartate/ornithine carbamoyltransferase superfamily       0.00      0.00      0.00         0\n",
      "                                     chaperonin (HSP60) family       1.00      0.91      0.95       668\n",
      "        class I-like SAM-binding methyltransferase superfamily       0.80      0.72      0.76      2682\n",
      "                      class-I aminoacyl-tRNA synthetase family       0.95      0.80      0.87      3381\n",
      "                     class-II aminoacyl-tRNA synthetase family       0.90      0.84      0.87      4373\n",
      "                                        cytochrome P450 family       0.00      0.00      0.00         0\n",
      "                                           cytochrome b family       0.91      0.92      0.91      1077\n",
      "                                                 globin family       0.00      0.00      0.00         0\n",
      "                                  heat shock protein 70 family       0.00      0.00      0.00         0\n",
      "                                 major facilitator superfamily       0.00      0.00      0.00         0\n",
      "                      metallo-dependent hydrolases superfamily       0.89      0.67      0.76      1080\n",
      "                                  methylthiotransferase family       0.98      0.74      0.84       627\n",
      "                                 methyltransferase superfamily       0.73      0.79      0.76      2405\n",
      "                                    protein kinase superfamily       0.59      0.51      0.55      2534\n",
      "            purine/pyrimidine phosphoribosyltransferase family       0.00      0.00      0.00         0\n",
      "                                       radical SAM superfamily       0.87      0.74      0.80      1435\n",
      "                                      small GTPase superfamily       0.00      0.00      0.00         0\n",
      "                                     thiolase-like superfamily       0.97      0.55      0.70       651\n",
      "                         transferase hexapeptide repeat family       0.00      0.00      0.00         0\n",
      "                       universal ribosomal protein uL14 family       0.00      0.00      0.00         0\n",
      "                       universal ribosomal protein uL16 family       0.00      0.00      0.00         0\n",
      "                       universal ribosomal protein uS19 family       0.00      0.00      0.00         0\n",
      "\n",
      "                                                      accuracy                           0.75     21669\n",
      "                                                     macro avg       0.38      0.32      0.34     21669\n",
      "                                                  weighted avg       0.85      0.75      0.79     21669\n",
      "\n",
      "\n",
      "\n",
      "svm_c\n"
     ]
    },
    {
     "name": "stderr",
     "output_type": "stream",
     "text": [
      "C:\\Users\\chahabiscuit\\Anaconda3\\lib\\site-packages\\sklearn\\metrics\\_classification.py:1221: UndefinedMetricWarning: Recall and F-score are ill-defined and being set to 0.0 in labels with no true samples. Use `zero_division` parameter to control this behavior.\n",
      "  _warn_prf(average, modifier, msg_start, len(result))\n"
     ]
    },
    {
     "name": "stdout",
     "output_type": "stream",
     "text": [
      "0.663205500946052\n",
      "Testing NMI -  0.5101368048319571\n",
      "                                                                precision    recall  f1-score   support\n",
      "\n",
      "                                   ABC transporter superfamily       0.00      0.00      0.00         0\n",
      "                                      DEAD box helicase family       0.00      0.00      0.00         0\n",
      "                           G-protein coupled receptor 1 family       0.00      0.00      0.00         0\n",
      "                                              HisA/HisF family       1.00      0.81      0.89       756\n",
      "TRAFAC class TrmE-Era-EngA-EngB-Septin-like GTPase superfamily       0.00      0.00      0.00         0\n",
      "            TRAFAC class translation factor GTPase superfamily       0.00      0.00      0.00         0\n",
      "          aspartate/ornithine carbamoyltransferase superfamily       0.00      0.00      0.00         0\n",
      "                                     chaperonin (HSP60) family       0.97      0.93      0.95       668\n",
      "        class I-like SAM-binding methyltransferase superfamily       0.87      0.62      0.72      2682\n",
      "                      class-I aminoacyl-tRNA synthetase family       0.97      0.67      0.79      3381\n",
      "                     class-II aminoacyl-tRNA synthetase family       0.92      0.70      0.79      4373\n",
      "                                        cytochrome P450 family       0.00      0.00      0.00         0\n",
      "                                           cytochrome b family       0.62      0.92      0.74      1077\n",
      "                                                 globin family       0.00      0.00      0.00         0\n",
      "                                  heat shock protein 70 family       0.00      0.00      0.00         0\n",
      "                                 major facilitator superfamily       0.00      0.00      0.00         0\n",
      "                      metallo-dependent hydrolases superfamily       0.87      0.66      0.75      1080\n",
      "                                  methylthiotransferase family       0.94      0.74      0.83       627\n",
      "                                 methyltransferase superfamily       0.78      0.70      0.73      2405\n",
      "                                    protein kinase superfamily       0.71      0.38      0.49      2534\n",
      "            purine/pyrimidine phosphoribosyltransferase family       0.00      0.00      0.00         0\n",
      "                                       radical SAM superfamily       0.72      0.70      0.71      1435\n",
      "                                      small GTPase superfamily       0.00      0.00      0.00         0\n",
      "                                     thiolase-like superfamily       0.93      0.55      0.69       651\n",
      "                         transferase hexapeptide repeat family       0.00      0.00      0.00         0\n",
      "                       universal ribosomal protein uS19 family       0.00      0.00      0.00         0\n",
      "                        universal ribosomal protein uS2 family       0.00      0.00      0.00         0\n",
      "\n",
      "                                                      accuracy                           0.66     21669\n",
      "                                                     macro avg       0.38      0.31      0.34     21669\n",
      "                                                  weighted avg       0.86      0.66      0.74     21669\n",
      "\n",
      "\n",
      "\n",
      "random_forest_c\n"
     ]
    },
    {
     "name": "stderr",
     "output_type": "stream",
     "text": [
      "C:\\Users\\chahabiscuit\\Anaconda3\\lib\\site-packages\\sklearn\\metrics\\_classification.py:1221: UndefinedMetricWarning: Recall and F-score are ill-defined and being set to 0.0 in labels with no true samples. Use `zero_division` parameter to control this behavior.\n",
      "  _warn_prf(average, modifier, msg_start, len(result))\n"
     ]
    },
    {
     "name": "stdout",
     "output_type": "stream",
     "text": [
      "0.6715122986755272\n",
      "Testing NMI -  0.4850134921529872\n",
      "                                                                precision    recall  f1-score   support\n",
      "\n",
      "                                   ABC transporter superfamily       0.00      0.00      0.00         0\n",
      "                               ATPase alpha/beta chains family       0.00      0.00      0.00         0\n",
      "                                      DEAD box helicase family       0.00      0.00      0.00         0\n",
      "                           G-protein coupled receptor 1 family       0.00      0.00      0.00         0\n",
      "                                              HisA/HisF family       0.97      0.79      0.87       756\n",
      "                                                MurCDEF family       0.00      0.00      0.00         0\n",
      "TRAFAC class TrmE-Era-EngA-EngB-Septin-like GTPase superfamily       0.00      0.00      0.00         0\n",
      "            TRAFAC class translation factor GTPase superfamily       0.00      0.00      0.00         0\n",
      "          aspartate/ornithine carbamoyltransferase superfamily       0.00      0.00      0.00         0\n",
      "                                     chaperonin (HSP60) family       0.99      0.85      0.92       668\n",
      "        class I-like SAM-binding methyltransferase superfamily       0.69      0.61      0.65      2682\n",
      "                      class-I aminoacyl-tRNA synthetase family       0.84      0.77      0.80      3381\n",
      "                     class-II aminoacyl-tRNA synthetase family       0.76      0.81      0.79      4373\n",
      "                                        cytochrome P450 family       0.00      0.00      0.00         0\n",
      "                                           cytochrome b family       0.85      0.90      0.88      1077\n",
      "                                                 globin family       0.00      0.00      0.00         0\n",
      "                                  heat shock protein 70 family       0.00      0.00      0.00         0\n",
      "                                 major facilitator superfamily       0.00      0.00      0.00         0\n",
      "                      metallo-dependent hydrolases superfamily       0.97      0.50      0.66      1080\n",
      "                                  methylthiotransferase family       0.99      0.61      0.75       627\n",
      "                                 methyltransferase superfamily       0.74      0.63      0.68      2405\n",
      "                                    protein kinase superfamily       0.63      0.38      0.47      2534\n",
      "            purine/pyrimidine phosphoribosyltransferase family       0.00      0.00      0.00         0\n",
      "                                       radical SAM superfamily       0.89      0.66      0.76      1435\n",
      "                                      small GTPase superfamily       0.00      0.00      0.00         0\n",
      "                                     thiolase-like superfamily       0.98      0.39      0.55       651\n",
      "                       universal ribosomal protein uL14 family       0.00      0.00      0.00         0\n",
      "                       universal ribosomal protein uL16 family       0.00      0.00      0.00         0\n",
      "                        universal ribosomal protein uL2 family       0.00      0.00      0.00         0\n",
      "                       universal ribosomal protein uS12 family       0.00      0.00      0.00         0\n",
      "                       universal ribosomal protein uS19 family       0.00      0.00      0.00         0\n",
      "                        universal ribosomal protein uS2 family       0.00      0.00      0.00         0\n",
      "                        universal ribosomal protein uS4 family       0.00      0.00      0.00         0\n",
      "                        universal ribosomal protein uS7 family       0.00      0.00      0.00         0\n",
      "                        universal ribosomal protein uS8 family       0.00      0.00      0.00         0\n",
      "\n",
      "                                                      accuracy                           0.67     21669\n",
      "                                                     macro avg       0.29      0.23      0.25     21669\n",
      "                                                  weighted avg       0.80      0.67      0.72     21669\n",
      "\n",
      "\n",
      "\n",
      "knn_c\n"
     ]
    },
    {
     "name": "stderr",
     "output_type": "stream",
     "text": [
      "C:\\Users\\chahabiscuit\\Anaconda3\\lib\\site-packages\\sklearn\\metrics\\_classification.py:1221: UndefinedMetricWarning: Recall and F-score are ill-defined and being set to 0.0 in labels with no true samples. Use `zero_division` parameter to control this behavior.\n",
      "  _warn_prf(average, modifier, msg_start, len(result))\n"
     ]
    },
    {
     "name": "stdout",
     "output_type": "stream",
     "text": [
      "0.5212515575245743\n",
      "Testing NMI -  0.3837131876043072\n",
      "                                                                precision    recall  f1-score   support\n",
      "\n",
      "                                   ABC transporter superfamily       0.00      0.00      0.00         0\n",
      "                               ATPase alpha/beta chains family       0.00      0.00      0.00         0\n",
      "                                      DEAD box helicase family       0.00      0.00      0.00         0\n",
      "                           G-protein coupled receptor 1 family       0.00      0.00      0.00         0\n",
      "                                              HisA/HisF family       1.00      0.51      0.67       756\n",
      "TRAFAC class TrmE-Era-EngA-EngB-Septin-like GTPase superfamily       0.00      0.00      0.00         0\n",
      "            TRAFAC class translation factor GTPase superfamily       0.00      0.00      0.00         0\n",
      "          aspartate/ornithine carbamoyltransferase superfamily       0.00      0.00      0.00         0\n",
      "                                     chaperonin (HSP60) family       0.97      0.86      0.91       668\n",
      "        class I-like SAM-binding methyltransferase superfamily       0.96      0.42      0.58      2682\n",
      "                      class-I aminoacyl-tRNA synthetase family       0.99      0.45      0.62      3381\n",
      "                     class-II aminoacyl-tRNA synthetase family       0.97      0.49      0.65      4373\n",
      "                                        cytochrome P450 family       0.00      0.00      0.00         0\n",
      "                                           cytochrome b family       0.37      0.90      0.53      1077\n",
      "                                                 globin family       0.00      0.00      0.00         0\n",
      "                                  heat shock protein 70 family       0.00      0.00      0.00         0\n",
      "                                 major facilitator superfamily       0.00      0.00      0.00         0\n",
      "                      metallo-dependent hydrolases superfamily       0.80      0.47      0.59      1080\n",
      "                                  methylthiotransferase family       0.99      0.47      0.63       627\n",
      "                                 methyltransferase superfamily       0.36      0.68      0.47      2405\n",
      "                                    protein kinase superfamily       0.29      0.52      0.37      2534\n",
      "            purine/pyrimidine phosphoribosyltransferase family       0.00      0.00      0.00         0\n",
      "                                       radical SAM superfamily       0.89      0.42      0.57      1435\n",
      "                                      small GTPase superfamily       0.00      0.00      0.00         0\n",
      "                                     thiolase-like superfamily       0.98      0.36      0.53       651\n",
      "                       universal ribosomal protein uL14 family       0.00      0.00      0.00         0\n",
      "                       universal ribosomal protein uL16 family       0.00      0.00      0.00         0\n",
      "                        universal ribosomal protein uL2 family       0.00      0.00      0.00         0\n",
      "                       universal ribosomal protein uS12 family       0.00      0.00      0.00         0\n",
      "                       universal ribosomal protein uS19 family       0.00      0.00      0.00         0\n",
      "                        universal ribosomal protein uS2 family       0.00      0.00      0.00         0\n",
      "                        universal ribosomal protein uS8 family       0.00      0.00      0.00         0\n",
      "\n",
      "                                                      accuracy                           0.52     21669\n",
      "                                                     macro avg       0.30      0.20      0.22     21669\n",
      "                                                  weighted avg       0.78      0.52      0.58     21669\n",
      "\n",
      "\n",
      "\n",
      "svm_rbf_c\n"
     ]
    },
    {
     "name": "stderr",
     "output_type": "stream",
     "text": [
      "C:\\Users\\chahabiscuit\\Anaconda3\\lib\\site-packages\\sklearn\\metrics\\_classification.py:1221: UndefinedMetricWarning: Recall and F-score are ill-defined and being set to 0.0 in labels with no true samples. Use `zero_division` parameter to control this behavior.\n",
      "  _warn_prf(average, modifier, msg_start, len(result))\n"
     ]
    },
    {
     "name": "stdout",
     "output_type": "stream",
     "text": [
      "0.7013244727490886\n",
      "Testing NMI -  0.5903502370564406\n",
      "                                                                precision    recall  f1-score   support\n",
      "\n",
      "                                   ABC transporter superfamily       0.00      0.00      0.00         0\n",
      "                                      DEAD box helicase family       0.00      0.00      0.00         0\n",
      "                           G-protein coupled receptor 1 family       0.00      0.00      0.00         0\n",
      "                                              HisA/HisF family       1.00      0.55      0.71       756\n",
      "TRAFAC class TrmE-Era-EngA-EngB-Septin-like GTPase superfamily       0.00      0.00      0.00         0\n",
      "            TRAFAC class translation factor GTPase superfamily       0.00      0.00      0.00         0\n",
      "          aspartate/ornithine carbamoyltransferase superfamily       0.00      0.00      0.00         0\n",
      "                                     chaperonin (HSP60) family       1.00      0.71      0.83       668\n",
      "        class I-like SAM-binding methyltransferase superfamily       0.87      0.63      0.73      2682\n",
      "                      class-I aminoacyl-tRNA synthetase family       0.98      0.70      0.81      3381\n",
      "                     class-II aminoacyl-tRNA synthetase family       0.92      0.78      0.84      4373\n",
      "                                        cytochrome P450 family       0.00      0.00      0.00         0\n",
      "                                           cytochrome b family       1.00      0.86      0.92      1077\n",
      "                                  heat shock protein 70 family       0.00      0.00      0.00         0\n",
      "                                 major facilitator superfamily       0.00      0.00      0.00         0\n",
      "                      metallo-dependent hydrolases superfamily       1.00      0.51      0.68      1080\n",
      "                                  methylthiotransferase family       1.00      0.49      0.65       627\n",
      "                                 methyltransferase superfamily       0.87      0.72      0.78      2405\n",
      "                                    protein kinase superfamily       0.30      0.92      0.45      2534\n",
      "                                       radical SAM superfamily       0.99      0.52      0.68      1435\n",
      "                                      small GTPase superfamily       0.00      0.00      0.00         0\n",
      "                                     thiolase-like superfamily       1.00      0.42      0.59       651\n",
      "\n",
      "                                                      accuracy                           0.70     21669\n",
      "                                                     macro avg       0.50      0.35      0.40     21669\n",
      "                                                  weighted avg       0.87      0.70      0.74     21669\n",
      "\n",
      "\n",
      "\n",
      "\n"
     ]
    }
   ],
   "source": [
    "from sklearn.metrics import normalized_mutual_info_score, classification_report\n",
    "import numpy as np\n",
    "x = 'extra_trees_c GaussianNB_c logreg_c svm_c random_forest_c knn_c svm_rbf_c'\n",
    "files = x.split(' ')\n",
    "for file in tqdm_notebook(files):\n",
    "    with open ('./data/uniprot/models/' + file + '.pkl', 'rb') as pkl:\n",
    "        model = pickle.load(pkl)\n",
    "    print(file)\n",
    "    \n",
    "#     y_preds = [np.argmax(i) for i in model.predict(X_train)]\n",
    "#     nmi = normalized_mutual_info_score(y_train, y_preds,average_method='arithmetic')\n",
    "#     print('Training NMI - ', nmi)\n",
    "    \n",
    "    y_preds = model.predict(X_test)\n",
    "    nmi = normalized_mutual_info_score(y_test, y_preds,average_method='arithmetic')\n",
    "    report = classification_report(y_test, y_preds)\n",
    "    print(model.score(X_test, y_test))\n",
    "    print('Testing NMI - ', nmi)\n",
    "    print(report)\n",
    "    \n",
    "#     y_preds = [np.argmax(i) for i in model.predict(X)]\n",
    "#     nmi = normalized_mutual_info_score(y, y_preds,average_method='arithmetic')\n",
    "#     print('Average NMI - ', nmi)\n",
    "    print('\\n')"
   ]
  },
  {
   "cell_type": "code",
   "execution_count": 24,
   "metadata": {},
   "outputs": [
    {
     "name": "stderr",
     "output_type": "stream",
     "text": [
      "C:\\Users\\chahabiscuit\\Anaconda3\\lib\\site-packages\\ipykernel_launcher.py:5: TqdmDeprecationWarning: This function will be removed in tqdm==5.0.0\n",
      "Please use `tqdm.notebook.tqdm` instead of `tqdm.tqdm_notebook`\n",
      "  \"\"\"\n"
     ]
    },
    {
     "data": {
      "application/vnd.jupyter.widget-view+json": {
       "model_id": "4f62817fe1744c15b04103984f393f4b",
       "version_major": 2,
       "version_minor": 0
      },
      "text/plain": [
       "HBox(children=(FloatProgress(value=0.0, max=7.0), HTML(value='')))"
      ]
     },
     "metadata": {},
     "output_type": "display_data"
    },
    {
     "name": "stdout",
     "output_type": "stream",
     "text": [
      "extra_trees\n",
      "0.942643391521197\n",
      "0.7625259659326963\n",
      "Training NMI -  0.9040384289111079\n",
      "Average NMI -  0.6713488251784204\n",
      "\n",
      "\n",
      "GaussianNB\n",
      "0.9511291216403436\n",
      "0.782190832294696\n",
      "Training NMI -  0.9176628709866882\n",
      "Average NMI -  0.700673831375685\n",
      "\n",
      "\n",
      "logreg\n",
      "0.9788376281518426\n",
      "0.8297327239994461\n",
      "Training NMI -  0.9642600312982699\n",
      "Average NMI -  0.7366397958210276\n",
      "\n",
      "\n",
      "svm\n",
      "0.9850374064837906\n",
      "0.8274061764298574\n",
      "Training NMI -  0.9727581043116582\n",
      "Average NMI -  0.7398136309611586\n",
      "\n",
      "\n",
      "random_forest\n",
      "0.9323219728456636\n",
      "0.7634122697687301\n",
      "Training NMI -  0.8897970402250672\n",
      "Average NMI -  0.6697798799208069\n",
      "\n",
      "\n",
      "knn\n",
      "0.9850374064837906\n",
      "0.8274061764298574\n",
      "Training NMI -  0.9727581043116582\n",
      "Average NMI -  0.7398136309611586\n",
      "\n",
      "\n",
      "svm_rbf\n",
      "0.9913757273482959\n",
      "0.8181969256335687\n",
      "Training NMI -  0.982247454094883\n",
      "Average NMI -  0.7481703741076979\n",
      "\n",
      "\n",
      "\n"
     ]
    }
   ],
   "source": [
    "from sklearn.metrics import normalized_mutual_info_score, classification_report\n",
    "import numpy as np\n",
    "x = 'extra_trees GaussianNB logreg svm random_forest knn svm_rbf'\n",
    "files = x.split(' ')\n",
    "for file in tqdm_notebook(files):\n",
    "    with open ('./data/uniprot/models/' + file + '.pkl', 'rb') as pkl:\n",
    "        model = pickle.load(pkl)\n",
    "    print(file)\n",
    "    print(model.score(X_train, y_train))\n",
    "    print(model.score(X, y))\n",
    "    \n",
    "    y_preds = model.predict(X_train)\n",
    "    nmi = normalized_mutual_info_score(y_train, y_preds,average_method='arithmetic')\n",
    "    print('Training NMI - ', nmi)\n",
    "    \n",
    "    y_preds = model.predict(X)\n",
    "    nmi = normalized_mutual_info_score(y, y_preds,average_method='arithmetic')\n",
    "    print('Average NMI - ', nmi)\n",
    "    print('\\n')"
   ]
  },
  {
   "cell_type": "code",
   "execution_count": null,
   "metadata": {},
   "outputs": [],
   "source": [
    " "
   ]
  }
 ],
 "metadata": {
  "kernelspec": {
   "display_name": "Python 3",
   "language": "python",
   "name": "python3"
  },
  "language_info": {
   "codemirror_mode": {
    "name": "ipython",
    "version": 3
   },
   "file_extension": ".py",
   "mimetype": "text/x-python",
   "name": "python",
   "nbconvert_exporter": "python",
   "pygments_lexer": "ipython3",
   "version": "3.7.7"
  }
 },
 "nbformat": 4,
 "nbformat_minor": 4
}
