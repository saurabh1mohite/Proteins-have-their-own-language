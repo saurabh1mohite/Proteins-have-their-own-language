{
 "cells": [
  {
   "cell_type": "code",
   "execution_count": null,
   "metadata": {},
   "outputs": [],
   "source": [
    "import os\n",
    "\n",
    "import torch\n",
    "from tqdm.notebook import tqdm\n",
    "\n",
    "from transformers import BertTokenizer\n",
    "from torch.utils.data import TensorDataset\n",
    "from transformers import BertForSequenceClassification\n",
    "# from transformers import DistilBertModel \n",
    "import pandas as pd\n",
    "import pickle"
   ]
  },
  {
   "cell_type": "code",
   "execution_count": null,
   "metadata": {},
   "outputs": [],
   "source": [
    "import pickle\n",
    "data_dir = './data'\n",
    "with open(os.path.join(data_dir, 'query_data_train_top_700.pkl'), 'rb') as pkl:\n",
    "    query_data = pickle.load(pkl)\n",
    "with open(os.path.join(data_dir, 'labels_top_700.pkl'), 'rb') as pkl:\n",
    "    labels = pickle.load(pkl)\n",
    "# with open('/content/acc_ids_top_700.pkl', 'rb') as pkl:\n",
    "#     acc_ids = pickle.load(pkl)"
   ]
  },
  {
   "cell_type": "code",
   "execution_count": null,
   "metadata": {},
   "outputs": [],
   "source": [
    "query_data[0]"
   ]
  },
  {
   "cell_type": "code",
   "execution_count": null,
   "metadata": {},
   "outputs": [],
   "source": [
    "label2idx = dict(zip(list(set(labels)), [i for i in range(len(list(set(labels))))]))\n",
    "idxs = [label2idx[i] for i in labels]\n",
    "idxs[7000:7010], max(idxs)"
   ]
  },
  {
   "cell_type": "code",
   "execution_count": null,
   "metadata": {},
   "outputs": [],
   "source": [
    "len(idxs)"
   ]
  },
  {
   "cell_type": "code",
   "execution_count": null,
   "metadata": {},
   "outputs": [],
   "source": [
    "freq = {}\n",
    "for i in label2idx.keys():\n",
    "    freq[i] = labels.count(i)\n",
    "freq"
   ]
  },
  {
   "cell_type": "code",
   "execution_count": null,
   "metadata": {},
   "outputs": [],
   "source": [
    "with open(os.path.join(data_dir, 'split_data/query_data_train.pkl'), 'rb') as pkl:\n",
    "    query_data_train = pickle.load(pkl)\n",
    "with open(os.path.join(data_dir, 'split_data/labels_train.pkl'), 'rb') as pkl:\n",
    "    labels_train = pickle.load(pkl)\n",
    "with open(os.path.join(data_dir, 'split_data/query_data_test.pkl'), 'rb') as pkl:\n",
    "    query_data_test = pickle.load(pkl)\n",
    "with open(os.path.join(data_dir, 'split_data/labels_test.pkl'), 'rb') as pkl:\n",
    "    labels_test = pickle.load(pkl)"
   ]
  },
  {
   "cell_type": "code",
   "execution_count": null,
   "metadata": {},
   "outputs": [],
   "source": [
    "df_test = pd.DataFrame(zip(query_data_test, labels_test), columns=['Query', 'Family'])\n",
    "df= pd.DataFrame(zip(query_data_train, labels_train), columns=['Query', 'Family'])\n",
    "df.head()"
   ]
  },
  {
   "cell_type": "code",
   "execution_count": null,
   "metadata": {},
   "outputs": [],
   "source": [
    "possible_labels = df.Family.unique()\n",
    "\n",
    "label_dict = {}\n",
    "for index, possible_label in enumerate(possible_labels):\n",
    "    label_dict[possible_label] = index\n",
    "label_dict\n",
    "df['Label'] = df.Family.replace(label_dict)\n",
    "df_test['Label'] = df_test.Family.replace(label_dict)\n",
    "df.head()"
   ]
  },
  {
   "cell_type": "code",
   "execution_count": null,
   "metadata": {},
   "outputs": [],
   "source": [
    "from sklearn.model_selection import train_test_split\n",
    "\n",
    "X_train, X_val, y_train, y_val = train_test_split(df.index.values, \n",
    "                                                  df.Label.values, \n",
    "                                                  test_size=0.25, \n",
    "                                                  random_state=42, \n",
    "                                                  stratify=df.Label.values)\n",
    "df['data_type'] = ['not_set']*df.shape[0]\n",
    "df_test['data_type'] = ['test']*df_test.shape[0]\n",
    "\n",
    "df.loc[X_train, 'data_type'] = 'train'\n",
    "df.loc[X_val, 'data_type'] = 'val'\n",
    "df = pd.concat([df, df_test])\n",
    "df.groupby(['Family', 'Label', 'data_type']).count()"
   ]
  },
  {
   "cell_type": "code",
   "execution_count": null,
   "metadata": {},
   "outputs": [],
   "source": [
    "total = len(list(df['data_type']))\n",
    "test_count = list(df['data_type']).count('test')\n",
    "train_count = list(df['data_type']).count('train')\n",
    "val_count = list(df['data_type']).count('val')\n",
    "val_count/total, test_count/total, train_count/total"
   ]
  },
  {
   "cell_type": "code",
   "execution_count": null,
   "metadata": {},
   "outputs": [],
   "source": [
    "tokenizer = BertTokenizer.from_pretrained('bert-base-uncased', \n",
    "                                          do_lower_case=True)\n",
    "                                          \n",
    "encoded_data_train = tokenizer.batch_encode_plus(\n",
    "    df[df.data_type=='train'].Query.values, \n",
    "    add_special_tokens=True, \n",
    "    return_attention_mask=True, \n",
    "    pad_to_max_length=True, \n",
    "    max_length=512, \n",
    "    truncation=True,\n",
    "    return_tensors='pt'\n",
    ")\n",
    "\n",
    "encoded_data_val = tokenizer.batch_encode_plus(\n",
    "    df[df.data_type=='val'].Query.values, \n",
    "    add_special_tokens=True, \n",
    "    return_attention_mask=True, \n",
    "    pad_to_max_length=True, \n",
    "    max_length=512, \n",
    "    truncation=True,\n",
    "    return_tensors='pt'\n",
    ")\n",
    "\n",
    "encoded_data_test = tokenizer.batch_encode_plus(\n",
    "    df[df.data_type=='test'].Query.values, \n",
    "    add_special_tokens=True, \n",
    "    return_attention_mask=True, \n",
    "    pad_to_max_length=True, \n",
    "    max_length=512, \n",
    "    truncation=True,\n",
    "    return_tensors='pt'\n",
    ")\n",
    "\n",
    "\n",
    "input_ids_train = encoded_data_train['input_ids']\n",
    "attention_masks_train = encoded_data_train['attention_mask']\n",
    "labels_train = torch.tensor(df[df.data_type=='train'].Label.values)\n",
    "\n",
    "input_ids_val = encoded_data_val['input_ids']\n",
    "attention_masks_val = encoded_data_val['attention_mask']\n",
    "labels_val = torch.tensor(df[df.data_type=='val'].Label.values)\n",
    "\n",
    "input_ids_test = encoded_data_test['input_ids']\n",
    "attention_masks_test = encoded_data_test['attention_mask']\n",
    "labels_test = torch.tensor(df[df.data_type=='test'].Label.values)\n",
    "\n",
    "\n",
    "dataset_train = TensorDataset(input_ids_train, attention_masks_train, labels_train)\n",
    "dataset_val = TensorDataset(input_ids_val, attention_masks_val, labels_val)\n",
    "dataset_test = TensorDataset(input_ids_test, attention_masks_test, labels_test)"
   ]
  },
  {
   "cell_type": "code",
   "execution_count": null,
   "metadata": {},
   "outputs": [],
   "source": [
    "tensor_dir = 'C:/Users/chahabiscuit/Miscellaneous_Notebooks/Protein Family Prediction/data/Tensor Data'\n",
    "torch.save(dataset_train, os.path.join(tensor_dir, 'dataset_train.pt'))\n",
    "torch.save(dataset_test, os.path.join(tensor_dir, 'dataset_test.pt'))\n",
    "torch.save(dataset_val, os.path.join(tensor_dir, 'dataset_val.pt'))"
   ]
  },
  {
   "cell_type": "code",
   "execution_count": null,
   "metadata": {},
   "outputs": [],
   "source": [
    "tensor_dir = 'C:/Users/chahabiscuit/Miscellaneous_Notebooks/Protein Family Prediction/data/Tensor Data'\n",
    "dataset_train = torch.load(os.path.join(tensor_dir, 'dataset_train.pt'))\n",
    "dataset_test = torch.load(os.path.join(tensor_dir, 'dataset_test.pt'))\n",
    "dataset_val = torch.load(os.path.join(tensor_dir, 'dataset_val.pt'))"
   ]
  },
  {
   "cell_type": "code",
   "execution_count": null,
   "metadata": {},
   "outputs": [],
   "source": [
    "with open(os.path.join(tensor_dir, 'label_dict.pkl'), 'rb') as pkl:\n",
    "    label_dict = pickle.load(pkl)"
   ]
  },
  {
   "cell_type": "code",
   "execution_count": null,
   "metadata": {},
   "outputs": [],
   "source": [
    "model = BertForSequenceClassification.from_pretrained(\"bert-base-uncased\",\n",
    "                                                      num_labels=len(label_dict),\n",
    "                                                      output_attentions=False,\n",
    "                                                      output_hidden_states=False)"
   ]
  },
  {
   "cell_type": "code",
   "execution_count": null,
   "metadata": {},
   "outputs": [],
   "source": [
    "from torch.utils.data import DataLoader, RandomSampler, SequentialSampler\n",
    "\n",
    "batch_size = 1\n",
    "\n",
    "dataloader_train = DataLoader(dataset_train, \n",
    "                              sampler=RandomSampler(dataset_train), \n",
    "                              batch_size=batch_size)\n",
    "\n",
    "dataloader_validation = DataLoader(dataset_val, \n",
    "                                   sampler=SequentialSampler(dataset_val), \n",
    "                                   batch_size=batch_size)\n",
    "\n",
    "dataloader_test = DataLoader(dataset_test, \n",
    "                                   sampler=SequentialSampler(dataset_test), \n",
    "                                   batch_size=batch_size)"
   ]
  },
  {
   "cell_type": "code",
   "execution_count": null,
   "metadata": {},
   "outputs": [],
   "source": [
    "from transformers import AdamW, get_linear_schedule_with_warmup\n",
    "\n",
    "optimizer = AdamW(model.parameters(),\n",
    "                  lr=1e-5, \n",
    "                  eps=1e-8)\n",
    "                  \n",
    "epochs = 4\n",
    "\n",
    "scheduler = get_linear_schedule_with_warmup(optimizer, \n",
    "                                            num_warmup_steps=0,\n",
    "                                            num_training_steps=len(dataloader_train)*epochs)\n"
   ]
  },
  {
   "cell_type": "code",
   "execution_count": null,
   "metadata": {},
   "outputs": [],
   "source": [
    "from sklearn.metrics import f1_score\n",
    "\n",
    "def f1_score_func(preds, labels):\n",
    "    preds_flat = np.argmax(preds, axis=1).flatten()\n",
    "    labels_flat = labels.flatten()\n",
    "    return f1_score(labels_flat, preds_flat, average='weighted')\n",
    "\n",
    "def accuracy_per_class(preds, labels):\n",
    "    label_dict_inverse = {v: k for k, v in label_dict.items()}\n",
    "    \n",
    "    preds_flat = np.argmax(preds, axis=1).flatten()\n",
    "    labels_flat = labels.flatten()\n",
    "\n",
    "    for label in np.unique(labels_flat):\n",
    "        y_preds = preds_flat[labels_flat==label]\n",
    "        y_true = labels_flat[labels_flat==label]\n",
    "        print(f'Class: {label_dict_inverse[label]}')\n",
    "        print(f'Accuracy: {len(y_preds[y_preds==label])}/{len(y_true)}\\n')"
   ]
  },
  {
   "cell_type": "code",
   "execution_count": null,
   "metadata": {},
   "outputs": [],
   "source": [
    "def get_default_device():\n",
    "    if torch.cuda.is_available():\n",
    "        return torch.device('cuda')\n",
    "    else:\n",
    "        return torch.device('cpu')\n",
    "\n",
    "device = get_default_device()\n",
    "device"
   ]
  },
  {
   "cell_type": "code",
   "execution_count": null,
   "metadata": {},
   "outputs": [],
   "source": [
    "model.to(device)"
   ]
  },
  {
   "cell_type": "code",
   "execution_count": null,
   "metadata": {},
   "outputs": [],
   "source": [
    "a = np.array([1,2,3])\n",
    "b = np.array([1,5,3])\n",
    "c = a==b\n",
    "cw"
   ]
  },
  {
   "cell_type": "code",
   "execution_count": null,
   "metadata": {
    "scrolled": true
   },
   "outputs": [],
   "source": [
    "import random\n",
    "import numpy as np\n",
    "from sklearn.metrics import accuracy_score\n",
    "from sklearn.metrics import classification_report\n",
    "\n",
    "seed_val = 17\n",
    "random.seed(seed_val)\n",
    "np.random.seed(seed_val)\n",
    "torch.manual_seed(seed_val)\n",
    "torch.cuda.manual_seed_all(seed_val)\n",
    "\n",
    "def f1_score_func(preds, labels):\n",
    "    preds_flat = np.argmax(preds, axis=1).flatten()\n",
    "    labels_flat = labels.flatten()\n",
    "    \n",
    "    return f1_score(labels_flat, preds_flat, average='weighted')\n",
    "\n",
    "def evaluate(dataloader_val):\n",
    "\n",
    "    model.eval()\n",
    "    \n",
    "    loss_val_total = 0\n",
    "    predictions, true_vals = [], []\n",
    "    \n",
    "    for batch in dataloader_val:\n",
    "        \n",
    "        batch = tuple(b.to(device) for b in batch)\n",
    "        \n",
    "        inputs = {'input_ids':      batch[0],\n",
    "                  'attention_mask': batch[1],\n",
    "                  'labels':         batch[2],\n",
    "                 }\n",
    "\n",
    "        with torch.no_grad():        \n",
    "            outputs = model(**inputs)\n",
    "            \n",
    "        loss = outputs[0]\n",
    "        logits = outputs[1]\n",
    "        loss_val_total += loss.item()\n",
    "\n",
    "        logits = logits.detach().cpu().numpy()\n",
    "        label_ids = inputs['labels'].cpu().numpy()\n",
    "        predictions.append(logits)\n",
    "        true_vals.append(label_ids)\n",
    "    \n",
    "    loss_val_avg = loss_val_total/len(dataloader_val) \n",
    "    \n",
    "    predictions = np.concatenate(predictions, axis=0)\n",
    "    true_vals = np.concatenate(true_vals, axis=0)\n",
    "            \n",
    "    return loss_val_avg, predictions, true_vals\n",
    "\n",
    "for epoch in tqdm(range(5, 10)):\n",
    "    correct = 0\n",
    "    model.train()\n",
    "    \n",
    "    loss_train_total = 0\n",
    "\n",
    "    progress_bar = tqdm(dataloader_train, desc='Epoch {:1d}'.format(epoch), leave=False, disable=False)\n",
    "    for batch in progress_bar:\n",
    "\n",
    "        model.zero_grad()\n",
    "        \n",
    "        batch = tuple(b.to(device) for b in batch)\n",
    "        \n",
    "        inputs = {'input_ids':      batch[0],\n",
    "                  'attention_mask': batch[1],\n",
    "                  'labels':         batch[2],\n",
    "                 }       \n",
    "        outputs = model(**inputs)\n",
    "        if torch.argmax(outputs[1][0]) == batch[2]:\n",
    "            correct += 1\n",
    "        loss = outputs[0]\n",
    "        loss_train_total += loss.item()\n",
    "        loss.backward()\n",
    "\n",
    "        torch.nn.utils.clip_grad_norm_(model.parameters(), 1.0)\n",
    "\n",
    "        optimizer.step()\n",
    "        scheduler.step()\n",
    "        \n",
    "        progress_bar.set_postfix({'training_loss': '{:.3f}'.format(loss.item()/len(batch))})\n",
    "         \n",
    "        \n",
    "    torch.save(model.state_dict(), f'C:/Users/chahabiscuit/Miscellaneous_Notebooks/Protein Family Prediction/models/new_finetuned_BERT_epoch_{epoch}.model')\n",
    "        \n",
    "    tqdm.write(f'\\nEpoch {epoch}')\n",
    "    \n",
    "    loss_train_avg = loss_train_total/len(dataloader_train)  \n",
    "    train_acc = correct/len(dataloader_train)\n",
    "    tqdm.write(f'Training loss: {loss_train_avg}')\n",
    "    tqdm.write(f'Training accuracy: {train_acc}')\n",
    "    \n",
    "    val_loss, predictions, true_vals = evaluate(dataloader_validation)\n",
    "    val_f1 = f1_score_func(predictions, true_vals)\n",
    "    pred_vals = [np.argmax(pred) for pred in predictions]\n",
    "    val_acc = accuracy_score(pred_vals, true_vals)\n",
    "    \n",
    "    tqdm.write(f'Validation loss: {val_loss}')\n",
    "    tqdm.write(f'F1 Score (Weighted): {val_f1}')\n",
    "    tqdm.write(f'Validation accuracy: {val_acc}')"
   ]
  },
  {
   "cell_type": "code",
   "execution_count": null,
   "metadata": {},
   "outputs": [],
   "source": [
    "len(outputs[1][0])"
   ]
  },
  {
   "cell_type": "code",
   "execution_count": null,
   "metadata": {},
   "outputs": [],
   "source": [
    "import random\n",
    "import numpy as np\n",
    "from sklearn.metrics import accuracy_score\n",
    "import random\n",
    "import numpy as np\n",
    "from sklearn.metrics import accuracy_score\n",
    "from sklearn.metrics import classification_report\n",
    "model.load_state_dict(torch.load('C:/Users/chahabiscuit/Miscellaneous_Notebooks/Protein Family Prediction/models/finetuned_BERT_epoch_4.model'))"
   ]
  },
  {
   "cell_type": "code",
   "execution_count": null,
   "metadata": {},
   "outputs": [],
   "source": [
    "def evaluate(dataloader_val):\n",
    "\n",
    "    model.eval()\n",
    "    \n",
    "    loss_val_total = 0\n",
    "    predictions, true_vals = [], []\n",
    "    \n",
    "    for batch in dataloader_val:\n",
    "        \n",
    "        batch = tuple(b.to(device) for b in batch)\n",
    "        \n",
    "        inputs = {'input_ids':      batch[0],\n",
    "                  'attention_mask': batch[1],\n",
    "                  'labels':         batch[2],\n",
    "                 }\n",
    "\n",
    "        with torch.no_grad():        \n",
    "            outputs = model(**inputs)\n",
    "            \n",
    "        loss = outputs[0]\n",
    "        logits = outputs[1]\n",
    "        loss_val_total += loss.item()\n",
    "\n",
    "        logits = logits.detach().cpu().numpy()\n",
    "        label_ids = inputs['labels'].cpu().numpy()\n",
    "        predictions.append(logits)\n",
    "        true_vals.append(label_ids)\n",
    "    \n",
    "    loss_val_avg = loss_val_total/len(dataloader_val) \n",
    "    \n",
    "    predictions = np.concatenate(predictions, axis=0)\n",
    "    true_vals = np.concatenate(true_vals, axis=0)\n",
    "            \n",
    "    return loss_val_avg, predictions, true_vals\n"
   ]
  },
  {
   "cell_type": "code",
   "execution_count": null,
   "metadata": {},
   "outputs": [],
   "source": [
    "overall_pred_vals = []\n",
    "overall_true_vals = []"
   ]
  },
  {
   "cell_type": "code",
   "execution_count": null,
   "metadata": {},
   "outputs": [],
   "source": [
    "from sklearn.metrics import normalized_mutual_info_score\n",
    "import pickle\n",
    "\n",
    "test_loss, predictions, true_vals = evaluate(dataloader_test)\n",
    "# test_f1 = f1_score_func(predictions, true_vals)\n",
    "pred_vals = [np.argmax(pred) for pred in predictions]\n",
    "test_clf_report = classification_report(pred_vals, true_vals)\n",
    "nmi = normalized_mutual_info_score(pred_vals, true_vals,average_method='arithmetic')\n",
    "test_acc = accuracy_score(pred_vals, true_vals)\n",
    "# test_clf_report['accuracy'] = test_acc\n",
    "# test_clf_report['nmi'] = nmi"
   ]
  },
  {
   "cell_type": "code",
   "execution_count": null,
   "metadata": {},
   "outputs": [],
   "source": [
    "with open('C:/Users/chahabiscuit/Miscellaneous_Notebooks/Protein Family Prediction/models/test_classificarion_report.pkl', 'wb') as pkl:\n",
    "    pickle.dump(test_clf_report, pkl)\n",
    "    \n",
    "print(f'Test loss: {test_loss}')\n",
    "# print(f'F1 Score (Weighted): {test_f1}')\n",
    "print(f'Test accuracy : {test_acc}')\n",
    "print(f'Normalized Mutual Information Score : {nmi}')"
   ]
  },
  {
   "cell_type": "code",
   "execution_count": null,
   "metadata": {},
   "outputs": [],
   "source": [
    "overall_pred_vals = overall_pred_vals + list(pred_vals)\n",
    "overall_true_vals = overall_true_vals + list(true_vals)"
   ]
  },
  {
   "cell_type": "code",
   "execution_count": null,
   "metadata": {},
   "outputs": [],
   "source": [
    "val_loss, predictions, true_vals = evaluate(dataloader_validation)\n",
    "# val_f1 = f1_score_func(predictions, true_vals)\n",
    "pred_vals = [np.argmax(pred) for pred in predictions]\n",
    "val_clf_report = classification_report(pred_vals, true_vals)\n",
    "nmi = normalized_mutual_info_score(pred_vals, true_vals,average_method='arithmetic')\n",
    "val_acc = accuracy_score(pred_vals, true_vals)\n",
    "# val_clf_report['accuracy'] = val_acc\n",
    "# val_clf_report['nmi'] = nmi\n",
    "\n",
    "with open('C:/Users/chahabiscuit/Miscellaneous_Notebooks/Protein Family Prediction/models/val_classification_report.pkl', 'wb') as pkl:\n",
    "    pickle.dump(val_clf_report, pkl)\n",
    "\n",
    "print(f'Validation loss: {val_loss}')\n",
    "# print(f'F1 Score (Weighted): {val_f1}')\n",
    "print(f'Validation accuracy : {val_acc}')\n",
    "print(f'Normalized Mutual Information Score : {nmi}')"
   ]
  },
  {
   "cell_type": "code",
   "execution_count": null,
   "metadata": {},
   "outputs": [],
   "source": [
    "overall_pred_vals = overall_pred_vals + list(pred_vals)\n",
    "overall_true_vals = overall_true_vals + list(true_vals)"
   ]
  },
  {
   "cell_type": "code",
   "execution_count": null,
   "metadata": {},
   "outputs": [],
   "source": [
    "train_loss, predictions, true_vals = evaluate(dataloader_train)\n",
    "# train_f1 = f1_score_func(predictions, true_vals)\n",
    "pred_vals = [np.argmax(pred) for pred in predictions]\n",
    "train_clf_report = classification_report(pred_vals, true_vals)\n",
    "nmi = normalized_mutual_info_score(pred_vals, true_vals,average_method='arithmetic')\n",
    "train_acc = accuracy_score(pred_vals, true_vals)\n",
    "# train_clf_report['accuracy'] = train_acc\n",
    "# train_clf_report['nmi'] = nmi\n",
    "\n",
    "with open('C:/Users/chahabiscuit/Miscellaneous_Notebooks/Protein Family Prediction/models/train_classification_report.pkl', 'wb') as pkl:\n",
    "    pickle.dump(train_clf_report, pkl)\n",
    "print(f'Train loss: {train_loss}')\n",
    "# print(f'F1 Score (Weighted): {train_f1}')\n",
    "print(f'Train accuracy : {train_acc}')\n",
    "print(f'Normalized Mutual Information Score : {nmi}')"
   ]
  },
  {
   "cell_type": "code",
   "execution_count": null,
   "metadata": {},
   "outputs": [],
   "source": [
    "overall_pred_vals = overall_pred_vals + list(pred_vals)\n",
    "overall_true_vals = overall_true_vals + list(true_vals)"
   ]
  },
  {
   "cell_type": "code",
   "execution_count": null,
   "metadata": {},
   "outputs": [],
   "source": [
    "overall_clf_report = classification_report(overall_pred_vals, overall_true_vals)\n",
    "acc = accuracy_score(overall_pred_vals, overall_true_vals)\n",
    "nmi = normalized_mutual_info_score(overall_pred_vals, overall_true_vals, average_method='arithmetic')\n",
    "# overall_clf_report['accuracy'] = acc\n",
    "# overall_clf_report['nmi'] = nmi\n",
    "\n",
    "with open('C:/Users/chahabiscuit/Miscellaneous_Notebooks/Protein Family Prediction/models/overall_classification_report.pkl', 'wb') as pkl:\n",
    "    pickle.dump(overall_clf_report, pkl)\n",
    "    \n",
    "print(f'Overall Accuracy : {acc}')\n",
    "print(f'Overall Normalized Mutual Information Score : {nmi}')"
   ]
  },
  {
   "cell_type": "code",
   "execution_count": null,
   "metadata": {},
   "outputs": [],
   "source": [
    "pred_vals = pred_vals + [np.argmax(pred) for pred in predictions]\n",
    "\n",
    "overall_nmi = normalized_mutual_info_score(pred_vals, true_vals,average_method='arithmetic')\n",
    "overall_acc = accuracy_score(pred_vals, true_vals)"
   ]
  },
  {
   "cell_type": "code",
   "execution_count": null,
   "metadata": {},
   "outputs": [],
   "source": [
    "torch.cuda.empty_cache()"
   ]
  },
  {
   "cell_type": "code",
   "execution_count": null,
   "metadata": {},
   "outputs": [],
   "source": [
    "torch.cuda.memory_summary(device=None, abbreviated=False)"
   ]
  },
  {
   "cell_type": "code",
   "execution_count": null,
   "metadata": {},
   "outputs": [],
   "source": [
    "def classification_report_csv(report):\n",
    "    report_data = []\n",
    "    lines = report.split('\\n')\n",
    "    for line in lines[2:-5]:\n",
    "        row = {}\n",
    "        row_data = line.strip().split('      ')\n",
    "        row['Labels'] = row_data[0]\n",
    "        row['Precision'] = float(row_data[1])\n",
    "        row['Recall'] = float(row_data[2])\n",
    "        row['F1 score'] = float(row_data[3])\n",
    "        report_data.append(row)\n",
    "    df = pd.DataFrame.from_dict(report_data)\n",
    "    return df"
   ]
  },
  {
   "cell_type": "code",
   "execution_count": null,
   "metadata": {},
   "outputs": [],
   "source": [
    "import pickle\n",
    "with open('C:/Users/chahabiscuit/Miscellaneous_Notebooks/Protein Family Prediction/models/test_classification_report.pkl', 'rb') as pkl:\n",
    "    test_clf_report = pickle.load(pkl)\n",
    "f = open('C:/Users/chahabiscuit/Miscellaneous_Notebooks/Protein Family Prediction/models/test_classification_report.txt', 'w')\n",
    "f.write(test_clf_report)\n",
    "f.close()\n",
    "df = classification_report_csv(test_clf_report)\n",
    "df.to_csv('C:/Users/chahabiscuit/Miscellaneous_Notebooks/Protein Family Prediction/models/test_classification_report.csv')"
   ]
  },
  {
   "cell_type": "code",
   "execution_count": null,
   "metadata": {},
   "outputs": [],
   "source": [
    "with open('C:/Users/chahabiscuit/Miscellaneous_Notebooks/Protein Family Prediction/models/train_classification_report.pkl', 'rb') as pkl:\n",
    "    train_clf_report = pickle.load(pkl)\n",
    "f = open('C:/Users/chahabiscuit/Miscellaneous_Notebooks/Protein Family Prediction/models/train_classification_report.txt', 'w')\n",
    "f.write(train_clf_report)\n",
    "f.close()\n",
    "df = classification_report_csv(train_clf_report)\n",
    "df.to_csv('C:/Users/chahabiscuit/Miscellaneous_Notebooks/Protein Family Prediction/models/train_classification_report.csv')"
   ]
  },
  {
   "cell_type": "code",
   "execution_count": null,
   "metadata": {},
   "outputs": [],
   "source": [
    "with open('C:/Users/chahabiscuit/Miscellaneous_Notebooks/Protein Family Prediction/models/val_classification_report.pkl', 'rb') as pkl:\n",
    "    val_clf_report = pickle.load(pkl)\n",
    "f = open('C:/Users/chahabiscuit/Miscellaneous_Notebooks/Protein Family Prediction/models/val_classification_report.txt', 'w')\n",
    "f.write(val_clf_report)\n",
    "f.close()\n",
    "df = classification_report_csv(val_clf_report)\n",
    "df.to_csv('C:/Users/chahabiscuit/Miscellaneous_Notebooks/Protein Family Prediction/models/val_classification_report.csv')"
   ]
  },
  {
   "cell_type": "code",
   "execution_count": null,
   "metadata": {},
   "outputs": [],
   "source": [
    "with open('C:/Users/chahabiscuit/Miscellaneous_Notebooks/Protein Family Prediction/models/overall_classification_report.pkl', 'rb') as pkl:\n",
    "    overall_clf_report = pickle.load(pkl)\n",
    "f = open('C:/Users/chahabiscuit/Miscellaneous_Notebooks/Protein Family Prediction/models/overall_classification_report.txt', 'w')\n",
    "f.write(overall_clf_report)\n",
    "f.close()\n",
    "df = classification_report_csv(overall_clf_report)\n",
    "df.to_csv('C:/Users/chahabiscuit/Miscellaneous_Notebooks/Protein Family Prediction/models/overall_classification_report.csv')"
   ]
  },
  {
   "cell_type": "code",
   "execution_count": null,
   "metadata": {},
   "outputs": [],
   "source": [
    "import pandas as pd\n",
    "import pickle\n",
    "import os\n",
    "data_dir = 'C:/Users/chahabiscuit/Miscellaneous_Notebooks/Protein Family Prediction/data'\n",
    "with open(os.path.join(data_dir, 'labels_top_700.pkl'), 'rb') as pkl:\n",
    "    labels = pickle.load(pkl)\n",
    "label2idx = dict(zip(list(set(labels)), [i for i in range(len(list(set(labels))))]))\n",
    "unique_labels = list(label2idx.keys())\n",
    "idxs = [label2idx[label] for label in unique_labels]\n",
    "freq = [labels.count(label) for label in unique_labels]\n",
    "for i in range(len(unique_labels)):\n",
    "    if unique_labels[i].endswith('famil'):\n",
    "        unique_labels[i] = unique_labels[i] + 'y'\n",
    "df = pd.DataFrame(zip(idxs, unique_labels, freq), columns=['Label', 'Protein Family', 'Frequency'])\n",
    "df.to_csv('C:/Users/chahabiscuit/Miscellaneous_Notebooks/Protein Family Prediction/data/103_fam_distribution.csv')\n",
    "df.head()"
   ]
  },
  {
   "cell_type": "code",
   "execution_count": null,
   "metadata": {},
   "outputs": [],
   "source": []
  }
 ],
 "metadata": {
  "kernelspec": {
   "display_name": "Python 3",
   "language": "python",
   "name": "python3"
  },
  "language_info": {
   "codemirror_mode": {
    "name": "ipython",
    "version": 3
   },
   "file_extension": ".py",
   "mimetype": "text/x-python",
   "name": "python",
   "nbconvert_exporter": "python",
   "pygments_lexer": "ipython3",
   "version": "3.7.7"
  }
 },
 "nbformat": 4,
 "nbformat_minor": 4
}
