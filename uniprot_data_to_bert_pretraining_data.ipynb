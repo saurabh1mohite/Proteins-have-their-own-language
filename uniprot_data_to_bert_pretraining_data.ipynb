{
 "cells": [
  {
   "cell_type": "code",
   "execution_count": null,
   "metadata": {},
   "outputs": [],
   "source": [
    "import os\n",
    "import pickle\n",
    "from tqdm.notebook import tqdm\n",
    "import nltk\n",
    "import re\n",
    "import json\n",
    "from collections import Counter"
   ]
  },
  {
   "cell_type": "code",
   "execution_count": null,
   "metadata": {},
   "outputs": [],
   "source": [
    "# load frequent k-mers alongside their probabilities of appearance\n",
    "input_dir = './data'\n",
    "with open(os.path.join(input_dir, 'frequent_kmers.json'), 'r') as fp:\n",
    "    dictionary = json.load(fp)\n",
    "for k, v in dictionary.items():\n",
    "    print(k, v)\n",
    "    break"
   ]
  },
  {
   "cell_type": "code",
   "execution_count": null,
   "metadata": {},
   "outputs": [],
   "source": [
    "def word_prob(word): \n",
    "    if word in dictionary:\n",
    "        return dictionary[word] / total\n",
    "    else:\n",
    "        return 0\n",
    "    \n",
    "def words(text): \n",
    "    return re.findall('[A-Z]+', text) \n",
    "\n",
    "def viterbi_segment(text):\n",
    "    probs, lasts = [1.0], [0]\n",
    "    for i in range(1, len(text) + 1):\n",
    "        prob_k, k = max((probs[j] * word_prob(text[j:i]), j)\n",
    "        for j in range(max(0, i - max_word_length), i))\n",
    "        probs.append(prob_k)\n",
    "        lasts.append(k)\n",
    "    words = []\n",
    "    i = len(text)\n",
    "    while 0 < i:\n",
    "        words.append(text[lasts[i]:i])\n",
    "        i = lasts[i]\n",
    "    words.reverse()\n",
    "    return words, probs[-1]\n",
    "\n",
    "max_word_length = max(map(len, dictionary))\n",
    "total = float(sum(dictionary.values()))\n",
    "print(max_word_length)"
   ]
  },
  {
   "cell_type": "code",
   "execution_count": null,
   "metadata": {},
   "outputs": [],
   "source": [
    "output_dir = './data'\n",
    "with open(os.path.join(output_dir, 'acc2protfam.pkl'), 'rb') as pkl:\n",
    "    acc2protfam = pickle.load(pkl)"
   ]
  },
  {
   "cell_type": "code",
   "execution_count": null,
   "metadata": {},
   "outputs": [],
   "source": [
    "list(acc2protfam.keys())[:10]"
   ]
  },
  {
   "cell_type": "code",
   "execution_count": 12,
   "metadata": {},
   "outputs": [
    {
     "data": {
      "application/vnd.jupyter.widget-view+json": {
       "model_id": "9c138cf7f28b48d5bf521fd79987244b",
       "version_major": 2,
       "version_minor": 0
      },
      "text/plain": [
       "HBox(children=(FloatProgress(value=1.0, bar_style='info', max=1.0), HTML(value='')))"
      ]
     },
     "metadata": {},
     "output_type": "display_data"
    },
    {
     "name": "stdout",
     "output_type": "stream",
     "text": [
      "\n"
     ]
    }
   ],
   "source": [
    "tokenized_data = {}\n",
    "sequence = ''\n",
    "ctr512 = 0\n",
    "ctr1024 = 0\n",
    "\n",
    "flag = False\n",
    "for line in tqdm(open(os.path.join(input_dir, 'uniprot_sprot.dat'))):\n",
    "    if line.startswith('AC'):\n",
    "        acc_id = line[2:].strip(' ')[:-2]\n",
    "    if flag:\n",
    "        if line.startswith('/'):\n",
    "            flag = False\n",
    "            tokenized_data[acc_id] = viterbi_segment(sequence)[0]\n",
    "            if len(tokenized_data[acc_id]) > 512:\n",
    "                ctr512 += 1\n",
    "            elif len(tokenized_data[acc_id]) > 1024:\n",
    "                ctr1024 += 1\n",
    "                print(acc_id, end=', ')\n",
    "            sequence = ''\n",
    "            continue\n",
    "        sequence = sequence + ''.join(line[:-1].split(' '))\n",
    "    if line.startswith('SQ'):\n",
    "        flag = True"
   ]
  },
  {
   "cell_type": "code",
   "execution_count": 16,
   "metadata": {},
   "outputs": [
    {
     "name": "stdout",
     "output_type": "stream",
     "text": [
      "Q6GZX4 ['MAFS', 'AEDV', 'LKE', 'YD', 'RRRR', 'MEAL', 'LLSL', 'YY', 'PND', 'RKLLD', 'YKE', 'WSP', 'PRVQ', 'VE', 'CPKA', 'PV', 'EW', 'NN', 'PPS', 'EK', 'GL', 'IVGH', 'FSGI', 'KY', 'KGEK', 'AQA', 'SE', 'VD', 'VNKM', 'CCW', 'VS', 'KFKD', 'AMR', 'RYQG', 'IQ', 'TC', 'KI', 'PG', 'KVLS', 'DLDA', 'KIKA', 'YNLT', 'VEGV', 'EGFV', 'RYSR', 'VT', 'KQH', 'VAA', 'FLKE', 'LRHS', 'KQ', 'YENV', 'NLI', 'HY', 'ILTD', 'KRVD', 'IQH', 'LEKDL', 'VKDF', 'KALVE', 'SAHR', 'MRQ', 'GHMI', 'NV', 'KYIL', 'YQ', 'LLKK', 'HGH', 'GPDG', 'PDI', 'LT', 'VK', 'T', 'G', 'S', 'K', 'G', 'V', 'L', 'Y', 'D', 'D', 'S', 'F', 'R', 'K', 'I', 'Y', 'T', 'D', 'L', 'G', 'W', 'K', 'F', 'T', 'P', 'L']\n"
     ]
    },
    {
     "data": {
      "text/plain": [
       "563005"
      ]
     },
     "execution_count": 16,
     "metadata": {},
     "output_type": "execute_result"
    }
   ],
   "source": [
    "for k, v in tokenized_data.items():\n",
    "    print(k, v)\n",
    "    break\n",
    "# type(tokenized_data)\n",
    "len(list(tokenized_data.keys()))"
   ]
  },
  {
   "cell_type": "code",
   "execution_count": 41,
   "metadata": {},
   "outputs": [
    {
     "ename": "EOFError",
     "evalue": "Ran out of input",
     "output_type": "error",
     "traceback": [
      "\u001b[1;31m---------------------------------------------------------------------------\u001b[0m",
      "\u001b[1;31mEOFError\u001b[0m                                  Traceback (most recent call last)",
      "\u001b[1;32m<ipython-input-41-441531fb6573>\u001b[0m in \u001b[0;36m<module>\u001b[1;34m\u001b[0m\n\u001b[0;32m      2\u001b[0m \u001b[0moutput_dir\u001b[0m \u001b[1;33m=\u001b[0m \u001b[1;34m'C:/Users/chahabiscuit/Miscellaneous_Notebooks/Protein Family Prediction/data'\u001b[0m\u001b[1;33m\u001b[0m\u001b[1;33m\u001b[0m\u001b[0m\n\u001b[0;32m      3\u001b[0m \u001b[1;32mwith\u001b[0m \u001b[0mopen\u001b[0m\u001b[1;33m(\u001b[0m\u001b[0mos\u001b[0m\u001b[1;33m.\u001b[0m\u001b[0mpath\u001b[0m\u001b[1;33m.\u001b[0m\u001b[0mjoin\u001b[0m\u001b[1;33m(\u001b[0m\u001b[0moutput_dir\u001b[0m\u001b[1;33m,\u001b[0m \u001b[1;34m'tokenized_fasta.pkl'\u001b[0m\u001b[1;33m)\u001b[0m\u001b[1;33m,\u001b[0m \u001b[1;34m'rb'\u001b[0m\u001b[1;33m)\u001b[0m \u001b[1;32mas\u001b[0m \u001b[0mpkl\u001b[0m\u001b[1;33m:\u001b[0m\u001b[1;33m\u001b[0m\u001b[1;33m\u001b[0m\u001b[0m\n\u001b[1;32m----> 4\u001b[1;33m     \u001b[0mtokenized_data\u001b[0m \u001b[1;33m=\u001b[0m \u001b[0mpickle\u001b[0m\u001b[1;33m.\u001b[0m\u001b[0mload\u001b[0m\u001b[1;33m(\u001b[0m\u001b[0mpkl\u001b[0m\u001b[1;33m)\u001b[0m\u001b[1;33m\u001b[0m\u001b[1;33m\u001b[0m\u001b[0m\n\u001b[0m",
      "\u001b[1;31mEOFError\u001b[0m: Ran out of input"
     ]
    }
   ],
   "source": [
    "output_dir = './data'\n",
    "with open(os.path.join(output_dir, 'tokenized_fasta.pkl'), 'wb') as pkl:\n",
    "    pickle.dump(tokenized_data, pkl)"
   ]
  },
  {
   "cell_type": "code",
   "execution_count": 26,
   "metadata": {},
   "outputs": [
    {
     "data": {
      "application/vnd.jupyter.widget-view+json": {
       "model_id": "fd2e78c4ab004933bb00f569c03b6169",
       "version_major": 2,
       "version_minor": 0
      },
      "text/plain": [
       "HBox(children=(FloatProgress(value=0.0, max=563005.0), HTML(value='')))"
      ]
     },
     "metadata": {},
     "output_type": "display_data"
    },
    {
     "name": "stdout",
     "output_type": "stream",
     "text": [
      "\n"
     ]
    }
   ],
   "source": [
    "tagged_tokenized_data = []\n",
    "for k, v in tqdm(tokenized_data.items()):\n",
    "    if k in acc2protfam.keys():\n",
    "        tagged_tokenized_data.append({\n",
    "            'acc_id': k,\n",
    "            'seq': v,\n",
    "            'fam': acc2protfam[k],\n",
    "        })\n",
    "with open(os.path.join(output_dir, 'tagged_tokenized_data.pkl'), 'wb') as pkl:\n",
    "    pickle.dump(tagged_tokenized_data, pkl)"
   ]
  },
  {
   "cell_type": "code",
   "execution_count": 27,
   "metadata": {},
   "outputs": [
    {
     "data": {
      "text/plain": [
       "{'acc_id': 'Q91G88',\n",
       " 'seq': ['MDS',\n",
       "  'LNEV',\n",
       "  'CY',\n",
       "  'EQIK',\n",
       "  'GT',\n",
       "  'FYK',\n",
       "  'GLFG',\n",
       "  'DF',\n",
       "  'PL',\n",
       "  'IVD',\n",
       "  'KK',\n",
       "  'TGCF',\n",
       "  'NA',\n",
       "  'TK',\n",
       "  'LC',\n",
       "  'VLGG',\n",
       "  'KRF',\n",
       "  'VDW',\n",
       "  'NKTL',\n",
       "  'RS',\n",
       "  'KKLI',\n",
       "  'QYY',\n",
       "  'ET',\n",
       "  'RC',\n",
       "  'DIK',\n",
       "  'TE',\n",
       "  'SLLY',\n",
       "  'EIK',\n",
       "  'GD',\n",
       "  'NN',\n",
       "  'DEIT',\n",
       "  'KQI',\n",
       "  'TGTY',\n",
       "  'LPKE',\n",
       "  'FI',\n",
       "  'LDIA',\n",
       "  'SWIS',\n",
       "  'VE',\n",
       "  'FYDK',\n",
       "  'CN',\n",
       "  'NII',\n",
       "  'INYF',\n",
       "  'VNEY',\n",
       "  'KT',\n",
       "  'MDKK',\n",
       "  'TLQS',\n",
       "  'KINE',\n",
       "  'VE',\n",
       "  'EKMQ',\n",
       "  'KLLN',\n",
       "  'EKEEE',\n",
       "  'LQE',\n",
       "  'KNDK',\n",
       "  'IDEL',\n",
       "  'ILFS',\n",
       "  'KR',\n",
       "  'MEE',\n",
       "  'DR',\n",
       "  'KK',\n",
       "  'DREM',\n",
       "  'MIKQ',\n",
       "  'EKM',\n",
       "  'LRE',\n",
       "  'LGIHL',\n",
       "  'ED',\n",
       "  'VSSQ',\n",
       "  'NN',\n",
       "  'ELIEK',\n",
       "  'VDE',\n",
       "  'QVEQ',\n",
       "  'NAVL',\n",
       "  'NFK',\n",
       "  'ID',\n",
       "  'NI',\n",
       "  'Q',\n",
       "  'N',\n",
       "  'K',\n",
       "  'L',\n",
       "  'E',\n",
       "  'I',\n",
       "  'A',\n",
       "  'V',\n",
       "  'E',\n",
       "  'D',\n",
       "  'R',\n",
       "  'A',\n",
       "  'P',\n",
       "  'Q',\n",
       "  'P',\n",
       "  'K',\n",
       "  'Q',\n",
       "  'N',\n",
       "  'L',\n",
       "  'K',\n",
       "  'R',\n",
       "  'E',\n",
       "  'R',\n",
       "  'F',\n",
       "  'I',\n",
       "  'L',\n",
       "  'L',\n",
       "  'K',\n",
       "  'R',\n",
       "  'N',\n",
       "  'D',\n",
       "  'D',\n",
       "  'Y',\n",
       "  'Y',\n",
       "  'P',\n",
       "  'Y',\n",
       "  'Y',\n",
       "  'T',\n",
       "  'I',\n",
       "  'R',\n",
       "  'A',\n",
       "  'Q',\n",
       "  'D',\n",
       "  'I',\n",
       "  'N',\n",
       "  'A',\n",
       "  'R',\n",
       "  'S',\n",
       "  'A',\n",
       "  'L',\n",
       "  'K',\n",
       "  'R',\n",
       "  'Q',\n",
       "  'K',\n",
       "  'N',\n",
       "  'L',\n",
       "  'Y',\n",
       "  'N',\n",
       "  'E',\n",
       "  'V',\n",
       "  'S',\n",
       "  'V',\n",
       "  'L',\n",
       "  'L',\n",
       "  'D',\n",
       "  'L',\n",
       "  'T',\n",
       "  'C',\n",
       "  'H',\n",
       "  'P',\n",
       "  'N',\n",
       "  'S',\n",
       "  'K',\n",
       "  'T',\n",
       "  'L',\n",
       "  'Y',\n",
       "  'V',\n",
       "  'R',\n",
       "  'V',\n",
       "  'K',\n",
       "  'D',\n",
       "  'E',\n",
       "  'L',\n",
       "  'K',\n",
       "  'Q',\n",
       "  'K',\n",
       "  'G',\n",
       "  'V',\n",
       "  'V',\n",
       "  'F',\n",
       "  'N',\n",
       "  'L',\n",
       "  'C',\n",
       "  'K',\n",
       "  'V',\n",
       "  'S',\n",
       "  'I',\n",
       "  'S',\n",
       "  'N',\n",
       "  'S',\n",
       "  'K',\n",
       "  'I',\n",
       "  'N',\n",
       "  'E',\n",
       "  'E',\n",
       "  'E',\n",
       "  'L',\n",
       "  'I',\n",
       "  'K',\n",
       "  'A',\n",
       "  'M',\n",
       "  'E',\n",
       "  'T',\n",
       "  'I',\n",
       "  'N',\n",
       "  'D',\n",
       "  'E',\n",
       "  'K',\n",
       "  'R',\n",
       "  'D',\n",
       "  'V'],\n",
       " 'fam': 'IIV-6 006L/238R/313L/468L family'}"
      ]
     },
     "execution_count": 27,
     "metadata": {},
     "output_type": "execute_result"
    }
   ],
   "source": [
    "tagged_tokenized_data[0]"
   ]
  },
  {
   "cell_type": "code",
   "execution_count": 30,
   "metadata": {},
   "outputs": [
    {
     "data": {
      "application/vnd.jupyter.widget-view+json": {
       "model_id": "a80c88d620764a24aa915a8b3c0e61ed",
       "version_major": 2,
       "version_minor": 0
      },
      "text/plain": [
       "HBox(children=(FloatProgress(value=0.0, max=403495.0), HTML(value='')))"
      ]
     },
     "metadata": {},
     "output_type": "display_data"
    },
    {
     "name": "stdout",
     "output_type": "stream",
     "text": [
      "\n"
     ]
    }
   ],
   "source": [
    "query_data_train = []\n",
    "labels = []\n",
    "for entry in tqdm(tagged_tokenized_data):\n",
    "    query_data_train.append(' '.join(entry['seq']))\n",
    "    labels.append(entry['fam'])\n",
    "with open(os.path.join(output_dir, 'query_data_train.pkl'), 'wb') as pkl:\n",
    "    pickle.dump(query_data_train, pkl)\n",
    "with open(os.path.join(output_dir, 'labels.pkl'), 'wb') as pkl:\n",
    "    pickle.dump(labels, pkl)"
   ]
  },
  {
   "cell_type": "code",
   "execution_count": null,
   "metadata": {},
   "outputs": [],
   "source": [
    "query_data_train[0], labels[0]"
   ]
  },
  {
   "cell_type": "code",
   "execution_count": 1,
   "metadata": {},
   "outputs": [
    {
     "data": {
      "text/plain": [
       "[195, 691, 178, 200, 88, 207, 205, 38, 39, 38]"
      ]
     },
     "execution_count": 1,
     "metadata": {},
     "output_type": "execute_result"
    }
   ],
   "source": [
    "import pickle\n",
    "import os\n",
    "output_dir = './data'\n",
    "with open(os.path.join(output_dir, 'query_data_train.pkl'), 'rb') as pkl:\n",
    "    query_data_train = pickle.load(pkl)\n",
    "lens = [len(i.split(' ')) for i in query_data_train]\n",
    "lens[:10]"
   ]
  },
  {
   "cell_type": "code",
   "execution_count": 2,
   "metadata": {},
   "outputs": [
    {
     "data": {
      "image/png": "[encoded data removed]",
      "text/plain": [
       "<Figure size 432x288 with 1 Axes>"
      ]
     },
     "metadata": {
      "needs_background": "light"
     },
     "output_type": "display_data"
    }
   ],
   "source": [
    "import matplotlib.pyplot as plt\n",
    "plt.hist(lens, bins=100)\n",
    "plt.xlim(0, 3000)\n",
    "plt.show()"
   ]
  },
  {
   "cell_type": "code",
   "execution_count": 3,
   "metadata": {},
   "outputs": [
    {
     "data": {
      "text/plain": [
       "(27448, 6.802562609202097)"
      ]
     },
     "execution_count": 3,
     "metadata": {},
     "output_type": "execute_result"
    }
   ],
   "source": [
    "ctr512 = 0\n",
    "for i in query_data_train:\n",
    "    if len(i.split(' '))>512:\n",
    "        ctr512 += 1\n",
    "ctr512, 100*ctr512/len(query_data_train)"
   ]
  },
  {
   "cell_type": "code",
   "execution_count": 4,
   "metadata": {},
   "outputs": [
    {
     "data": {
      "text/plain": [
       "['',\n",
       " 'spermadhesin family',\n",
       " 'RNR ribonuclease family',\n",
       " 'RNA polymerase subunit omega family',\n",
       " 'HMG-CoA lyase family',\n",
       " 'hunchback C2H2-type zinc-finger protein family',\n",
       " 'LptD family',\n",
       " 'comF family',\n",
       " 'TO family',\n",
       " 'PCP4 family']"
      ]
     },
     "execution_count": 4,
     "metadata": {},
     "output_type": "execute_result"
    }
   ],
   "source": [
    "with open(os.path.join(output_dir, 'labels.pkl'), 'rb') as pkl:\n",
    "    labels = pickle.load(pkl)\n",
    "fams = dict(zip(list(set(labels)), [0 for i in range(len(list(set(labels))))]))\n",
    "for i in labels:\n",
    "    fams[i] += 1\n",
    "list(fams.keys())[:10]"
   ]
  },
  {
   "cell_type": "code",
   "execution_count": 14,
   "metadata": {},
   "outputs": [
    {
     "data": {
      "text/plain": [
       "103"
      ]
     },
     "execution_count": 14,
     "metadata": {},
     "output_type": "execute_result"
    }
   ],
   "source": [
    "ctr = 0\n",
    "top_fams = []\n",
    "for k, v in fams.items():\n",
    "    if v > 700:\n",
    "        top_fams.append(k)\n",
    "        ctr += 1\n",
    "len(top_fams)"
   ]
  },
  {
   "cell_type": "code",
   "execution_count": 15,
   "metadata": {},
   "outputs": [
    {
     "data": {
      "text/plain": [
       "(112401, 112401)"
      ]
     },
     "execution_count": 15,
     "metadata": {},
     "output_type": "execute_result"
    }
   ],
   "source": [
    "query_data_train_top = []\n",
    "labels_top = []\n",
    "\n",
    "for i in range(len(labels)):\n",
    "    if labels[i] in top_fams:\n",
    "        labels_top.append(labels[i])\n",
    "        query_data_train_top.append(query_data_train[i])\n",
    "len(query_data_train_top), len(labels_top)"
   ]
  },
  {
   "cell_type": "code",
   "execution_count": 16,
   "metadata": {},
   "outputs": [],
   "source": [
    "with open(os.path.join(output_dir, 'query_data_train_top_700.pkl'), 'wb') as pkl:\n",
    "    pickle.dump(query_data_train_top, pkl)\n",
    "with open(os.path.join(output_dir, 'labels_top_700.pkl'), 'wb') as pkl:\n",
    "    pickle.dump(labels_top, pkl)"
   ]
  },
  {
   "cell_type": "code",
   "execution_count": 12,
   "metadata": {},
   "outputs": [
    {
     "data": {
      "text/plain": [
       "(775, 775)"
      ]
     },
     "execution_count": 12,
     "metadata": {},
     "output_type": "execute_result"
    }
   ],
   "source": [
    "from sklearn.model_selection import train_test_split\n",
    "X_train, X_test, y_train, y_test = train_test_split(query_data_train_top, labels_top, random_state=42)\n",
    "len(list(set(y_train))), len(list(set(y_test)))"
   ]
  },
  {
   "cell_type": "code",
   "execution_count": 50,
   "metadata": {},
   "outputs": [],
   "source": [
    "with open(os.path.join(output_dir, 'split_data/X_train.pkl'), 'wb') as pkl:\n",
    "    pickle.dump(X_train, pkl)\n",
    "with open(os.path.join(output_dir, 'split_data/X_test.pkl'), 'wb') as pkl:\n",
    "    pickle.dump(X_test, pkl)\n",
    "with open(os.path.join(output_dir, 'split_data/y_train.pkl'), 'wb') as pkl:\n",
    "    pickle.dump(y_train, pkl)\n",
    "with open(os.path.join(output_dir, 'split_data/y_test.pkl'), 'wb') as pkl:\n",
    "    pickle.dump(y_test, pkl)"
   ]
  },
  {
   "cell_type": "code",
   "execution_count": 13,
   "metadata": {},
   "outputs": [
    {
     "data": {
      "text/plain": [
       "{'acc_id': 'Q91G88',\n",
       " 'seq': ['MDS',\n",
       "  'LNEV',\n",
       "  'CY',\n",
       "  'EQIK',\n",
       "  'GT',\n",
       "  'FYK',\n",
       "  'GLFG',\n",
       "  'DF',\n",
       "  'PL',\n",
       "  'IVD',\n",
       "  'KK',\n",
       "  'TGCF',\n",
       "  'NA',\n",
       "  'TK',\n",
       "  'LC',\n",
       "  'VLGG',\n",
       "  'KRF',\n",
       "  'VDW',\n",
       "  'NKTL',\n",
       "  'RS',\n",
       "  'KKLI',\n",
       "  'QYY',\n",
       "  'ET',\n",
       "  'RC',\n",
       "  'DIK',\n",
       "  'TE',\n",
       "  'SLLY',\n",
       "  'EIK',\n",
       "  'GD',\n",
       "  'NN',\n",
       "  'DEIT',\n",
       "  'KQI',\n",
       "  'TGTY',\n",
       "  'LPKE',\n",
       "  'FI',\n",
       "  'LDIA',\n",
       "  'SWIS',\n",
       "  'VE',\n",
       "  'FYDK',\n",
       "  'CN',\n",
       "  'NII',\n",
       "  'INYF',\n",
       "  'VNEY',\n",
       "  'KT',\n",
       "  'MDKK',\n",
       "  'TLQS',\n",
       "  'KINE',\n",
       "  'VE',\n",
       "  'EKMQ',\n",
       "  'KLLN',\n",
       "  'EKEEE',\n",
       "  'LQE',\n",
       "  'KNDK',\n",
       "  'IDEL',\n",
       "  'ILFS',\n",
       "  'KR',\n",
       "  'MEE',\n",
       "  'DR',\n",
       "  'KK',\n",
       "  'DREM',\n",
       "  'MIKQ',\n",
       "  'EKM',\n",
       "  'LRE',\n",
       "  'LGIHL',\n",
       "  'ED',\n",
       "  'VSSQ',\n",
       "  'NN',\n",
       "  'ELIEK',\n",
       "  'VDE',\n",
       "  'QVEQ',\n",
       "  'NAVL',\n",
       "  'NFK',\n",
       "  'ID',\n",
       "  'NI',\n",
       "  'Q',\n",
       "  'N',\n",
       "  'K',\n",
       "  'L',\n",
       "  'E',\n",
       "  'I',\n",
       "  'A',\n",
       "  'V',\n",
       "  'E',\n",
       "  'D',\n",
       "  'R',\n",
       "  'A',\n",
       "  'P',\n",
       "  'Q',\n",
       "  'P',\n",
       "  'K',\n",
       "  'Q',\n",
       "  'N',\n",
       "  'L',\n",
       "  'K',\n",
       "  'R',\n",
       "  'E',\n",
       "  'R',\n",
       "  'F',\n",
       "  'I',\n",
       "  'L',\n",
       "  'L',\n",
       "  'K',\n",
       "  'R',\n",
       "  'N',\n",
       "  'D',\n",
       "  'D',\n",
       "  'Y',\n",
       "  'Y',\n",
       "  'P',\n",
       "  'Y',\n",
       "  'Y',\n",
       "  'T',\n",
       "  'I',\n",
       "  'R',\n",
       "  'A',\n",
       "  'Q',\n",
       "  'D',\n",
       "  'I',\n",
       "  'N',\n",
       "  'A',\n",
       "  'R',\n",
       "  'S',\n",
       "  'A',\n",
       "  'L',\n",
       "  'K',\n",
       "  'R',\n",
       "  'Q',\n",
       "  'K',\n",
       "  'N',\n",
       "  'L',\n",
       "  'Y',\n",
       "  'N',\n",
       "  'E',\n",
       "  'V',\n",
       "  'S',\n",
       "  'V',\n",
       "  'L',\n",
       "  'L',\n",
       "  'D',\n",
       "  'L',\n",
       "  'T',\n",
       "  'C',\n",
       "  'H',\n",
       "  'P',\n",
       "  'N',\n",
       "  'S',\n",
       "  'K',\n",
       "  'T',\n",
       "  'L',\n",
       "  'Y',\n",
       "  'V',\n",
       "  'R',\n",
       "  'V',\n",
       "  'K',\n",
       "  'D',\n",
       "  'E',\n",
       "  'L',\n",
       "  'K',\n",
       "  'Q',\n",
       "  'K',\n",
       "  'G',\n",
       "  'V',\n",
       "  'V',\n",
       "  'F',\n",
       "  'N',\n",
       "  'L',\n",
       "  'C',\n",
       "  'K',\n",
       "  'V',\n",
       "  'S',\n",
       "  'I',\n",
       "  'S',\n",
       "  'N',\n",
       "  'S',\n",
       "  'K',\n",
       "  'I',\n",
       "  'N',\n",
       "  'E',\n",
       "  'E',\n",
       "  'E',\n",
       "  'L',\n",
       "  'I',\n",
       "  'K',\n",
       "  'A',\n",
       "  'M',\n",
       "  'E',\n",
       "  'T',\n",
       "  'I',\n",
       "  'N',\n",
       "  'D',\n",
       "  'E',\n",
       "  'K',\n",
       "  'R',\n",
       "  'D',\n",
       "  'V'],\n",
       " 'fam': 'IIV-6 006L/238R/313L/468L family'}"
      ]
     },
     "execution_count": 13,
     "metadata": {},
     "output_type": "execute_result"
    }
   ],
   "source": [
    "with open(os.path.join(output_dir, 'tagged_tokenized_data.pkl'), 'rb') as pkl:\n",
    "    tagged_tokenized_data = pickle.load(pkl)\n",
    "tagged_tokenized_data[0]"
   ]
  },
  {
   "cell_type": "code",
   "execution_count": 14,
   "metadata": {},
   "outputs": [
    {
     "data": {
      "text/plain": [
       "('Q6GZV6',\n",
       " 'protein kinase superfamil',\n",
       " 'MATN YCD EFER NPTR NP RTGR TIKR GG PV FR ALERE CSDG AA RVFP AAAV RG AAAA RAA SPR VAAA SPCP EFAR DPT RNPR TGRP IKR GG PV FR ALERE CA DY GGAS PRRV SP ARA FPN RRV SP ARR QSPA EAAEA SPCP EFAR DPTR NP RTGR TIKR GG PTYR ALEAE CAD YG RLSP IR SPWS DW SSTG LS PF RSH MRKS PA RR SP ARR SP ARR SLAR YTEH LT SDSE TEVD Y D A R N V I R S Q V G P G G V C E R F A A D P T R N P V T G S P L S R N D P L Y T D L M E I C K G Y P D T P L T K S L T G E G T D D D T C E A F C R D P T R N P V T G Q K M R R N G I E Y Q M F A E E C D C S G I S R P S G V S R T S G T S G S S G S S A S S R P P N S F E A P G A S S R P P N S F E A S G A A R V P G T P S V S R G E P R W M S S I S T R H N Y D E S N P M S V A F R L R H V K D I R K F L R T V R P G R S G F C A T D K G G W L G S A A V S D N V I G Q G S W G S V H M V K F R D F P E E F V V K E A V L M S V S E K H R Y K P T V V W D E W A A G S V P D E V V V N N M V T E I A A T G M T P F V P L T A G A G A C D S C N P Q L L E K A A K V T K C Y L Q A M E A A D F S L D R V L P T M S P D Q A A S A L A Q I L L G L Q S L Q T T L G I M H N D I K A H N I L V K R V P P G G Y W K V T D S F N G Q V F Y I P N E G Y L C M L A D Y G V V R L V K P A V G M D T L Y G T R N A R F V P R D V G R W G K G A G T E Y V V T P I R S K I S V V V R G G R F V G V E P N K A V R Y W K N T D T S K V G D V I T T N N V F Y M G Y D I E P D M Q V Q L D D T N S F P V W E S R G D V A D C V R T F V G G K R A S Q P G F H R L F Y K K T G S A W E K A A E T V A K Q N P L F S G F T L D G S G L K Y I R A A T A C A Y I F P G M A V P R P G E R E I E S F T M')"
      ]
     },
     "execution_count": 14,
     "metadata": {},
     "output_type": "execute_result"
    }
   ],
   "source": [
    "labels_top = []\n",
    "query_data_train_top = []\n",
    "acc_ids_top = []\n",
    "for entry in tagged_tokenized_data:\n",
    "    if entry['fam'] in top_fams:\n",
    "        labels_top.append(entry['fam'])\n",
    "        query_data_train_top.append(' '.join(entry['seq']))\n",
    "        acc_ids_top.append(entry['acc_id'])\n",
    "acc_ids_top[0], labels_top[0], query_data_train_top[0]"
   ]
  },
  {
   "cell_type": "code",
   "execution_count": 15,
   "metadata": {},
   "outputs": [],
   "source": [
    "with open(os.path.join(output_dir, 'query_data_train_top_100.pkl'), 'wb') as pkl:\n",
    "    pickle.dump(query_data_train_top, pkl)\n",
    "with open(os.path.join(output_dir, 'labels_top_100.pkl'), 'wb') as pkl:\n",
    "    pickle.dump(labels_top, pkl)\n",
    "with open(os.path.join(output_dir, 'acc_ids_top_100.pkl'), 'wb') as pkl:\n",
    "    pickle.dump(acc_ids_top, pkl)"
   ]
  },
  {
   "cell_type": "code",
   "execution_count": null,
   "metadata": {},
   "outputs": [],
   "source": []
  }
 ],
 "metadata": {
  "kernelspec": {
   "display_name": "Python 3",
   "language": "python",
   "name": "python3"
  },
  "language_info": {
   "codemirror_mode": {
    "name": "ipython",
    "version": 3
   },
   "file_extension": ".py",
   "mimetype": "text/x-python",
   "name": "python",
   "nbconvert_exporter": "python",
   "pygments_lexer": "ipython3",
   "version": "3.7.7"
  }
 },
 "nbformat": 4,
 "nbformat_minor": 4
}
